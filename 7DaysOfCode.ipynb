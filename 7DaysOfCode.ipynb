{
 "cells": [
  {
   "attachments": {},
   "cell_type": "markdown",
   "id": "5b032201",
   "metadata": {},
   "source": [
    "<img src='https://res.cloudinary.com/practicaldev/image/fetch/s--0D_ihm0g--/c_imagga_scale,f_auto,fl_progressive,h_420,q_auto,w_1000/https://dev-to-uploads.s3.amazonaws.com/uploads/articles/4hxawn5gsmzyf8omfuxa.png' width=800 align='left'>"
   ]
  },
  {
   "attachments": {},
   "cell_type": "markdown",
   "id": "9f113633",
   "metadata": {},
   "source": [
    "_Autor: Evandro Avellar_"
   ]
  },
  {
   "attachments": {},
   "cell_type": "markdown",
   "id": "80078496",
   "metadata": {},
   "source": [
    "# Dia 01 - Importar Dados"
   ]
  },
  {
   "attachments": {},
   "cell_type": "markdown",
   "id": "d4c1ca7f",
   "metadata": {},
   "source": [
    "Dados de empréstimos dos acervos do sistema de bibliotecas da UFRN. "
   ]
  },
  {
   "cell_type": "code",
   "execution_count": 1,
   "id": "eac4e411",
   "metadata": {},
   "outputs": [],
   "source": [
    "import pandas as pd\n",
    "import os"
   ]
  },
  {
   "attachments": {},
   "cell_type": "markdown",
   "id": "445114bf",
   "metadata": {},
   "source": [
    "## Coleta e Organização dos Dados"
   ]
  },
  {
   "attachments": {},
   "cell_type": "markdown",
   "id": "3ad7449e",
   "metadata": {},
   "source": [
    "## Unificar em um único Dataframe todos os dados pertinentes para a análise. "
   ]
  },
  {
   "attachments": {},
   "cell_type": "markdown",
   "id": "0c5686d0",
   "metadata": {},
   "source": [
    "### Dados de empréstimos\n",
    "\n",
    "* Listando os arquivos csv de Empréstimos para unificá-los num único DataFrame.\n",
    "\n",
    "> https://docs.python.org/pt-br/3/library/os.html#os.listdir"
   ]
  },
  {
   "cell_type": "code",
   "execution_count": 2,
   "id": "44741950",
   "metadata": {},
   "outputs": [
    {
     "data": {
      "text/plain": [
       "['emprestimos-20101.csv',\n",
       " 'emprestimos-20102.csv',\n",
       " 'emprestimos-20111.csv',\n",
       " 'emprestimos-20112.csv',\n",
       " 'emprestimos-20121.csv',\n",
       " 'emprestimos-20122.csv',\n",
       " 'emprestimos-20131.csv',\n",
       " 'emprestimos-20132.csv',\n",
       " 'emprestimos-20141.csv',\n",
       " 'emprestimos-20142.csv',\n",
       " 'emprestimos-20151.csv',\n",
       " 'emprestimos-20152.csv',\n",
       " 'emprestimos-20161.csv',\n",
       " 'emprestimos-20162.csv',\n",
       " 'emprestimos-20171.csv',\n",
       " 'emprestimos-20172.csv',\n",
       " 'emprestimos-20181.csv',\n",
       " 'emprestimos-20182.csv',\n",
       " 'emprestimos-20191.csv',\n",
       " 'emprestimos-20192.csv',\n",
       " 'emprestimos-20201.csv']"
      ]
     },
     "execution_count": 2,
     "metadata": {},
     "output_type": "execute_result"
    }
   ],
   "source": [
    "arquivos = os.listdir('./Dia_1-Importando_dados/Datasets/dados_emprestimos/')\n",
    "arquivos"
   ]
  },
  {
   "attachments": {},
   "cell_type": "markdown",
   "id": "fca532a7",
   "metadata": {},
   "source": [
    "Após listar os arquivos a serem importados, eles serão unificados em um único DataFrame através do método ```pd.concat()``` do Pandas.\n",
    "\n",
    "> https://pandas.pydata.org/docs/reference/api/pandas.concat.html"
   ]
  },
  {
   "cell_type": "code",
   "execution_count": 3,
   "id": "2b2d9057",
   "metadata": {},
   "outputs": [],
   "source": [
    "tabela_x = pd.DataFrame()\n",
    "\n",
    "for arquivo in arquivos:\n",
    "    tabela_1 = pd.read_csv(f'./Dia_1-Importando_dados/Datasets/dados_emprestimos/{arquivo}')\n",
    "    tabela_x = pd.concat([tabela_x, tabela_1])    "
   ]
  },
  {
   "cell_type": "code",
   "execution_count": 4,
   "id": "d121fb8e",
   "metadata": {},
   "outputs": [],
   "source": [
    "tabela_x.reset_index(inplace=True)"
   ]
  },
  {
   "attachments": {},
   "cell_type": "markdown",
   "id": "ce2dea56",
   "metadata": {},
   "source": [
    "### Dados do acervo"
   ]
  },
  {
   "attachments": {},
   "cell_type": "markdown",
   "id": "088051e7",
   "metadata": {},
   "source": [
    "Para utilização do Pandas na leitura de arquivo .parquet é necessário instalar a biblioteca ___pyarrow___ e o método ___pd.read_parquet()___\n",
    "\n",
    "https://pandas.pydata.org/docs/reference/api/pandas.read_parquet.html"
   ]
  },
  {
   "cell_type": "code",
   "execution_count": 5,
   "id": "850b1f92",
   "metadata": {},
   "outputs": [
    {
     "name": "stdout",
     "output_type": "stream",
     "text": [
      "Requirement already satisfied: pyarrow in c:\\users\\c050654\\anaconda3\\lib\\site-packages (12.0.1)\n",
      "Requirement already satisfied: numpy>=1.16.6 in c:\\users\\c050654\\anaconda3\\lib\\site-packages (from pyarrow) (1.21.5)\n"
     ]
    },
    {
     "name": "stderr",
     "output_type": "stream",
     "text": [
      "\n",
      "[notice] A new release of pip is available: 23.0.1 -> 23.1.2\n",
      "[notice] To update, run: python.exe -m pip install --upgrade pip\n"
     ]
    }
   ],
   "source": [
    "!pip install pyarrow"
   ]
  },
  {
   "cell_type": "code",
   "execution_count": 6,
   "id": "31b4e11f",
   "metadata": {},
   "outputs": [
    {
     "data": {
      "text/html": [
       "<div>\n",
       "<style scoped>\n",
       "    .dataframe tbody tr th:only-of-type {\n",
       "        vertical-align: middle;\n",
       "    }\n",
       "\n",
       "    .dataframe tbody tr th {\n",
       "        vertical-align: top;\n",
       "    }\n",
       "\n",
       "    .dataframe thead th {\n",
       "        text-align: right;\n",
       "    }\n",
       "</style>\n",
       "<table border=\"1\" class=\"dataframe\">\n",
       "  <thead>\n",
       "    <tr style=\"text-align: right;\">\n",
       "      <th></th>\n",
       "      <th>id_exemplar</th>\n",
       "      <th>codigo_barras</th>\n",
       "      <th>colecao</th>\n",
       "      <th>biblioteca</th>\n",
       "      <th>status_material</th>\n",
       "      <th>localizacao</th>\n",
       "      <th>registro_sistema</th>\n",
       "    </tr>\n",
       "    <tr>\n",
       "      <th>index</th>\n",
       "      <th></th>\n",
       "      <th></th>\n",
       "      <th></th>\n",
       "      <th></th>\n",
       "      <th></th>\n",
       "      <th></th>\n",
       "      <th></th>\n",
       "    </tr>\n",
       "  </thead>\n",
       "  <tbody>\n",
       "    <tr>\n",
       "      <th>0</th>\n",
       "      <td>5</td>\n",
       "      <td>L000003</td>\n",
       "      <td>Acervo Circulante</td>\n",
       "      <td>Biblioteca Central Zila Mamede</td>\n",
       "      <td>REGULAR</td>\n",
       "      <td>694</td>\n",
       "      <td>1</td>\n",
       "    </tr>\n",
       "    <tr>\n",
       "      <th>1</th>\n",
       "      <td>4</td>\n",
       "      <td>L000002</td>\n",
       "      <td>Acervo Circulante</td>\n",
       "      <td>Biblioteca Central Zila Mamede</td>\n",
       "      <td>REGULAR</td>\n",
       "      <td>688</td>\n",
       "      <td>1</td>\n",
       "    </tr>\n",
       "    <tr>\n",
       "      <th>2</th>\n",
       "      <td>3</td>\n",
       "      <td>L000001</td>\n",
       "      <td>Acervo Circulante</td>\n",
       "      <td>Biblioteca Central Zila Mamede</td>\n",
       "      <td>ESPECIAL</td>\n",
       "      <td>638</td>\n",
       "      <td>1</td>\n",
       "    </tr>\n",
       "    <tr>\n",
       "      <th>3</th>\n",
       "      <td>7</td>\n",
       "      <td>L000114</td>\n",
       "      <td>Acervo Circulante</td>\n",
       "      <td>Biblioteca Central Zila Mamede</td>\n",
       "      <td>REGULAR</td>\n",
       "      <td>616</td>\n",
       "      <td>5</td>\n",
       "    </tr>\n",
       "    <tr>\n",
       "      <th>5</th>\n",
       "      <td>10</td>\n",
       "      <td>L000041</td>\n",
       "      <td>Acervo Circulante</td>\n",
       "      <td>Biblioteca Central Zila Mamede</td>\n",
       "      <td>ESPECIAL</td>\n",
       "      <td>657</td>\n",
       "      <td>15</td>\n",
       "    </tr>\n",
       "    <tr>\n",
       "      <th>...</th>\n",
       "      <td>...</td>\n",
       "      <td>...</td>\n",
       "      <td>...</td>\n",
       "      <td>...</td>\n",
       "      <td>...</td>\n",
       "      <td>...</td>\n",
       "      <td>...</td>\n",
       "    </tr>\n",
       "    <tr>\n",
       "      <th>568580</th>\n",
       "      <td>1353472</td>\n",
       "      <td>2021011150</td>\n",
       "      <td>Acervo Circulante</td>\n",
       "      <td>Biblioteca Setorial do Núcleo de Educação da I...</td>\n",
       "      <td>REGULAR</td>\n",
       "      <td>951</td>\n",
       "      <td>268231</td>\n",
       "    </tr>\n",
       "    <tr>\n",
       "      <th>568581</th>\n",
       "      <td>1353473</td>\n",
       "      <td>2019013454</td>\n",
       "      <td>Acervo Circulante</td>\n",
       "      <td>Biblioteca Central Zila Mamede</td>\n",
       "      <td>ESPECIAL</td>\n",
       "      <td>997</td>\n",
       "      <td>268233</td>\n",
       "    </tr>\n",
       "    <tr>\n",
       "      <th>568582</th>\n",
       "      <td>1353474</td>\n",
       "      <td>2019012811</td>\n",
       "      <td>Acervo Circulante</td>\n",
       "      <td>Biblioteca Central Zila Mamede</td>\n",
       "      <td>ESPECIAL</td>\n",
       "      <td>987</td>\n",
       "      <td>268234</td>\n",
       "    </tr>\n",
       "    <tr>\n",
       "      <th>568583</th>\n",
       "      <td>1353475</td>\n",
       "      <td>2019013451</td>\n",
       "      <td>Acervo Circulante</td>\n",
       "      <td>Biblioteca Central Zila Mamede</td>\n",
       "      <td>ESPECIAL</td>\n",
       "      <td>764</td>\n",
       "      <td>268235</td>\n",
       "    </tr>\n",
       "    <tr>\n",
       "      <th>568584</th>\n",
       "      <td>1353476</td>\n",
       "      <td>2019012276</td>\n",
       "      <td>Acervo Circulante</td>\n",
       "      <td>Biblioteca Central Zila Mamede</td>\n",
       "      <td>ESPECIAL</td>\n",
       "      <td>962</td>\n",
       "      <td>268236</td>\n",
       "    </tr>\n",
       "  </tbody>\n",
       "</table>\n",
       "<p>546237 rows × 7 columns</p>\n",
       "</div>"
      ],
      "text/plain": [
       "        id_exemplar codigo_barras            colecao  \\\n",
       "index                                                  \n",
       "0                 5       L000003  Acervo Circulante   \n",
       "1                 4       L000002  Acervo Circulante   \n",
       "2                 3       L000001  Acervo Circulante   \n",
       "3                 7       L000114  Acervo Circulante   \n",
       "5                10       L000041  Acervo Circulante   \n",
       "...             ...           ...                ...   \n",
       "568580      1353472    2021011150  Acervo Circulante   \n",
       "568581      1353473    2019013454  Acervo Circulante   \n",
       "568582      1353474    2019012811  Acervo Circulante   \n",
       "568583      1353475    2019013451  Acervo Circulante   \n",
       "568584      1353476    2019012276  Acervo Circulante   \n",
       "\n",
       "                                               biblioteca status_material  \\\n",
       "index                                                                       \n",
       "0                          Biblioteca Central Zila Mamede         REGULAR   \n",
       "1                          Biblioteca Central Zila Mamede         REGULAR   \n",
       "2                          Biblioteca Central Zila Mamede        ESPECIAL   \n",
       "3                          Biblioteca Central Zila Mamede         REGULAR   \n",
       "5                          Biblioteca Central Zila Mamede        ESPECIAL   \n",
       "...                                                   ...             ...   \n",
       "568580  Biblioteca Setorial do Núcleo de Educação da I...         REGULAR   \n",
       "568581                     Biblioteca Central Zila Mamede        ESPECIAL   \n",
       "568582                     Biblioteca Central Zila Mamede        ESPECIAL   \n",
       "568583                     Biblioteca Central Zila Mamede        ESPECIAL   \n",
       "568584                     Biblioteca Central Zila Mamede        ESPECIAL   \n",
       "\n",
       "        localizacao  registro_sistema  \n",
       "index                                  \n",
       "0               694                 1  \n",
       "1               688                 1  \n",
       "2               638                 1  \n",
       "3               616                 5  \n",
       "5               657                15  \n",
       "...             ...               ...  \n",
       "568580          951            268231  \n",
       "568581          997            268233  \n",
       "568582          987            268234  \n",
       "568583          764            268235  \n",
       "568584          962            268236  \n",
       "\n",
       "[546237 rows x 7 columns]"
      ]
     },
     "execution_count": 6,
     "metadata": {},
     "output_type": "execute_result"
    }
   ],
   "source": [
    "acervo = pd.read_parquet('./Dia_1-Importando_dados/Datasets/dados_exemplares.parquet', engine='pyarrow')\n",
    "acervo"
   ]
  },
  {
   "attachments": {},
   "cell_type": "markdown",
   "id": "99a6eed8",
   "metadata": {},
   "source": [
    "## Identificando dados nulos e vazios\n",
    "\n",
    "https://pandas.pydata.org/docs/reference/api/pandas.isna.html\n",
    "\n",
    "https://pandas.pydata.org/docs/reference/api/pandas.isnull.html"
   ]
  },
  {
   "cell_type": "code",
   "execution_count": 7,
   "id": "affd53f8",
   "metadata": {
    "scrolled": true
   },
   "outputs": [
    {
     "name": "stdout",
     "output_type": "stream",
     "text": [
      "index                         0\n",
      "id_emprestimo                 0\n",
      "codigo_barras                 0\n",
      "data_renovacao          1285720\n",
      "data_emprestimo               0\n",
      "data_devolucao             6471\n",
      "matricula_ou_siape         3170\n",
      "tipo_vinculo_usuario          0\n",
      "dtype: int64\n"
     ]
    }
   ],
   "source": [
    "# isna\n",
    "print(tabela_x.isna().sum())"
   ]
  },
  {
   "cell_type": "code",
   "execution_count": 8,
   "id": "e4ac19c8",
   "metadata": {},
   "outputs": [
    {
     "name": "stdout",
     "output_type": "stream",
     "text": [
      "index                         0\n",
      "id_emprestimo                 0\n",
      "codigo_barras                 0\n",
      "data_renovacao          1285720\n",
      "data_emprestimo               0\n",
      "data_devolucao             6471\n",
      "matricula_ou_siape         3170\n",
      "tipo_vinculo_usuario          0\n",
      "dtype: int64\n"
     ]
    }
   ],
   "source": [
    "# isnull\n",
    "print(tabela_x.isnull().sum())"
   ]
  },
  {
   "cell_type": "code",
   "execution_count": 9,
   "id": "1d0c326a",
   "metadata": {},
   "outputs": [
    {
     "name": "stdout",
     "output_type": "stream",
     "text": [
      "id_exemplar         0\n",
      "codigo_barras       0\n",
      "colecao             0\n",
      "biblioteca          0\n",
      "status_material     0\n",
      "localizacao         0\n",
      "registro_sistema    0\n",
      "dtype: int64\n"
     ]
    }
   ],
   "source": [
    "# isna\n",
    "print(acervo.isna().sum())"
   ]
  },
  {
   "cell_type": "code",
   "execution_count": 10,
   "id": "d76d107d",
   "metadata": {},
   "outputs": [
    {
     "name": "stdout",
     "output_type": "stream",
     "text": [
      "id_exemplar         0\n",
      "codigo_barras       0\n",
      "colecao             0\n",
      "biblioteca          0\n",
      "status_material     0\n",
      "localizacao         0\n",
      "registro_sistema    0\n",
      "dtype: int64\n"
     ]
    }
   ],
   "source": [
    "# isnull\n",
    "print(acervo.isnull().sum())"
   ]
  },
  {
   "attachments": {},
   "cell_type": "markdown",
   "id": "ea7c6ce7",
   "metadata": {},
   "source": [
    "As colunas que apresentam dados nulos não afetarão a junção dos dataframes nesse momento."
   ]
  },
  {
   "attachments": {},
   "cell_type": "markdown",
   "id": "975fd8de",
   "metadata": {},
   "source": [
    "## Removendo dados duplicados\n",
    "\n",
    "Não poderemos trabalhar com registros com dados do código de barras duplicados no acervo pois serão utilizados como chaves para o merge.\n",
    "\n",
    "https://pandas.pydata.org/docs/reference/api/pandas.DataFrame.nunique.html"
   ]
  },
  {
   "cell_type": "code",
   "execution_count": 11,
   "id": "c031c2e4",
   "metadata": {},
   "outputs": [
    {
     "name": "stdout",
     "output_type": "stream",
     "text": [
      "545049\n",
      "546237\n"
     ]
    }
   ],
   "source": [
    "print(acervo['codigo_barras'].nunique())\n",
    "print(len(acervo))"
   ]
  },
  {
   "attachments": {},
   "cell_type": "markdown",
   "id": "4139932b",
   "metadata": {},
   "source": [
    "Para tabela dos empréstimos não poderão ter registros duplicados com mesmo número na coluna id_emprestimo."
   ]
  },
  {
   "cell_type": "code",
   "execution_count": 12,
   "id": "3eefe122",
   "metadata": {},
   "outputs": [
    {
     "name": "stdout",
     "output_type": "stream",
     "text": [
      "2139267\n",
      "2258018\n"
     ]
    }
   ],
   "source": [
    "print(tabela_x['id_emprestimo'].nunique())\n",
    "print(len(tabela_x))"
   ]
  },
  {
   "attachments": {},
   "cell_type": "markdown",
   "id": "25b8cc53",
   "metadata": {},
   "source": [
    "Eliminando os registros duplicados com o método ___drop_duplicates___\n",
    "\n",
    "https://pandas.pydata.org/docs/reference/api/pandas.DataFrame.drop_duplicates.html"
   ]
  },
  {
   "cell_type": "code",
   "execution_count": 13,
   "id": "7d93f34e",
   "metadata": {},
   "outputs": [],
   "source": [
    "acervo_df = acervo.drop_duplicates(subset='codigo_barras', keep='first')\n",
    "emprestimos_df = tabela_x.drop_duplicates(subset='id_emprestimo', keep='first')"
   ]
  },
  {
   "cell_type": "code",
   "execution_count": 14,
   "id": "8354921d",
   "metadata": {},
   "outputs": [
    {
     "name": "stdout",
     "output_type": "stream",
     "text": [
      "2139267\n",
      "2139267\n"
     ]
    }
   ],
   "source": [
    "print(emprestimos_df['id_emprestimo'].nunique())\n",
    "print(len(emprestimos_df))"
   ]
  },
  {
   "cell_type": "code",
   "execution_count": 15,
   "id": "d0a31046",
   "metadata": {},
   "outputs": [
    {
     "name": "stdout",
     "output_type": "stream",
     "text": [
      "545049\n",
      "545049\n"
     ]
    }
   ],
   "source": [
    "print(acervo_df['codigo_barras'].nunique())\n",
    "print(len(acervo_df))"
   ]
  },
  {
   "attachments": {},
   "cell_type": "markdown",
   "id": "05ac3eae",
   "metadata": {},
   "source": [
    "### Merge entre dos dois DataFrames (Acervo e Empréstimos)"
   ]
  },
  {
   "attachments": {},
   "cell_type": "markdown",
   "id": "92f095ff",
   "metadata": {},
   "source": [
    "Mesclando com os dados do acervo, para entender, por exemplo, de qual biblioteca era o material emprestado ou a qual tema ele se referia. A relação se dá pela coluna de código de barras de cada material. \n",
    "\n",
    "https://pandas.pydata.org/docs/reference/api/pandas.DataFrame.merge.html"
   ]
  },
  {
   "cell_type": "code",
   "execution_count": 16,
   "id": "d3eb7299",
   "metadata": {},
   "outputs": [],
   "source": [
    "df_1 = pd.merge(emprestimos_df, acervo_df, on = \"codigo_barras\")"
   ]
  },
  {
   "cell_type": "code",
   "execution_count": 17,
   "id": "1ae91e7c",
   "metadata": {},
   "outputs": [
    {
     "name": "stdout",
     "output_type": "stream",
     "text": [
      "<class 'pandas.core.frame.DataFrame'>\n",
      "Int64Index: 1955743 entries, 0 to 1955742\n",
      "Data columns (total 14 columns):\n",
      " #   Column                Dtype  \n",
      "---  ------                -----  \n",
      " 0   index                 int64  \n",
      " 1   id_emprestimo         int64  \n",
      " 2   codigo_barras         object \n",
      " 3   data_renovacao        object \n",
      " 4   data_emprestimo       object \n",
      " 5   data_devolucao        object \n",
      " 6   matricula_ou_siape    float64\n",
      " 7   tipo_vinculo_usuario  object \n",
      " 8   id_exemplar           int64  \n",
      " 9   colecao               object \n",
      " 10  biblioteca            object \n",
      " 11  status_material       object \n",
      " 12  localizacao           int64  \n",
      " 13  registro_sistema      int64  \n",
      "dtypes: float64(1), int64(5), object(8)\n",
      "memory usage: 223.8+ MB\n"
     ]
    }
   ],
   "source": [
    "df_1.info()"
   ]
  },
  {
   "cell_type": "code",
   "execution_count": 18,
   "id": "989f238c",
   "metadata": {},
   "outputs": [
    {
     "name": "stdout",
     "output_type": "stream",
     "text": [
      "index                         0\n",
      "id_emprestimo                 0\n",
      "codigo_barras                 0\n",
      "data_renovacao          1096082\n",
      "data_emprestimo               0\n",
      "data_devolucao             6138\n",
      "matricula_ou_siape         2705\n",
      "tipo_vinculo_usuario          0\n",
      "id_exemplar                   0\n",
      "colecao                       0\n",
      "biblioteca                    0\n",
      "status_material               0\n",
      "localizacao                   0\n",
      "registro_sistema              0\n",
      "dtype: int64\n"
     ]
    }
   ],
   "source": [
    "# isna\n",
    "print(df_1.isna().sum())"
   ]
  },
  {
   "cell_type": "code",
   "execution_count": 19,
   "id": "9444e2cc",
   "metadata": {},
   "outputs": [
    {
     "name": "stdout",
     "output_type": "stream",
     "text": [
      "index                         0\n",
      "id_emprestimo                 0\n",
      "codigo_barras                 0\n",
      "data_renovacao          1096082\n",
      "data_emprestimo               0\n",
      "data_devolucao             6138\n",
      "matricula_ou_siape         2705\n",
      "tipo_vinculo_usuario          0\n",
      "id_exemplar                   0\n",
      "colecao                       0\n",
      "biblioteca                    0\n",
      "status_material               0\n",
      "localizacao                   0\n",
      "registro_sistema              0\n",
      "dtype: int64\n"
     ]
    }
   ],
   "source": [
    "# isnull\n",
    "print(df_1.isnull().sum())"
   ]
  },
  {
   "attachments": {},
   "cell_type": "markdown",
   "id": "1097214b",
   "metadata": {},
   "source": [
    "DataFrame preparado para iniciar as análises"
   ]
  },
  {
   "attachments": {},
   "cell_type": "markdown",
   "id": "8b736aca",
   "metadata": {},
   "source": [
    "# Dia 02 - Limpeza de Dados\n",
    "\n",
    "## Criação de coluna de classes do CDU"
   ]
  },
  {
   "attachments": {},
   "cell_type": "markdown",
   "id": "7bb76b1c",
   "metadata": {},
   "source": [
    "\"Os itens do acervo em uma biblioteca são organizados por um sistema de classificação de acordo com o respectivo tema. Existem diversos sistemas, mas este conjunto está de acordo com a CDU - Classificação Decimal Universal. Esta classificação é decimal, pois varia de acordo com a classe de cada assunto:\n",
    "\n",
    "*\t000 a 099: Generalidades. Ciência e conhecimento.\n",
    "*\t100 a 199: Filosofia e psicologia.\n",
    "*\t200 a 299: Religião.\n",
    "*\t300 a 399: Ciências sociais.\n",
    "*\t400 a 499: Classe vaga. Provisoriamente não ocupada.\n",
    "*\t500 a 599: Matemática e ciências naturais.\n",
    "*\t600 a 699: Ciências aplicadas.\n",
    "*\t700 a 799: Belas artes.\n",
    "*\t800 a 899: Linguagem. Língua. Linguística.\n",
    "*\t900 a 999: Geografia. Biografia. História.\"\n"
   ]
  },
  {
   "attachments": {},
   "cell_type": "markdown",
   "id": "5bd0ddbd",
   "metadata": {},
   "source": [
    "Portanto, se um material tiver um código de localização 720, ele está dentro da classe geral de “Belas Artes”; ou se tiver um código 028, estará dentro da classe geral de “Generalidades. Ciência e conhecimento”.\n",
    "\n",
    "Para isso, crie uma nova coluna com os valores da localização, para refletir a respectiva classe geral na CDU."
   ]
  },
  {
   "cell_type": "code",
   "execution_count": 20,
   "id": "f6c48c9e",
   "metadata": {},
   "outputs": [],
   "source": [
    "def categorizar(num):\n",
    "    if num < 100:\n",
    "        return 'Generalidades. Ciência e conhecimento'\n",
    "    elif num >= 100 and num < 199: \n",
    "        return 'Filosofia e psicologia'\n",
    "    elif num >= 200 and num < 299:\n",
    "        return 'Religião'\n",
    "    elif num >= 300 and num <= 399:\n",
    "        return 'Ciências sociais'\n",
    "    elif num >= 400 and num <= 499: \n",
    "        return 'Classe vaga. Provisoriamente não ocupada'\n",
    "    elif num >= 500 and num <= 599: \n",
    "        return 'Matemática e ciências naturais'\n",
    "    elif num >= 600 and num <= 699: \n",
    "        return 'Ciências aplicadas.'\n",
    "    elif num >= 700 and num <= 799: \n",
    "        return 'Belas artes'\n",
    "    elif num >= 800 and num <= 899: \n",
    "        return 'Linguagem. Língua. Linguística'\n",
    "    elif num >= 900 and num <= 999: \n",
    "        return 'Geografia. Biografia. História'\n",
    "    else:\n",
    "        return \"Erro\""
   ]
  },
  {
   "cell_type": "code",
   "execution_count": 21,
   "id": "291c69dc",
   "metadata": {},
   "outputs": [],
   "source": [
    "df_1['Classe'] = df_1['localizacao'].apply(categorizar)"
   ]
  },
  {
   "attachments": {},
   "cell_type": "markdown",
   "id": "e0578bf1",
   "metadata": {},
   "source": [
    "### Exclusão da coluna \"registro_sistema\" \n",
    "\n",
    "A coluna \"registro_sistema\" não está fazendo sentido para essa análise, por isso será excluída."
   ]
  },
  {
   "cell_type": "code",
   "execution_count": 22,
   "id": "54de1053",
   "metadata": {},
   "outputs": [],
   "source": [
    "df_1 = df_1[['index', 'id_emprestimo', 'codigo_barras', 'data_renovacao','data_emprestimo', 'data_devolucao', 'matricula_ou_siape',\n",
    "       'tipo_vinculo_usuario', 'id_exemplar', 'colecao', 'biblioteca','status_material', 'localizacao', 'Classe']]"
   ]
  },
  {
   "cell_type": "code",
   "execution_count": 23,
   "id": "0d1ef66b",
   "metadata": {},
   "outputs": [
    {
     "name": "stdout",
     "output_type": "stream",
     "text": [
      "<class 'pandas.core.frame.DataFrame'>\n",
      "Int64Index: 1955743 entries, 0 to 1955742\n",
      "Data columns (total 14 columns):\n",
      " #   Column                Dtype  \n",
      "---  ------                -----  \n",
      " 0   index                 int64  \n",
      " 1   id_emprestimo         int64  \n",
      " 2   codigo_barras         object \n",
      " 3   data_renovacao        object \n",
      " 4   data_emprestimo       object \n",
      " 5   data_devolucao        object \n",
      " 6   matricula_ou_siape    float64\n",
      " 7   tipo_vinculo_usuario  object \n",
      " 8   id_exemplar           int64  \n",
      " 9   colecao               object \n",
      " 10  biblioteca            object \n",
      " 11  status_material       object \n",
      " 12  localizacao           int64  \n",
      " 13  Classe                object \n",
      "dtypes: float64(1), int64(4), object(9)\n",
      "memory usage: 223.8+ MB\n"
     ]
    }
   ],
   "source": [
    "df_1.info()"
   ]
  },
  {
   "attachments": {},
   "cell_type": "markdown",
   "id": "cad8cd9a",
   "metadata": {},
   "source": [
    "### Transformar a coluna \"matricula_ou_siape\" no formato String\n",
    "\n",
    "A coluna da matricula (“matricula_ou_siape”) não está com um formato muito legível. \n",
    "Será transformada em formato String. "
   ]
  },
  {
   "cell_type": "code",
   "execution_count": 24,
   "id": "03b47582",
   "metadata": {},
   "outputs": [],
   "source": [
    "df_1['matricula_ou_siape'] = df_1['matricula_ou_siape'].apply(str)"
   ]
  },
  {
   "cell_type": "code",
   "execution_count": 25,
   "id": "0c4576ff",
   "metadata": {},
   "outputs": [
    {
     "name": "stdout",
     "output_type": "stream",
     "text": [
      "<class 'pandas.core.frame.DataFrame'>\n",
      "Int64Index: 1955743 entries, 0 to 1955742\n",
      "Data columns (total 14 columns):\n",
      " #   Column                Dtype \n",
      "---  ------                ----- \n",
      " 0   index                 int64 \n",
      " 1   id_emprestimo         int64 \n",
      " 2   codigo_barras         object\n",
      " 3   data_renovacao        object\n",
      " 4   data_emprestimo       object\n",
      " 5   data_devolucao        object\n",
      " 6   matricula_ou_siape    object\n",
      " 7   tipo_vinculo_usuario  object\n",
      " 8   id_exemplar           int64 \n",
      " 9   colecao               object\n",
      " 10  biblioteca            object\n",
      " 11  status_material       object\n",
      " 12  localizacao           int64 \n",
      " 13  Classe                object\n",
      "dtypes: int64(4), object(10)\n",
      "memory usage: 223.8+ MB\n"
     ]
    }
   ],
   "source": [
    "df_1.info()"
   ]
  },
  {
   "cell_type": "code",
   "execution_count": 26,
   "id": "9b939751",
   "metadata": {},
   "outputs": [
    {
     "data": {
      "text/html": [
       "<div>\n",
       "<style scoped>\n",
       "    .dataframe tbody tr th:only-of-type {\n",
       "        vertical-align: middle;\n",
       "    }\n",
       "\n",
       "    .dataframe tbody tr th {\n",
       "        vertical-align: top;\n",
       "    }\n",
       "\n",
       "    .dataframe thead th {\n",
       "        text-align: right;\n",
       "    }\n",
       "</style>\n",
       "<table border=\"1\" class=\"dataframe\">\n",
       "  <thead>\n",
       "    <tr style=\"text-align: right;\">\n",
       "      <th></th>\n",
       "      <th>index</th>\n",
       "      <th>id_emprestimo</th>\n",
       "      <th>codigo_barras</th>\n",
       "      <th>data_renovacao</th>\n",
       "      <th>data_emprestimo</th>\n",
       "      <th>data_devolucao</th>\n",
       "      <th>matricula_ou_siape</th>\n",
       "      <th>tipo_vinculo_usuario</th>\n",
       "      <th>id_exemplar</th>\n",
       "      <th>colecao</th>\n",
       "      <th>biblioteca</th>\n",
       "      <th>status_material</th>\n",
       "      <th>localizacao</th>\n",
       "      <th>Classe</th>\n",
       "    </tr>\n",
       "  </thead>\n",
       "  <tbody>\n",
       "    <tr>\n",
       "      <th>941820</th>\n",
       "      <td>26556</td>\n",
       "      <td>2989086</td>\n",
       "      <td>2008047044</td>\n",
       "      <td>NaN</td>\n",
       "      <td>2020/05/05 19:51:06.059000000</td>\n",
       "      <td>2021/05/13 14:53:31.000000000</td>\n",
       "      <td>3067431.0</td>\n",
       "      <td>SERVIDOR TÉCNICO-ADMINISTRATIVO</td>\n",
       "      <td>256297</td>\n",
       "      <td>Acervo Circulante</td>\n",
       "      <td>Biblioteca Setorial da Faculdade de Ciências d...</td>\n",
       "      <td>REGULAR</td>\n",
       "      <td>684</td>\n",
       "      <td>Ciências aplicadas.</td>\n",
       "    </tr>\n",
       "    <tr>\n",
       "      <th>929239</th>\n",
       "      <td>26557</td>\n",
       "      <td>2989087</td>\n",
       "      <td>2008047047</td>\n",
       "      <td>NaN</td>\n",
       "      <td>2020/05/05 19:51:06.135000000</td>\n",
       "      <td>2021/05/13 14:53:38.000000000</td>\n",
       "      <td>3067431.0</td>\n",
       "      <td>SERVIDOR TÉCNICO-ADMINISTRATIVO</td>\n",
       "      <td>256406</td>\n",
       "      <td>Acervo Circulante</td>\n",
       "      <td>Biblioteca Setorial da Faculdade de Ciências d...</td>\n",
       "      <td>REGULAR</td>\n",
       "      <td>628</td>\n",
       "      <td>Ciências aplicadas.</td>\n",
       "    </tr>\n",
       "    <tr>\n",
       "      <th>1456933</th>\n",
       "      <td>26558</td>\n",
       "      <td>2989088</td>\n",
       "      <td>2010052905</td>\n",
       "      <td>NaN</td>\n",
       "      <td>2020/05/05 19:51:06.164000000</td>\n",
       "      <td>2021/05/13 15:01:46.000000000</td>\n",
       "      <td>3067431.0</td>\n",
       "      <td>SERVIDOR TÉCNICO-ADMINISTRATIVO</td>\n",
       "      <td>807821</td>\n",
       "      <td>Acervo Circulante</td>\n",
       "      <td>Biblioteca Setorial da Faculdade de Ciências d...</td>\n",
       "      <td>REGULAR</td>\n",
       "      <td>653</td>\n",
       "      <td>Ciências aplicadas.</td>\n",
       "    </tr>\n",
       "    <tr>\n",
       "      <th>629939</th>\n",
       "      <td>26559</td>\n",
       "      <td>2989089</td>\n",
       "      <td>2010048023</td>\n",
       "      <td>NaN</td>\n",
       "      <td>2020/06/09 11:54:02.669000000</td>\n",
       "      <td>2021/07/21 15:33:55.000000000</td>\n",
       "      <td>20201014993.0</td>\n",
       "      <td>ALUNO DE PÓS-GRADUAÇÃO</td>\n",
       "      <td>804885</td>\n",
       "      <td>Acervo Circulante</td>\n",
       "      <td>Biblioteca Central Zila Mamede</td>\n",
       "      <td>REGULAR</td>\n",
       "      <td>675</td>\n",
       "      <td>Ciências aplicadas.</td>\n",
       "    </tr>\n",
       "    <tr>\n",
       "      <th>1477200</th>\n",
       "      <td>26560</td>\n",
       "      <td>2989090</td>\n",
       "      <td>2013106838</td>\n",
       "      <td>NaN</td>\n",
       "      <td>2020/06/09 11:54:02.852000000</td>\n",
       "      <td>2021/07/21 15:33:45.000000000</td>\n",
       "      <td>20201014993.0</td>\n",
       "      <td>ALUNO DE PÓS-GRADUAÇÃO</td>\n",
       "      <td>1099777</td>\n",
       "      <td>Acervo Circulante</td>\n",
       "      <td>Biblioteca Central Zila Mamede</td>\n",
       "      <td>REGULAR</td>\n",
       "      <td>14</td>\n",
       "      <td>Generalidades. Ciência e conhecimento</td>\n",
       "    </tr>\n",
       "  </tbody>\n",
       "</table>\n",
       "</div>"
      ],
      "text/plain": [
       "         index  id_emprestimo codigo_barras data_renovacao  \\\n",
       "941820   26556        2989086    2008047044            NaN   \n",
       "929239   26557        2989087    2008047047            NaN   \n",
       "1456933  26558        2989088    2010052905            NaN   \n",
       "629939   26559        2989089    2010048023            NaN   \n",
       "1477200  26560        2989090    2013106838            NaN   \n",
       "\n",
       "                       data_emprestimo                 data_devolucao  \\\n",
       "941820   2020/05/05 19:51:06.059000000  2021/05/13 14:53:31.000000000   \n",
       "929239   2020/05/05 19:51:06.135000000  2021/05/13 14:53:38.000000000   \n",
       "1456933  2020/05/05 19:51:06.164000000  2021/05/13 15:01:46.000000000   \n",
       "629939   2020/06/09 11:54:02.669000000  2021/07/21 15:33:55.000000000   \n",
       "1477200  2020/06/09 11:54:02.852000000  2021/07/21 15:33:45.000000000   \n",
       "\n",
       "        matricula_ou_siape             tipo_vinculo_usuario  id_exemplar  \\\n",
       "941820           3067431.0  SERVIDOR TÉCNICO-ADMINISTRATIVO       256297   \n",
       "929239           3067431.0  SERVIDOR TÉCNICO-ADMINISTRATIVO       256406   \n",
       "1456933          3067431.0  SERVIDOR TÉCNICO-ADMINISTRATIVO       807821   \n",
       "629939       20201014993.0           ALUNO DE PÓS-GRADUAÇÃO       804885   \n",
       "1477200      20201014993.0           ALUNO DE PÓS-GRADUAÇÃO      1099777   \n",
       "\n",
       "                   colecao                                         biblioteca  \\\n",
       "941820   Acervo Circulante  Biblioteca Setorial da Faculdade de Ciências d...   \n",
       "929239   Acervo Circulante  Biblioteca Setorial da Faculdade de Ciências d...   \n",
       "1456933  Acervo Circulante  Biblioteca Setorial da Faculdade de Ciências d...   \n",
       "629939   Acervo Circulante                     Biblioteca Central Zila Mamede   \n",
       "1477200  Acervo Circulante                     Biblioteca Central Zila Mamede   \n",
       "\n",
       "        status_material  localizacao                                 Classe  \n",
       "941820          REGULAR          684                    Ciências aplicadas.  \n",
       "929239          REGULAR          628                    Ciências aplicadas.  \n",
       "1456933         REGULAR          653                    Ciências aplicadas.  \n",
       "629939          REGULAR          675                    Ciências aplicadas.  \n",
       "1477200         REGULAR           14  Generalidades. Ciência e conhecimento  "
      ]
     },
     "execution_count": 26,
     "metadata": {},
     "output_type": "execute_result"
    }
   ],
   "source": [
    "df_1.sort_values('data_emprestimo').tail()"
   ]
  },
  {
   "attachments": {},
   "cell_type": "markdown",
   "id": "5136f0fd",
   "metadata": {},
   "source": [
    "# Dia 03 - Análise exploratória de dados e DateTime"
   ]
  },
  {
   "cell_type": "code",
   "execution_count": 27,
   "id": "1540d74b",
   "metadata": {},
   "outputs": [],
   "source": [
    "import matplotlib.pyplot as plt"
   ]
  },
  {
   "attachments": {},
   "cell_type": "markdown",
   "id": "ba623c32",
   "metadata": {},
   "source": [
    "Objetivo: entender a quantidade e quando se emprestaram os livros."
   ]
  },
  {
   "attachments": {},
   "cell_type": "markdown",
   "id": "31831fca",
   "metadata": {},
   "source": [
    "### Transformar as datas em tipo Datetime"
   ]
  },
  {
   "cell_type": "code",
   "execution_count": 28,
   "id": "69b260f6",
   "metadata": {},
   "outputs": [],
   "source": [
    "df_1['data_emprestimo'] = pd.to_datetime(df_1['data_emprestimo'])"
   ]
  },
  {
   "attachments": {},
   "cell_type": "markdown",
   "id": "95b1cd22",
   "metadata": {},
   "source": [
    "Verificar qual é a quantidade total de exemplares emprestados por cada ano e plote um gráfico de linhas. Criando uma coluna ano para facilitar a análise."
   ]
  },
  {
   "cell_type": "code",
   "execution_count": 29,
   "id": "e5b50615",
   "metadata": {},
   "outputs": [
    {
     "data": {
      "text/plain": [
       "0          2010\n",
       "1          2010\n",
       "2          2010\n",
       "3          2010\n",
       "4          2010\n",
       "           ... \n",
       "1955738    2020\n",
       "1955739    2020\n",
       "1955740    2020\n",
       "1955741    2020\n",
       "1955742    2020\n",
       "Name: data_emprestimo, Length: 1955743, dtype: int64"
      ]
     },
     "execution_count": 29,
     "metadata": {},
     "output_type": "execute_result"
    }
   ],
   "source": [
    "df_1['data_emprestimo'].dt.year"
   ]
  },
  {
   "cell_type": "code",
   "execution_count": 30,
   "id": "30b84b74",
   "metadata": {},
   "outputs": [],
   "source": [
    "df_1['ano_emprestimo'] = df_1['data_emprestimo'].dt.year"
   ]
  },
  {
   "attachments": {},
   "cell_type": "markdown",
   "id": "cba727d6",
   "metadata": {},
   "source": [
    "## Gráfico e análise de empréstimo por ano"
   ]
  },
  {
   "cell_type": "code",
   "execution_count": 31,
   "id": "517eb235",
   "metadata": {},
   "outputs": [
    {
     "data": {
      "text/html": [
       "<div>\n",
       "<style scoped>\n",
       "    .dataframe tbody tr th:only-of-type {\n",
       "        vertical-align: middle;\n",
       "    }\n",
       "\n",
       "    .dataframe tbody tr th {\n",
       "        vertical-align: top;\n",
       "    }\n",
       "\n",
       "    .dataframe thead th {\n",
       "        text-align: right;\n",
       "    }\n",
       "</style>\n",
       "<table border=\"1\" class=\"dataframe\">\n",
       "  <thead>\n",
       "    <tr style=\"text-align: right;\">\n",
       "      <th></th>\n",
       "      <th>index</th>\n",
       "      <th>id_emprestimo</th>\n",
       "      <th>codigo_barras</th>\n",
       "      <th>data_renovacao</th>\n",
       "      <th>data_emprestimo</th>\n",
       "      <th>data_devolucao</th>\n",
       "      <th>matricula_ou_siape</th>\n",
       "      <th>tipo_vinculo_usuario</th>\n",
       "      <th>id_exemplar</th>\n",
       "      <th>colecao</th>\n",
       "      <th>biblioteca</th>\n",
       "      <th>status_material</th>\n",
       "      <th>localizacao</th>\n",
       "      <th>Classe</th>\n",
       "    </tr>\n",
       "    <tr>\n",
       "      <th>ano_emprestimo</th>\n",
       "      <th></th>\n",
       "      <th></th>\n",
       "      <th></th>\n",
       "      <th></th>\n",
       "      <th></th>\n",
       "      <th></th>\n",
       "      <th></th>\n",
       "      <th></th>\n",
       "      <th></th>\n",
       "      <th></th>\n",
       "      <th></th>\n",
       "      <th></th>\n",
       "      <th></th>\n",
       "      <th></th>\n",
       "    </tr>\n",
       "  </thead>\n",
       "  <tbody>\n",
       "    <tr>\n",
       "      <th>2010</th>\n",
       "      <td>161282</td>\n",
       "      <td>161282</td>\n",
       "      <td>161282</td>\n",
       "      <td>71393</td>\n",
       "      <td>161282</td>\n",
       "      <td>161269</td>\n",
       "      <td>161282</td>\n",
       "      <td>161282</td>\n",
       "      <td>161282</td>\n",
       "      <td>161282</td>\n",
       "      <td>161282</td>\n",
       "      <td>161282</td>\n",
       "      <td>161282</td>\n",
       "      <td>161282</td>\n",
       "    </tr>\n",
       "    <tr>\n",
       "      <th>2011</th>\n",
       "      <td>196202</td>\n",
       "      <td>196202</td>\n",
       "      <td>196202</td>\n",
       "      <td>93759</td>\n",
       "      <td>196202</td>\n",
       "      <td>196197</td>\n",
       "      <td>196202</td>\n",
       "      <td>196202</td>\n",
       "      <td>196202</td>\n",
       "      <td>196202</td>\n",
       "      <td>196202</td>\n",
       "      <td>196202</td>\n",
       "      <td>196202</td>\n",
       "      <td>196202</td>\n",
       "    </tr>\n",
       "    <tr>\n",
       "      <th>2012</th>\n",
       "      <td>221142</td>\n",
       "      <td>221142</td>\n",
       "      <td>221142</td>\n",
       "      <td>103876</td>\n",
       "      <td>221142</td>\n",
       "      <td>221133</td>\n",
       "      <td>221142</td>\n",
       "      <td>221142</td>\n",
       "      <td>221142</td>\n",
       "      <td>221142</td>\n",
       "      <td>221142</td>\n",
       "      <td>221142</td>\n",
       "      <td>221142</td>\n",
       "      <td>221142</td>\n",
       "    </tr>\n",
       "    <tr>\n",
       "      <th>2013</th>\n",
       "      <td>234437</td>\n",
       "      <td>234437</td>\n",
       "      <td>234437</td>\n",
       "      <td>105345</td>\n",
       "      <td>234437</td>\n",
       "      <td>234412</td>\n",
       "      <td>234437</td>\n",
       "      <td>234437</td>\n",
       "      <td>234437</td>\n",
       "      <td>234437</td>\n",
       "      <td>234437</td>\n",
       "      <td>234437</td>\n",
       "      <td>234437</td>\n",
       "      <td>234437</td>\n",
       "    </tr>\n",
       "    <tr>\n",
       "      <th>2014</th>\n",
       "      <td>218774</td>\n",
       "      <td>218774</td>\n",
       "      <td>218774</td>\n",
       "      <td>94095</td>\n",
       "      <td>218774</td>\n",
       "      <td>218741</td>\n",
       "      <td>218774</td>\n",
       "      <td>218774</td>\n",
       "      <td>218774</td>\n",
       "      <td>218774</td>\n",
       "      <td>218774</td>\n",
       "      <td>218774</td>\n",
       "      <td>218774</td>\n",
       "      <td>218774</td>\n",
       "    </tr>\n",
       "    <tr>\n",
       "      <th>2015</th>\n",
       "      <td>213118</td>\n",
       "      <td>213118</td>\n",
       "      <td>213118</td>\n",
       "      <td>85355</td>\n",
       "      <td>213118</td>\n",
       "      <td>213077</td>\n",
       "      <td>213118</td>\n",
       "      <td>213118</td>\n",
       "      <td>213118</td>\n",
       "      <td>213118</td>\n",
       "      <td>213118</td>\n",
       "      <td>213118</td>\n",
       "      <td>213118</td>\n",
       "      <td>213118</td>\n",
       "    </tr>\n",
       "    <tr>\n",
       "      <th>2016</th>\n",
       "      <td>215413</td>\n",
       "      <td>215413</td>\n",
       "      <td>215413</td>\n",
       "      <td>94789</td>\n",
       "      <td>215413</td>\n",
       "      <td>215365</td>\n",
       "      <td>215413</td>\n",
       "      <td>215413</td>\n",
       "      <td>215413</td>\n",
       "      <td>215413</td>\n",
       "      <td>215413</td>\n",
       "      <td>215413</td>\n",
       "      <td>215413</td>\n",
       "      <td>215413</td>\n",
       "    </tr>\n",
       "    <tr>\n",
       "      <th>2017</th>\n",
       "      <td>104994</td>\n",
       "      <td>104994</td>\n",
       "      <td>104994</td>\n",
       "      <td>44768</td>\n",
       "      <td>104994</td>\n",
       "      <td>104941</td>\n",
       "      <td>104994</td>\n",
       "      <td>104994</td>\n",
       "      <td>104994</td>\n",
       "      <td>104994</td>\n",
       "      <td>104994</td>\n",
       "      <td>104994</td>\n",
       "      <td>104994</td>\n",
       "      <td>104994</td>\n",
       "    </tr>\n",
       "    <tr>\n",
       "      <th>2018</th>\n",
       "      <td>193547</td>\n",
       "      <td>193547</td>\n",
       "      <td>193547</td>\n",
       "      <td>81693</td>\n",
       "      <td>193547</td>\n",
       "      <td>193486</td>\n",
       "      <td>193547</td>\n",
       "      <td>193547</td>\n",
       "      <td>193547</td>\n",
       "      <td>193547</td>\n",
       "      <td>193547</td>\n",
       "      <td>193547</td>\n",
       "      <td>193547</td>\n",
       "      <td>193547</td>\n",
       "    </tr>\n",
       "    <tr>\n",
       "      <th>2019</th>\n",
       "      <td>171299</td>\n",
       "      <td>171299</td>\n",
       "      <td>171299</td>\n",
       "      <td>74009</td>\n",
       "      <td>171299</td>\n",
       "      <td>171224</td>\n",
       "      <td>171299</td>\n",
       "      <td>171299</td>\n",
       "      <td>171299</td>\n",
       "      <td>171299</td>\n",
       "      <td>171299</td>\n",
       "      <td>171299</td>\n",
       "      <td>171299</td>\n",
       "      <td>171299</td>\n",
       "    </tr>\n",
       "    <tr>\n",
       "      <th>2020</th>\n",
       "      <td>25535</td>\n",
       "      <td>25535</td>\n",
       "      <td>25535</td>\n",
       "      <td>10579</td>\n",
       "      <td>25535</td>\n",
       "      <td>19760</td>\n",
       "      <td>25535</td>\n",
       "      <td>25535</td>\n",
       "      <td>25535</td>\n",
       "      <td>25535</td>\n",
       "      <td>25535</td>\n",
       "      <td>25535</td>\n",
       "      <td>25535</td>\n",
       "      <td>25535</td>\n",
       "    </tr>\n",
       "  </tbody>\n",
       "</table>\n",
       "</div>"
      ],
      "text/plain": [
       "                 index  id_emprestimo  codigo_barras  data_renovacao  \\\n",
       "ano_emprestimo                                                         \n",
       "2010            161282         161282         161282           71393   \n",
       "2011            196202         196202         196202           93759   \n",
       "2012            221142         221142         221142          103876   \n",
       "2013            234437         234437         234437          105345   \n",
       "2014            218774         218774         218774           94095   \n",
       "2015            213118         213118         213118           85355   \n",
       "2016            215413         215413         215413           94789   \n",
       "2017            104994         104994         104994           44768   \n",
       "2018            193547         193547         193547           81693   \n",
       "2019            171299         171299         171299           74009   \n",
       "2020             25535          25535          25535           10579   \n",
       "\n",
       "                data_emprestimo  data_devolucao  matricula_ou_siape  \\\n",
       "ano_emprestimo                                                        \n",
       "2010                     161282          161269              161282   \n",
       "2011                     196202          196197              196202   \n",
       "2012                     221142          221133              221142   \n",
       "2013                     234437          234412              234437   \n",
       "2014                     218774          218741              218774   \n",
       "2015                     213118          213077              213118   \n",
       "2016                     215413          215365              215413   \n",
       "2017                     104994          104941              104994   \n",
       "2018                     193547          193486              193547   \n",
       "2019                     171299          171224              171299   \n",
       "2020                      25535           19760               25535   \n",
       "\n",
       "                tipo_vinculo_usuario  id_exemplar  colecao  biblioteca  \\\n",
       "ano_emprestimo                                                           \n",
       "2010                          161282       161282   161282      161282   \n",
       "2011                          196202       196202   196202      196202   \n",
       "2012                          221142       221142   221142      221142   \n",
       "2013                          234437       234437   234437      234437   \n",
       "2014                          218774       218774   218774      218774   \n",
       "2015                          213118       213118   213118      213118   \n",
       "2016                          215413       215413   215413      215413   \n",
       "2017                          104994       104994   104994      104994   \n",
       "2018                          193547       193547   193547      193547   \n",
       "2019                          171299       171299   171299      171299   \n",
       "2020                           25535        25535    25535       25535   \n",
       "\n",
       "                status_material  localizacao  Classe  \n",
       "ano_emprestimo                                        \n",
       "2010                     161282       161282  161282  \n",
       "2011                     196202       196202  196202  \n",
       "2012                     221142       221142  221142  \n",
       "2013                     234437       234437  234437  \n",
       "2014                     218774       218774  218774  \n",
       "2015                     213118       213118  213118  \n",
       "2016                     215413       215413  215413  \n",
       "2017                     104994       104994  104994  \n",
       "2018                     193547       193547  193547  \n",
       "2019                     171299       171299  171299  \n",
       "2020                      25535        25535   25535  "
      ]
     },
     "execution_count": 31,
     "metadata": {},
     "output_type": "execute_result"
    }
   ],
   "source": [
    "grafico_groupby_ano = df_1.groupby(by=[\"ano_emprestimo\"], dropna=False).count()\n",
    "grafico_groupby_ano"
   ]
  },
  {
   "cell_type": "code",
   "execution_count": 32,
   "id": "a7426420",
   "metadata": {},
   "outputs": [
    {
     "data": {
      "image/png": "[encoded data removed]",
      "text/plain": [
       "<Figure size 1200x600 with 1 Axes>"
      ]
     },
     "metadata": {},
     "output_type": "display_data"
    }
   ],
   "source": [
    "fig, ax = plt.subplots(figsize=(12, 6))\n",
    "ax.plot(grafico_groupby_ano['id_emprestimo'])\n",
    "ax.set_xticks(grafico_groupby_ano.index)\n",
    "ax.set_yticks(range(0,max(grafico_groupby_ano['id_emprestimo'])+10000, 20000))\n",
    "ax.set_title('Empréstimos de livros por ano')\n",
    "plt.grid(True)\n",
    "plt.show();"
   ]
  },
  {
   "cell_type": "code",
   "execution_count": 33,
   "id": "225246e5",
   "metadata": {},
   "outputs": [
    {
     "data": {
      "image/png": "[encoded data removed]",
      "text/plain": [
       "<Figure size 1200x600 with 1 Axes>"
      ]
     },
     "metadata": {},
     "output_type": "display_data"
    }
   ],
   "source": [
    "grafico_groupby_ano['id_emprestimo'].plot(title='Empréstimos de livros por ano', figsize=(12,6), xlabel='Ano', kind='bar');"
   ]
  },
  {
   "attachments": {},
   "cell_type": "markdown",
   "id": "d0f54538",
   "metadata": {},
   "source": [
    "* Pelo gráfico gerado há uma tendência de queda no número de empréstimo de livros da biblioteca.\n",
    "* Há um evento significativo de redução de empréstimos em 2017. \n",
    "* O ano de 2020 pode estar incompleto ou foi impactado pelo fechamento dos cursos presenciais durante a pandemia."
   ]
  },
  {
   "attachments": {},
   "cell_type": "markdown",
   "id": "6f6ca845",
   "metadata": {},
   "source": [
    "## Gráfico e análise de empréstimo por mês"
   ]
  },
  {
   "attachments": {},
   "cell_type": "markdown",
   "id": "c506599f",
   "metadata": {},
   "source": [
    "Gerar uma tabela com a quantidade total de exemplares emprestados por mês e descubra quais meses são os que possuem a maior quantidade de empréstimos realizados. Plote um gráfico de linhas."
   ]
  },
  {
   "cell_type": "code",
   "execution_count": 34,
   "id": "6aeb7351",
   "metadata": {},
   "outputs": [],
   "source": [
    "df_1['mes_emprestimo'] = df_1['data_emprestimo'].dt.month"
   ]
  },
  {
   "cell_type": "code",
   "execution_count": 35,
   "id": "0e0ba1c2",
   "metadata": {},
   "outputs": [],
   "source": [
    "grafico_groupby_mes = df_1.groupby(by=[\"mes_emprestimo\"], dropna=False).count()"
   ]
  },
  {
   "cell_type": "code",
   "execution_count": 36,
   "id": "88cec2d7",
   "metadata": {},
   "outputs": [
    {
     "data": {
      "image/png": "[encoded data removed]",
      "text/plain": [
       "<Figure size 1200x600 with 1 Axes>"
      ]
     },
     "metadata": {},
     "output_type": "display_data"
    }
   ],
   "source": [
    "fig, ax = plt.subplots(figsize=(12,6))\n",
    "ax.plot(grafico_groupby_mes['id_emprestimo'])\n",
    "ax.set_xticks(grafico_groupby_mes.index)\n",
    "plt.grid(True)\n",
    "plt.xticks(rotation = 0)\n",
    "plt.show()"
   ]
  },
  {
   "attachments": {},
   "cell_type": "markdown",
   "id": "45574913",
   "metadata": {},
   "source": [
    "* Os meses de Janeiro e Dezembro possuem o menor número de empréstimos, seguidos dos meses de junho e julho.\n",
    "* Esse comportamento certamente está ligado ao período de férias escolares.\n",
    "* Os meses de Março e Agosto são os meses com maior número de empréstimos."
   ]
  },
  {
   "attachments": {},
   "cell_type": "markdown",
   "id": "ed8aea97",
   "metadata": {},
   "source": [
    "## Gráfico e análise de empréstimo por hora"
   ]
  },
  {
   "attachments": {},
   "cell_type": "markdown",
   "id": "dc70d19c",
   "metadata": {},
   "source": [
    "Plotar um gráfico de barras e analisar quais seriam os melhores horários para alocar as demais atividades que não sejam de atendimento ao usuário. "
   ]
  },
  {
   "attachments": {},
   "cell_type": "markdown",
   "id": "72c905d3",
   "metadata": {},
   "source": [
    "Verificar quais foram os horários com maior quantidade de empréstimos ao longo de um dia inteiro. "
   ]
  },
  {
   "cell_type": "code",
   "execution_count": 37,
   "id": "afab5b9a",
   "metadata": {},
   "outputs": [],
   "source": [
    "df_1['hora_emprestimo'] = df_1['data_emprestimo'].dt.hour"
   ]
  },
  {
   "cell_type": "code",
   "execution_count": 38,
   "id": "a5132357",
   "metadata": {},
   "outputs": [
    {
     "data": {
      "text/html": [
       "<div>\n",
       "<style scoped>\n",
       "    .dataframe tbody tr th:only-of-type {\n",
       "        vertical-align: middle;\n",
       "    }\n",
       "\n",
       "    .dataframe tbody tr th {\n",
       "        vertical-align: top;\n",
       "    }\n",
       "\n",
       "    .dataframe thead th {\n",
       "        text-align: right;\n",
       "    }\n",
       "</style>\n",
       "<table border=\"1\" class=\"dataframe\">\n",
       "  <thead>\n",
       "    <tr style=\"text-align: right;\">\n",
       "      <th></th>\n",
       "      <th>index</th>\n",
       "      <th>id_emprestimo</th>\n",
       "      <th>codigo_barras</th>\n",
       "      <th>data_renovacao</th>\n",
       "      <th>data_emprestimo</th>\n",
       "      <th>data_devolucao</th>\n",
       "      <th>matricula_ou_siape</th>\n",
       "      <th>tipo_vinculo_usuario</th>\n",
       "      <th>id_exemplar</th>\n",
       "      <th>colecao</th>\n",
       "      <th>biblioteca</th>\n",
       "      <th>status_material</th>\n",
       "      <th>localizacao</th>\n",
       "      <th>Classe</th>\n",
       "      <th>ano_emprestimo</th>\n",
       "      <th>mes_emprestimo</th>\n",
       "    </tr>\n",
       "    <tr>\n",
       "      <th>hora_emprestimo</th>\n",
       "      <th></th>\n",
       "      <th></th>\n",
       "      <th></th>\n",
       "      <th></th>\n",
       "      <th></th>\n",
       "      <th></th>\n",
       "      <th></th>\n",
       "      <th></th>\n",
       "      <th></th>\n",
       "      <th></th>\n",
       "      <th></th>\n",
       "      <th></th>\n",
       "      <th></th>\n",
       "      <th></th>\n",
       "      <th></th>\n",
       "      <th></th>\n",
       "    </tr>\n",
       "  </thead>\n",
       "  <tbody>\n",
       "    <tr>\n",
       "      <th>0</th>\n",
       "      <td>17</td>\n",
       "      <td>17</td>\n",
       "      <td>17</td>\n",
       "      <td>2</td>\n",
       "      <td>17</td>\n",
       "      <td>17</td>\n",
       "      <td>17</td>\n",
       "      <td>17</td>\n",
       "      <td>17</td>\n",
       "      <td>17</td>\n",
       "      <td>17</td>\n",
       "      <td>17</td>\n",
       "      <td>17</td>\n",
       "      <td>17</td>\n",
       "      <td>17</td>\n",
       "      <td>17</td>\n",
       "    </tr>\n",
       "    <tr>\n",
       "      <th>6</th>\n",
       "      <td>14</td>\n",
       "      <td>14</td>\n",
       "      <td>14</td>\n",
       "      <td>1</td>\n",
       "      <td>14</td>\n",
       "      <td>14</td>\n",
       "      <td>14</td>\n",
       "      <td>14</td>\n",
       "      <td>14</td>\n",
       "      <td>14</td>\n",
       "      <td>14</td>\n",
       "      <td>14</td>\n",
       "      <td>14</td>\n",
       "      <td>14</td>\n",
       "      <td>14</td>\n",
       "      <td>14</td>\n",
       "    </tr>\n",
       "    <tr>\n",
       "      <th>7</th>\n",
       "      <td>17585</td>\n",
       "      <td>17585</td>\n",
       "      <td>17585</td>\n",
       "      <td>7176</td>\n",
       "      <td>17585</td>\n",
       "      <td>17547</td>\n",
       "      <td>17585</td>\n",
       "      <td>17585</td>\n",
       "      <td>17585</td>\n",
       "      <td>17585</td>\n",
       "      <td>17585</td>\n",
       "      <td>17585</td>\n",
       "      <td>17585</td>\n",
       "      <td>17585</td>\n",
       "      <td>17585</td>\n",
       "      <td>17585</td>\n",
       "    </tr>\n",
       "    <tr>\n",
       "      <th>8</th>\n",
       "      <td>97856</td>\n",
       "      <td>97856</td>\n",
       "      <td>97856</td>\n",
       "      <td>43220</td>\n",
       "      <td>97856</td>\n",
       "      <td>97646</td>\n",
       "      <td>97856</td>\n",
       "      <td>97856</td>\n",
       "      <td>97856</td>\n",
       "      <td>97856</td>\n",
       "      <td>97856</td>\n",
       "      <td>97856</td>\n",
       "      <td>97856</td>\n",
       "      <td>97856</td>\n",
       "      <td>97856</td>\n",
       "      <td>97856</td>\n",
       "    </tr>\n",
       "    <tr>\n",
       "      <th>9</th>\n",
       "      <td>124457</td>\n",
       "      <td>124457</td>\n",
       "      <td>124457</td>\n",
       "      <td>53153</td>\n",
       "      <td>124457</td>\n",
       "      <td>124143</td>\n",
       "      <td>124457</td>\n",
       "      <td>124457</td>\n",
       "      <td>124457</td>\n",
       "      <td>124457</td>\n",
       "      <td>124457</td>\n",
       "      <td>124457</td>\n",
       "      <td>124457</td>\n",
       "      <td>124457</td>\n",
       "      <td>124457</td>\n",
       "      <td>124457</td>\n",
       "    </tr>\n",
       "    <tr>\n",
       "      <th>10</th>\n",
       "      <td>175657</td>\n",
       "      <td>175657</td>\n",
       "      <td>175657</td>\n",
       "      <td>77047</td>\n",
       "      <td>175657</td>\n",
       "      <td>175086</td>\n",
       "      <td>175657</td>\n",
       "      <td>175657</td>\n",
       "      <td>175657</td>\n",
       "      <td>175657</td>\n",
       "      <td>175657</td>\n",
       "      <td>175657</td>\n",
       "      <td>175657</td>\n",
       "      <td>175657</td>\n",
       "      <td>175657</td>\n",
       "      <td>175657</td>\n",
       "    </tr>\n",
       "    <tr>\n",
       "      <th>11</th>\n",
       "      <td>170137</td>\n",
       "      <td>170137</td>\n",
       "      <td>170137</td>\n",
       "      <td>73894</td>\n",
       "      <td>170137</td>\n",
       "      <td>169592</td>\n",
       "      <td>170137</td>\n",
       "      <td>170137</td>\n",
       "      <td>170137</td>\n",
       "      <td>170137</td>\n",
       "      <td>170137</td>\n",
       "      <td>170137</td>\n",
       "      <td>170137</td>\n",
       "      <td>170137</td>\n",
       "      <td>170137</td>\n",
       "      <td>170137</td>\n",
       "    </tr>\n",
       "    <tr>\n",
       "      <th>12</th>\n",
       "      <td>140162</td>\n",
       "      <td>140162</td>\n",
       "      <td>140162</td>\n",
       "      <td>63125</td>\n",
       "      <td>140162</td>\n",
       "      <td>139688</td>\n",
       "      <td>140162</td>\n",
       "      <td>140162</td>\n",
       "      <td>140162</td>\n",
       "      <td>140162</td>\n",
       "      <td>140162</td>\n",
       "      <td>140162</td>\n",
       "      <td>140162</td>\n",
       "      <td>140162</td>\n",
       "      <td>140162</td>\n",
       "      <td>140162</td>\n",
       "    </tr>\n",
       "    <tr>\n",
       "      <th>13</th>\n",
       "      <td>119637</td>\n",
       "      <td>119637</td>\n",
       "      <td>119637</td>\n",
       "      <td>52888</td>\n",
       "      <td>119637</td>\n",
       "      <td>119192</td>\n",
       "      <td>119637</td>\n",
       "      <td>119637</td>\n",
       "      <td>119637</td>\n",
       "      <td>119637</td>\n",
       "      <td>119637</td>\n",
       "      <td>119637</td>\n",
       "      <td>119637</td>\n",
       "      <td>119637</td>\n",
       "      <td>119637</td>\n",
       "      <td>119637</td>\n",
       "    </tr>\n",
       "    <tr>\n",
       "      <th>14</th>\n",
       "      <td>142272</td>\n",
       "      <td>142272</td>\n",
       "      <td>142272</td>\n",
       "      <td>62741</td>\n",
       "      <td>142272</td>\n",
       "      <td>141862</td>\n",
       "      <td>142272</td>\n",
       "      <td>142272</td>\n",
       "      <td>142272</td>\n",
       "      <td>142272</td>\n",
       "      <td>142272</td>\n",
       "      <td>142272</td>\n",
       "      <td>142272</td>\n",
       "      <td>142272</td>\n",
       "      <td>142272</td>\n",
       "      <td>142272</td>\n",
       "    </tr>\n",
       "    <tr>\n",
       "      <th>15</th>\n",
       "      <td>156917</td>\n",
       "      <td>156917</td>\n",
       "      <td>156917</td>\n",
       "      <td>68289</td>\n",
       "      <td>156917</td>\n",
       "      <td>156455</td>\n",
       "      <td>156917</td>\n",
       "      <td>156917</td>\n",
       "      <td>156917</td>\n",
       "      <td>156917</td>\n",
       "      <td>156917</td>\n",
       "      <td>156917</td>\n",
       "      <td>156917</td>\n",
       "      <td>156917</td>\n",
       "      <td>156917</td>\n",
       "      <td>156917</td>\n",
       "    </tr>\n",
       "    <tr>\n",
       "      <th>16</th>\n",
       "      <td>198440</td>\n",
       "      <td>198440</td>\n",
       "      <td>198440</td>\n",
       "      <td>87787</td>\n",
       "      <td>198440</td>\n",
       "      <td>197845</td>\n",
       "      <td>198440</td>\n",
       "      <td>198440</td>\n",
       "      <td>198440</td>\n",
       "      <td>198440</td>\n",
       "      <td>198440</td>\n",
       "      <td>198440</td>\n",
       "      <td>198440</td>\n",
       "      <td>198440</td>\n",
       "      <td>198440</td>\n",
       "      <td>198440</td>\n",
       "    </tr>\n",
       "    <tr>\n",
       "      <th>17</th>\n",
       "      <td>174920</td>\n",
       "      <td>174920</td>\n",
       "      <td>174920</td>\n",
       "      <td>77794</td>\n",
       "      <td>174920</td>\n",
       "      <td>174400</td>\n",
       "      <td>174920</td>\n",
       "      <td>174920</td>\n",
       "      <td>174920</td>\n",
       "      <td>174920</td>\n",
       "      <td>174920</td>\n",
       "      <td>174920</td>\n",
       "      <td>174920</td>\n",
       "      <td>174920</td>\n",
       "      <td>174920</td>\n",
       "      <td>174920</td>\n",
       "    </tr>\n",
       "    <tr>\n",
       "      <th>18</th>\n",
       "      <td>172362</td>\n",
       "      <td>172362</td>\n",
       "      <td>172362</td>\n",
       "      <td>77593</td>\n",
       "      <td>172362</td>\n",
       "      <td>171722</td>\n",
       "      <td>172362</td>\n",
       "      <td>172362</td>\n",
       "      <td>172362</td>\n",
       "      <td>172362</td>\n",
       "      <td>172362</td>\n",
       "      <td>172362</td>\n",
       "      <td>172362</td>\n",
       "      <td>172362</td>\n",
       "      <td>172362</td>\n",
       "      <td>172362</td>\n",
       "    </tr>\n",
       "    <tr>\n",
       "      <th>19</th>\n",
       "      <td>96081</td>\n",
       "      <td>96081</td>\n",
       "      <td>96081</td>\n",
       "      <td>41596</td>\n",
       "      <td>96081</td>\n",
       "      <td>95800</td>\n",
       "      <td>96081</td>\n",
       "      <td>96081</td>\n",
       "      <td>96081</td>\n",
       "      <td>96081</td>\n",
       "      <td>96081</td>\n",
       "      <td>96081</td>\n",
       "      <td>96081</td>\n",
       "      <td>96081</td>\n",
       "      <td>96081</td>\n",
       "      <td>96081</td>\n",
       "    </tr>\n",
       "    <tr>\n",
       "      <th>20</th>\n",
       "      <td>120842</td>\n",
       "      <td>120842</td>\n",
       "      <td>120842</td>\n",
       "      <td>54347</td>\n",
       "      <td>120842</td>\n",
       "      <td>120383</td>\n",
       "      <td>120842</td>\n",
       "      <td>120842</td>\n",
       "      <td>120842</td>\n",
       "      <td>120842</td>\n",
       "      <td>120842</td>\n",
       "      <td>120842</td>\n",
       "      <td>120842</td>\n",
       "      <td>120842</td>\n",
       "      <td>120842</td>\n",
       "      <td>120842</td>\n",
       "    </tr>\n",
       "    <tr>\n",
       "      <th>21</th>\n",
       "      <td>48106</td>\n",
       "      <td>48106</td>\n",
       "      <td>48106</td>\n",
       "      <td>18939</td>\n",
       "      <td>48106</td>\n",
       "      <td>47932</td>\n",
       "      <td>48106</td>\n",
       "      <td>48106</td>\n",
       "      <td>48106</td>\n",
       "      <td>48106</td>\n",
       "      <td>48106</td>\n",
       "      <td>48106</td>\n",
       "      <td>48106</td>\n",
       "      <td>48106</td>\n",
       "      <td>48106</td>\n",
       "      <td>48106</td>\n",
       "    </tr>\n",
       "    <tr>\n",
       "      <th>22</th>\n",
       "      <td>232</td>\n",
       "      <td>232</td>\n",
       "      <td>232</td>\n",
       "      <td>55</td>\n",
       "      <td>232</td>\n",
       "      <td>232</td>\n",
       "      <td>232</td>\n",
       "      <td>232</td>\n",
       "      <td>232</td>\n",
       "      <td>232</td>\n",
       "      <td>232</td>\n",
       "      <td>232</td>\n",
       "      <td>232</td>\n",
       "      <td>232</td>\n",
       "      <td>232</td>\n",
       "      <td>232</td>\n",
       "    </tr>\n",
       "    <tr>\n",
       "      <th>23</th>\n",
       "      <td>49</td>\n",
       "      <td>49</td>\n",
       "      <td>49</td>\n",
       "      <td>14</td>\n",
       "      <td>49</td>\n",
       "      <td>49</td>\n",
       "      <td>49</td>\n",
       "      <td>49</td>\n",
       "      <td>49</td>\n",
       "      <td>49</td>\n",
       "      <td>49</td>\n",
       "      <td>49</td>\n",
       "      <td>49</td>\n",
       "      <td>49</td>\n",
       "      <td>49</td>\n",
       "      <td>49</td>\n",
       "    </tr>\n",
       "  </tbody>\n",
       "</table>\n",
       "</div>"
      ],
      "text/plain": [
       "                  index  id_emprestimo  codigo_barras  data_renovacao  \\\n",
       "hora_emprestimo                                                         \n",
       "0                    17             17             17               2   \n",
       "6                    14             14             14               1   \n",
       "7                 17585          17585          17585            7176   \n",
       "8                 97856          97856          97856           43220   \n",
       "9                124457         124457         124457           53153   \n",
       "10               175657         175657         175657           77047   \n",
       "11               170137         170137         170137           73894   \n",
       "12               140162         140162         140162           63125   \n",
       "13               119637         119637         119637           52888   \n",
       "14               142272         142272         142272           62741   \n",
       "15               156917         156917         156917           68289   \n",
       "16               198440         198440         198440           87787   \n",
       "17               174920         174920         174920           77794   \n",
       "18               172362         172362         172362           77593   \n",
       "19                96081          96081          96081           41596   \n",
       "20               120842         120842         120842           54347   \n",
       "21                48106          48106          48106           18939   \n",
       "22                  232            232            232              55   \n",
       "23                   49             49             49              14   \n",
       "\n",
       "                 data_emprestimo  data_devolucao  matricula_ou_siape  \\\n",
       "hora_emprestimo                                                        \n",
       "0                             17              17                  17   \n",
       "6                             14              14                  14   \n",
       "7                          17585           17547               17585   \n",
       "8                          97856           97646               97856   \n",
       "9                         124457          124143              124457   \n",
       "10                        175657          175086              175657   \n",
       "11                        170137          169592              170137   \n",
       "12                        140162          139688              140162   \n",
       "13                        119637          119192              119637   \n",
       "14                        142272          141862              142272   \n",
       "15                        156917          156455              156917   \n",
       "16                        198440          197845              198440   \n",
       "17                        174920          174400              174920   \n",
       "18                        172362          171722              172362   \n",
       "19                         96081           95800               96081   \n",
       "20                        120842          120383              120842   \n",
       "21                         48106           47932               48106   \n",
       "22                           232             232                 232   \n",
       "23                            49              49                  49   \n",
       "\n",
       "                 tipo_vinculo_usuario  id_exemplar  colecao  biblioteca  \\\n",
       "hora_emprestimo                                                           \n",
       "0                                  17           17       17          17   \n",
       "6                                  14           14       14          14   \n",
       "7                               17585        17585    17585       17585   \n",
       "8                               97856        97856    97856       97856   \n",
       "9                              124457       124457   124457      124457   \n",
       "10                             175657       175657   175657      175657   \n",
       "11                             170137       170137   170137      170137   \n",
       "12                             140162       140162   140162      140162   \n",
       "13                             119637       119637   119637      119637   \n",
       "14                             142272       142272   142272      142272   \n",
       "15                             156917       156917   156917      156917   \n",
       "16                             198440       198440   198440      198440   \n",
       "17                             174920       174920   174920      174920   \n",
       "18                             172362       172362   172362      172362   \n",
       "19                              96081        96081    96081       96081   \n",
       "20                             120842       120842   120842      120842   \n",
       "21                              48106        48106    48106       48106   \n",
       "22                                232          232      232         232   \n",
       "23                                 49           49       49          49   \n",
       "\n",
       "                 status_material  localizacao  Classe  ano_emprestimo  \\\n",
       "hora_emprestimo                                                         \n",
       "0                             17           17      17              17   \n",
       "6                             14           14      14              14   \n",
       "7                          17585        17585   17585           17585   \n",
       "8                          97856        97856   97856           97856   \n",
       "9                         124457       124457  124457          124457   \n",
       "10                        175657       175657  175657          175657   \n",
       "11                        170137       170137  170137          170137   \n",
       "12                        140162       140162  140162          140162   \n",
       "13                        119637       119637  119637          119637   \n",
       "14                        142272       142272  142272          142272   \n",
       "15                        156917       156917  156917          156917   \n",
       "16                        198440       198440  198440          198440   \n",
       "17                        174920       174920  174920          174920   \n",
       "18                        172362       172362  172362          172362   \n",
       "19                         96081        96081   96081           96081   \n",
       "20                        120842       120842  120842          120842   \n",
       "21                         48106        48106   48106           48106   \n",
       "22                           232          232     232             232   \n",
       "23                            49           49      49              49   \n",
       "\n",
       "                 mes_emprestimo  \n",
       "hora_emprestimo                  \n",
       "0                            17  \n",
       "6                            14  \n",
       "7                         17585  \n",
       "8                         97856  \n",
       "9                        124457  \n",
       "10                       175657  \n",
       "11                       170137  \n",
       "12                       140162  \n",
       "13                       119637  \n",
       "14                       142272  \n",
       "15                       156917  \n",
       "16                       198440  \n",
       "17                       174920  \n",
       "18                       172362  \n",
       "19                        96081  \n",
       "20                       120842  \n",
       "21                        48106  \n",
       "22                          232  \n",
       "23                           49  "
      ]
     },
     "execution_count": 38,
     "metadata": {},
     "output_type": "execute_result"
    }
   ],
   "source": [
    "grafico_groupby_hora = df_1.groupby(by=[\"hora_emprestimo\"], dropna=False).count()\n",
    "grafico_groupby_hora"
   ]
  },
  {
   "cell_type": "code",
   "execution_count": 50,
   "id": "44913d16",
   "metadata": {},
   "outputs": [
    {
     "data": {
      "image/png": "[encoded data removed]",
      "text/plain": [
       "<Figure size 1200x600 with 1 Axes>"
      ]
     },
     "metadata": {},
     "output_type": "display_data"
    }
   ],
   "source": [
    "fig, ax = plt.subplots(figsize=(12, 6))\n",
    "ax.bar(grafico_groupby_hora.index, grafico_groupby_hora['id_emprestimo'])\n",
    "ax.set_xticks(grafico_groupby_hora.index)\n",
    "ax.set_title('Empréstimos de livros por hora')\n",
    "plt.show();"
   ]
  },
  {
   "attachments": {},
   "cell_type": "markdown",
   "id": "20b33bea",
   "metadata": {},
   "source": [
    "* Os melhores horários para alocar as demais atividades, que não seja atendimento a usuários, são antes das 09h, às 19h e às 21h.\n",
    "* Os horários com maior quantidade de empréstimos foram: entre 10h e 11h e entre 16h e 18h."
   ]
  },
  {
   "attachments": {},
   "cell_type": "markdown",
   "id": "42e57e9f",
   "metadata": {},
   "source": [
    "### Dúvidas\n",
    "\n",
    "Verifique a quantidade de empréstimos pelos números de ID. Investigue pela relação deles com o ID dos exemplares. "
   ]
  }
 ],
 "metadata": {
  "kernelspec": {
   "display_name": "Python 3 (ipykernel)",
   "language": "python",
   "name": "python3"
  },
  "language_info": {
   "codemirror_mode": {
    "name": "ipython",
    "version": 3
   },
   "file_extension": ".py",
   "mimetype": "text/x-python",
   "name": "python",
   "nbconvert_exporter": "python",
   "pygments_lexer": "ipython3",
   "version": "3.9.13"
  }
 },
 "nbformat": 4,
 "nbformat_minor": 5
}
