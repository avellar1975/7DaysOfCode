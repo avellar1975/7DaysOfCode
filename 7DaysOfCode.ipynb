{
 "cells": [
  {
   "attachments": {},
   "cell_type": "markdown",
   "id": "5b032201",
   "metadata": {},
   "source": [
    "<img src='https://res.cloudinary.com/practicaldev/image/fetch/s--0D_ihm0g--/c_imagga_scale,f_auto,fl_progressive,h_420,q_auto,w_1000/https://dev-to-uploads.s3.amazonaws.com/uploads/articles/4hxawn5gsmzyf8omfuxa.png' width=800 align='left'>"
   ]
  },
  {
   "attachments": {},
   "cell_type": "markdown",
   "id": "9f113633",
   "metadata": {},
   "source": [
    "_Autor: Evandro Avellar_"
   ]
  },
  {
   "attachments": {},
   "cell_type": "markdown",
   "id": "80078496",
   "metadata": {},
   "source": [
    "# Dia 01 - Importar Dados"
   ]
  },
  {
   "attachments": {},
   "cell_type": "markdown",
   "id": "d4c1ca7f",
   "metadata": {},
   "source": [
    "Dados de empréstimos dos acervos do sistema de bibliotecas da UFRN. "
   ]
  },
  {
   "cell_type": "code",
   "execution_count": 1,
   "id": "eac4e411",
   "metadata": {},
   "outputs": [],
   "source": [
    "import pandas as pd\n",
    "import os"
   ]
  },
  {
   "attachments": {},
   "cell_type": "markdown",
   "id": "445114bf",
   "metadata": {},
   "source": [
    "## Coleta e Organização dos Dados"
   ]
  },
  {
   "attachments": {},
   "cell_type": "markdown",
   "id": "3ad7449e",
   "metadata": {},
   "source": [
    "## Unificar em um único Dataframe todos os dados pertinentes para a análise. "
   ]
  },
  {
   "attachments": {},
   "cell_type": "markdown",
   "id": "0c5686d0",
   "metadata": {},
   "source": [
    "### Dados de empréstimos\n",
    "\n",
    "* Listando os arquivos csv de Empréstimos para unificá-los num único DataFrame.\n",
    "\n",
    "> https://docs.python.org/pt-br/3/library/os.html#os.listdir"
   ]
  },
  {
   "cell_type": "code",
   "execution_count": 2,
   "id": "44741950",
   "metadata": {},
   "outputs": [
    {
     "data": {
      "text/plain": [
       "['emprestimos-20101.csv',\n",
       " 'emprestimos-20102.csv',\n",
       " 'emprestimos-20111.csv',\n",
       " 'emprestimos-20112.csv',\n",
       " 'emprestimos-20121.csv',\n",
       " 'emprestimos-20122.csv',\n",
       " 'emprestimos-20131.csv',\n",
       " 'emprestimos-20132.csv',\n",
       " 'emprestimos-20141.csv',\n",
       " 'emprestimos-20142.csv',\n",
       " 'emprestimos-20151.csv',\n",
       " 'emprestimos-20152.csv',\n",
       " 'emprestimos-20161.csv',\n",
       " 'emprestimos-20162.csv',\n",
       " 'emprestimos-20171.csv',\n",
       " 'emprestimos-20172.csv',\n",
       " 'emprestimos-20181.csv',\n",
       " 'emprestimos-20182.csv',\n",
       " 'emprestimos-20191.csv',\n",
       " 'emprestimos-20192.csv',\n",
       " 'emprestimos-20201.csv']"
      ]
     },
     "execution_count": 2,
     "metadata": {},
     "output_type": "execute_result"
    }
   ],
   "source": [
    "arquivos = os.listdir('./Dia_1-Importando_dados/Datasets/dados_emprestimos/')\n",
    "arquivos"
   ]
  },
  {
   "attachments": {},
   "cell_type": "markdown",
   "id": "fca532a7",
   "metadata": {},
   "source": [
    "Após listar os arquivos a serem importados, eles serão unificados em um único DataFrame através do método ```pd.concat()``` do Pandas.\n",
    "\n",
    "> https://pandas.pydata.org/docs/reference/api/pandas.concat.html"
   ]
  },
  {
   "cell_type": "code",
   "execution_count": 3,
   "id": "2b2d9057",
   "metadata": {},
   "outputs": [],
   "source": [
    "tabela_x = pd.DataFrame()\n",
    "\n",
    "for arquivo in arquivos:\n",
    "    tabela_1 = pd.read_csv(f'./Dia_1-Importando_dados/Datasets/dados_emprestimos/{arquivo}')\n",
    "    tabela_x = pd.concat([tabela_x, tabela_1])    "
   ]
  },
  {
   "cell_type": "code",
   "execution_count": 4,
   "id": "d121fb8e",
   "metadata": {},
   "outputs": [],
   "source": [
    "tabela_x.reset_index(inplace=True)"
   ]
  },
  {
   "attachments": {},
   "cell_type": "markdown",
   "id": "ce2dea56",
   "metadata": {},
   "source": [
    "### Dados do acervo"
   ]
  },
  {
   "attachments": {},
   "cell_type": "markdown",
   "id": "088051e7",
   "metadata": {},
   "source": [
    "Para utilização do Pandas na leitura de arquivo .parquet é necessário instalar a biblioteca ___pyarrow___ e o método ___pd.read_parquet()___\n",
    "\n",
    "https://pandas.pydata.org/docs/reference/api/pandas.read_parquet.html"
   ]
  },
  {
   "cell_type": "code",
   "execution_count": 5,
   "id": "850b1f92",
   "metadata": {},
   "outputs": [
    {
     "name": "stdout",
     "output_type": "stream",
     "text": [
      "Requirement already satisfied: pyarrow in c:\\users\\c050654\\anaconda3\\lib\\site-packages (12.0.1)\n",
      "Requirement already satisfied: numpy>=1.16.6 in c:\\users\\c050654\\anaconda3\\lib\\site-packages (from pyarrow) (1.21.5)\n"
     ]
    },
    {
     "name": "stderr",
     "output_type": "stream",
     "text": [
      "\n",
      "[notice] A new release of pip is available: 23.0.1 -> 23.1.2\n",
      "[notice] To update, run: python.exe -m pip install --upgrade pip\n"
     ]
    }
   ],
   "source": [
    "!pip install pyarrow"
   ]
  },
  {
   "cell_type": "code",
   "execution_count": 6,
   "id": "31b4e11f",
   "metadata": {},
   "outputs": [
    {
     "data": {
      "text/html": [
       "<div>\n",
       "<style scoped>\n",
       "    .dataframe tbody tr th:only-of-type {\n",
       "        vertical-align: middle;\n",
       "    }\n",
       "\n",
       "    .dataframe tbody tr th {\n",
       "        vertical-align: top;\n",
       "    }\n",
       "\n",
       "    .dataframe thead th {\n",
       "        text-align: right;\n",
       "    }\n",
       "</style>\n",
       "<table border=\"1\" class=\"dataframe\">\n",
       "  <thead>\n",
       "    <tr style=\"text-align: right;\">\n",
       "      <th></th>\n",
       "      <th>id_exemplar</th>\n",
       "      <th>codigo_barras</th>\n",
       "      <th>colecao</th>\n",
       "      <th>biblioteca</th>\n",
       "      <th>status_material</th>\n",
       "      <th>localizacao</th>\n",
       "      <th>registro_sistema</th>\n",
       "    </tr>\n",
       "    <tr>\n",
       "      <th>index</th>\n",
       "      <th></th>\n",
       "      <th></th>\n",
       "      <th></th>\n",
       "      <th></th>\n",
       "      <th></th>\n",
       "      <th></th>\n",
       "      <th></th>\n",
       "    </tr>\n",
       "  </thead>\n",
       "  <tbody>\n",
       "    <tr>\n",
       "      <th>0</th>\n",
       "      <td>5</td>\n",
       "      <td>L000003</td>\n",
       "      <td>Acervo Circulante</td>\n",
       "      <td>Biblioteca Central Zila Mamede</td>\n",
       "      <td>REGULAR</td>\n",
       "      <td>694</td>\n",
       "      <td>1</td>\n",
       "    </tr>\n",
       "    <tr>\n",
       "      <th>1</th>\n",
       "      <td>4</td>\n",
       "      <td>L000002</td>\n",
       "      <td>Acervo Circulante</td>\n",
       "      <td>Biblioteca Central Zila Mamede</td>\n",
       "      <td>REGULAR</td>\n",
       "      <td>688</td>\n",
       "      <td>1</td>\n",
       "    </tr>\n",
       "    <tr>\n",
       "      <th>2</th>\n",
       "      <td>3</td>\n",
       "      <td>L000001</td>\n",
       "      <td>Acervo Circulante</td>\n",
       "      <td>Biblioteca Central Zila Mamede</td>\n",
       "      <td>ESPECIAL</td>\n",
       "      <td>638</td>\n",
       "      <td>1</td>\n",
       "    </tr>\n",
       "    <tr>\n",
       "      <th>3</th>\n",
       "      <td>7</td>\n",
       "      <td>L000114</td>\n",
       "      <td>Acervo Circulante</td>\n",
       "      <td>Biblioteca Central Zila Mamede</td>\n",
       "      <td>REGULAR</td>\n",
       "      <td>616</td>\n",
       "      <td>5</td>\n",
       "    </tr>\n",
       "    <tr>\n",
       "      <th>5</th>\n",
       "      <td>10</td>\n",
       "      <td>L000041</td>\n",
       "      <td>Acervo Circulante</td>\n",
       "      <td>Biblioteca Central Zila Mamede</td>\n",
       "      <td>ESPECIAL</td>\n",
       "      <td>657</td>\n",
       "      <td>15</td>\n",
       "    </tr>\n",
       "    <tr>\n",
       "      <th>...</th>\n",
       "      <td>...</td>\n",
       "      <td>...</td>\n",
       "      <td>...</td>\n",
       "      <td>...</td>\n",
       "      <td>...</td>\n",
       "      <td>...</td>\n",
       "      <td>...</td>\n",
       "    </tr>\n",
       "    <tr>\n",
       "      <th>568580</th>\n",
       "      <td>1353472</td>\n",
       "      <td>2021011150</td>\n",
       "      <td>Acervo Circulante</td>\n",
       "      <td>Biblioteca Setorial do Núcleo de Educação da I...</td>\n",
       "      <td>REGULAR</td>\n",
       "      <td>951</td>\n",
       "      <td>268231</td>\n",
       "    </tr>\n",
       "    <tr>\n",
       "      <th>568581</th>\n",
       "      <td>1353473</td>\n",
       "      <td>2019013454</td>\n",
       "      <td>Acervo Circulante</td>\n",
       "      <td>Biblioteca Central Zila Mamede</td>\n",
       "      <td>ESPECIAL</td>\n",
       "      <td>997</td>\n",
       "      <td>268233</td>\n",
       "    </tr>\n",
       "    <tr>\n",
       "      <th>568582</th>\n",
       "      <td>1353474</td>\n",
       "      <td>2019012811</td>\n",
       "      <td>Acervo Circulante</td>\n",
       "      <td>Biblioteca Central Zila Mamede</td>\n",
       "      <td>ESPECIAL</td>\n",
       "      <td>987</td>\n",
       "      <td>268234</td>\n",
       "    </tr>\n",
       "    <tr>\n",
       "      <th>568583</th>\n",
       "      <td>1353475</td>\n",
       "      <td>2019013451</td>\n",
       "      <td>Acervo Circulante</td>\n",
       "      <td>Biblioteca Central Zila Mamede</td>\n",
       "      <td>ESPECIAL</td>\n",
       "      <td>764</td>\n",
       "      <td>268235</td>\n",
       "    </tr>\n",
       "    <tr>\n",
       "      <th>568584</th>\n",
       "      <td>1353476</td>\n",
       "      <td>2019012276</td>\n",
       "      <td>Acervo Circulante</td>\n",
       "      <td>Biblioteca Central Zila Mamede</td>\n",
       "      <td>ESPECIAL</td>\n",
       "      <td>962</td>\n",
       "      <td>268236</td>\n",
       "    </tr>\n",
       "  </tbody>\n",
       "</table>\n",
       "<p>546237 rows × 7 columns</p>\n",
       "</div>"
      ],
      "text/plain": [
       "        id_exemplar codigo_barras            colecao  \\\n",
       "index                                                  \n",
       "0                 5       L000003  Acervo Circulante   \n",
       "1                 4       L000002  Acervo Circulante   \n",
       "2                 3       L000001  Acervo Circulante   \n",
       "3                 7       L000114  Acervo Circulante   \n",
       "5                10       L000041  Acervo Circulante   \n",
       "...             ...           ...                ...   \n",
       "568580      1353472    2021011150  Acervo Circulante   \n",
       "568581      1353473    2019013454  Acervo Circulante   \n",
       "568582      1353474    2019012811  Acervo Circulante   \n",
       "568583      1353475    2019013451  Acervo Circulante   \n",
       "568584      1353476    2019012276  Acervo Circulante   \n",
       "\n",
       "                                               biblioteca status_material  \\\n",
       "index                                                                       \n",
       "0                          Biblioteca Central Zila Mamede         REGULAR   \n",
       "1                          Biblioteca Central Zila Mamede         REGULAR   \n",
       "2                          Biblioteca Central Zila Mamede        ESPECIAL   \n",
       "3                          Biblioteca Central Zila Mamede         REGULAR   \n",
       "5                          Biblioteca Central Zila Mamede        ESPECIAL   \n",
       "...                                                   ...             ...   \n",
       "568580  Biblioteca Setorial do Núcleo de Educação da I...         REGULAR   \n",
       "568581                     Biblioteca Central Zila Mamede        ESPECIAL   \n",
       "568582                     Biblioteca Central Zila Mamede        ESPECIAL   \n",
       "568583                     Biblioteca Central Zila Mamede        ESPECIAL   \n",
       "568584                     Biblioteca Central Zila Mamede        ESPECIAL   \n",
       "\n",
       "        localizacao  registro_sistema  \n",
       "index                                  \n",
       "0               694                 1  \n",
       "1               688                 1  \n",
       "2               638                 1  \n",
       "3               616                 5  \n",
       "5               657                15  \n",
       "...             ...               ...  \n",
       "568580          951            268231  \n",
       "568581          997            268233  \n",
       "568582          987            268234  \n",
       "568583          764            268235  \n",
       "568584          962            268236  \n",
       "\n",
       "[546237 rows x 7 columns]"
      ]
     },
     "execution_count": 6,
     "metadata": {},
     "output_type": "execute_result"
    }
   ],
   "source": [
    "acervo = pd.read_parquet('./Dia_1-Importando_dados/Datasets/dados_exemplares.parquet', engine='pyarrow')\n",
    "acervo"
   ]
  },
  {
   "attachments": {},
   "cell_type": "markdown",
   "id": "99a6eed8",
   "metadata": {},
   "source": [
    "## Identificando dados nulos e vazios\n",
    "\n",
    "https://pandas.pydata.org/docs/reference/api/pandas.isna.html\n",
    "\n",
    "https://pandas.pydata.org/docs/reference/api/pandas.isnull.html"
   ]
  },
  {
   "cell_type": "code",
   "execution_count": 7,
   "id": "affd53f8",
   "metadata": {
    "scrolled": true
   },
   "outputs": [
    {
     "name": "stdout",
     "output_type": "stream",
     "text": [
      "index                         0\n",
      "id_emprestimo                 0\n",
      "codigo_barras                 0\n",
      "data_renovacao          1285720\n",
      "data_emprestimo               0\n",
      "data_devolucao             6471\n",
      "matricula_ou_siape         3170\n",
      "tipo_vinculo_usuario          0\n",
      "dtype: int64\n"
     ]
    }
   ],
   "source": [
    "# isna\n",
    "print(tabela_x.isna().sum())"
   ]
  },
  {
   "cell_type": "code",
   "execution_count": 8,
   "id": "e4ac19c8",
   "metadata": {},
   "outputs": [
    {
     "name": "stdout",
     "output_type": "stream",
     "text": [
      "index                         0\n",
      "id_emprestimo                 0\n",
      "codigo_barras                 0\n",
      "data_renovacao          1285720\n",
      "data_emprestimo               0\n",
      "data_devolucao             6471\n",
      "matricula_ou_siape         3170\n",
      "tipo_vinculo_usuario          0\n",
      "dtype: int64\n"
     ]
    }
   ],
   "source": [
    "# isnull\n",
    "print(tabela_x.isnull().sum())"
   ]
  },
  {
   "cell_type": "code",
   "execution_count": 9,
   "id": "1d0c326a",
   "metadata": {},
   "outputs": [
    {
     "name": "stdout",
     "output_type": "stream",
     "text": [
      "id_exemplar         0\n",
      "codigo_barras       0\n",
      "colecao             0\n",
      "biblioteca          0\n",
      "status_material     0\n",
      "localizacao         0\n",
      "registro_sistema    0\n",
      "dtype: int64\n"
     ]
    }
   ],
   "source": [
    "# isna\n",
    "print(acervo.isna().sum())"
   ]
  },
  {
   "cell_type": "code",
   "execution_count": 10,
   "id": "d76d107d",
   "metadata": {},
   "outputs": [
    {
     "name": "stdout",
     "output_type": "stream",
     "text": [
      "id_exemplar         0\n",
      "codigo_barras       0\n",
      "colecao             0\n",
      "biblioteca          0\n",
      "status_material     0\n",
      "localizacao         0\n",
      "registro_sistema    0\n",
      "dtype: int64\n"
     ]
    }
   ],
   "source": [
    "# isnull\n",
    "print(acervo.isnull().sum())"
   ]
  },
  {
   "attachments": {},
   "cell_type": "markdown",
   "id": "ea7c6ce7",
   "metadata": {},
   "source": [
    "As colunas que apresentam dados nulos não afetarão a junção dos dataframes nesse momento."
   ]
  },
  {
   "attachments": {},
   "cell_type": "markdown",
   "id": "975fd8de",
   "metadata": {},
   "source": [
    "## Removendo dados duplicados\n",
    "\n",
    "Não poderemos trabalhar com registros com dados do código de barras duplicados no acervo pois serão utilizados como chaves para o merge.\n",
    "\n",
    "https://pandas.pydata.org/docs/reference/api/pandas.DataFrame.nunique.html"
   ]
  },
  {
   "cell_type": "code",
   "execution_count": 11,
   "id": "c031c2e4",
   "metadata": {},
   "outputs": [
    {
     "name": "stdout",
     "output_type": "stream",
     "text": [
      "545049\n",
      "546237\n"
     ]
    }
   ],
   "source": [
    "print(acervo['codigo_barras'].nunique())\n",
    "print(len(acervo))"
   ]
  },
  {
   "attachments": {},
   "cell_type": "markdown",
   "id": "4139932b",
   "metadata": {},
   "source": [
    "Poderão ter registros com o mesmo número de id_emprestimo, uma vez que cada empréstimo poderá ter mais de um exemplar."
   ]
  },
  {
   "cell_type": "code",
   "execution_count": 12,
   "id": "3eefe122",
   "metadata": {},
   "outputs": [
    {
     "name": "stdout",
     "output_type": "stream",
     "text": [
      "2139267\n",
      "2258018\n"
     ]
    }
   ],
   "source": [
    "print(tabela_x['id_emprestimo'].nunique())\n",
    "print(len(tabela_x))"
   ]
  },
  {
   "attachments": {},
   "cell_type": "markdown",
   "id": "25b8cc53",
   "metadata": {},
   "source": [
    "Eliminando os registros duplicados com o método ___drop_duplicates___\n",
    "\n",
    "https://pandas.pydata.org/docs/reference/api/pandas.DataFrame.drop_duplicates.html"
   ]
  },
  {
   "cell_type": "code",
   "execution_count": 13,
   "id": "7d93f34e",
   "metadata": {},
   "outputs": [],
   "source": [
    "acervo_df = acervo.drop_duplicates(subset='codigo_barras', keep='first')"
   ]
  },
  {
   "cell_type": "code",
   "execution_count": 14,
   "id": "d0a31046",
   "metadata": {},
   "outputs": [
    {
     "name": "stdout",
     "output_type": "stream",
     "text": [
      "545049\n",
      "545049\n"
     ]
    }
   ],
   "source": [
    "print(acervo_df['codigo_barras'].nunique())\n",
    "print(len(acervo_df))"
   ]
  },
  {
   "attachments": {},
   "cell_type": "markdown",
   "id": "f2cfcc2f",
   "metadata": {},
   "source": [
    "### Análise da relação do número de empréstimos x exemplares."
   ]
  },
  {
   "attachments": {},
   "cell_type": "markdown",
   "id": "377ad7f3",
   "metadata": {},
   "source": [
    "* Caso o registro tenha o mesmo número de id_emprestimo, codigo_barras e data_emprestimo iguais, tratam-se de registros duplicados e serão excluídos."
   ]
  },
  {
   "cell_type": "code",
   "execution_count": 15,
   "id": "f60f8c6f",
   "metadata": {},
   "outputs": [],
   "source": [
    "emprestimos_df = tabela_x.drop_duplicates(subset=['id_emprestimo', 'codigo_barras', 'data_emprestimo'], keep='first')"
   ]
  },
  {
   "cell_type": "code",
   "execution_count": 16,
   "id": "29e745ea",
   "metadata": {},
   "outputs": [
    {
     "name": "stdout",
     "output_type": "stream",
     "text": [
      "2139267\n",
      "2257981\n",
      "2258018\n"
     ]
    }
   ],
   "source": [
    "print(emprestimos_df['id_emprestimo'].nunique())\n",
    "print(len(emprestimos_df))\n",
    "print(len(tabela_x))"
   ]
  },
  {
   "cell_type": "code",
   "execution_count": 17,
   "id": "2d755161",
   "metadata": {},
   "outputs": [
    {
     "data": {
      "text/plain": [
       "2427297    2\n",
       "2443307    2\n",
       "2443315    2\n",
       "2443314    2\n",
       "2443313    2\n",
       "Name: id_emprestimo, dtype: int64"
      ]
     },
     "execution_count": 17,
     "metadata": {},
     "output_type": "execute_result"
    }
   ],
   "source": [
    "emprestimos_df['id_emprestimo'].value_counts().head()"
   ]
  },
  {
   "cell_type": "code",
   "execution_count": 18,
   "id": "69400184",
   "metadata": {},
   "outputs": [
    {
     "data": {
      "text/html": [
       "<div>\n",
       "<style scoped>\n",
       "    .dataframe tbody tr th:only-of-type {\n",
       "        vertical-align: middle;\n",
       "    }\n",
       "\n",
       "    .dataframe tbody tr th {\n",
       "        vertical-align: top;\n",
       "    }\n",
       "\n",
       "    .dataframe thead th {\n",
       "        text-align: right;\n",
       "    }\n",
       "</style>\n",
       "<table border=\"1\" class=\"dataframe\">\n",
       "  <thead>\n",
       "    <tr style=\"text-align: right;\">\n",
       "      <th></th>\n",
       "      <th>index</th>\n",
       "      <th>id_emprestimo</th>\n",
       "      <th>codigo_barras</th>\n",
       "      <th>data_renovacao</th>\n",
       "      <th>data_emprestimo</th>\n",
       "      <th>data_devolucao</th>\n",
       "      <th>matricula_ou_siape</th>\n",
       "      <th>tipo_vinculo_usuario</th>\n",
       "    </tr>\n",
       "  </thead>\n",
       "  <tbody>\n",
       "    <tr>\n",
       "      <th>1486775</th>\n",
       "      <td>91876</td>\n",
       "      <td>2443307</td>\n",
       "      <td>L133663</td>\n",
       "      <td>NaN</td>\n",
       "      <td>2016/05/19 14:38:15.156000000</td>\n",
       "      <td>2016/06/05 19:01:27.000000000</td>\n",
       "      <td>2.017003e+10</td>\n",
       "      <td>ALUNO DE GRADUAÇÃO</td>\n",
       "    </tr>\n",
       "    <tr>\n",
       "      <th>1712676</th>\n",
       "      <td>91865</td>\n",
       "      <td>2443307</td>\n",
       "      <td>L133663</td>\n",
       "      <td>NaN</td>\n",
       "      <td>2017/05/19 14:38:15.156000000</td>\n",
       "      <td>2017/06/05 19:01:27.000000000</td>\n",
       "      <td>2.017003e+10</td>\n",
       "      <td>ALUNO DE GRADUAÇÃO</td>\n",
       "    </tr>\n",
       "  </tbody>\n",
       "</table>\n",
       "</div>"
      ],
      "text/plain": [
       "         index  id_emprestimo codigo_barras data_renovacao  \\\n",
       "1486775  91876        2443307       L133663            NaN   \n",
       "1712676  91865        2443307       L133663            NaN   \n",
       "\n",
       "                       data_emprestimo                 data_devolucao  \\\n",
       "1486775  2016/05/19 14:38:15.156000000  2016/06/05 19:01:27.000000000   \n",
       "1712676  2017/05/19 14:38:15.156000000  2017/06/05 19:01:27.000000000   \n",
       "\n",
       "         matricula_ou_siape tipo_vinculo_usuario  \n",
       "1486775        2.017003e+10   ALUNO DE GRADUAÇÃO  \n",
       "1712676        2.017003e+10   ALUNO DE GRADUAÇÃO  "
      ]
     },
     "execution_count": 18,
     "metadata": {},
     "output_type": "execute_result"
    }
   ],
   "source": [
    "tabela_x.query(\"id_emprestimo == 2443307\")"
   ]
  },
  {
   "attachments": {},
   "cell_type": "markdown",
   "id": "05ac3eae",
   "metadata": {},
   "source": [
    "### Merge entre dos dois DataFrames (Acervo e Empréstimos)"
   ]
  },
  {
   "attachments": {},
   "cell_type": "markdown",
   "id": "92f095ff",
   "metadata": {},
   "source": [
    "Mesclando com os dados do acervo, para entender, por exemplo, de qual biblioteca era o material emprestado ou a qual tema ele se referia. A relação se dá pela coluna de código de barras de cada material. \n",
    "\n",
    "https://pandas.pydata.org/docs/reference/api/pandas.DataFrame.merge.html"
   ]
  },
  {
   "cell_type": "code",
   "execution_count": 19,
   "id": "d3eb7299",
   "metadata": {},
   "outputs": [],
   "source": [
    "df_1 = pd.merge(emprestimos_df, acervo_df, on = \"codigo_barras\")"
   ]
  },
  {
   "cell_type": "code",
   "execution_count": 20,
   "id": "1ae91e7c",
   "metadata": {},
   "outputs": [
    {
     "name": "stdout",
     "output_type": "stream",
     "text": [
      "<class 'pandas.core.frame.DataFrame'>\n",
      "Int64Index: 2068724 entries, 0 to 2068723\n",
      "Data columns (total 14 columns):\n",
      " #   Column                Dtype  \n",
      "---  ------                -----  \n",
      " 0   index                 int64  \n",
      " 1   id_emprestimo         int64  \n",
      " 2   codigo_barras         object \n",
      " 3   data_renovacao        object \n",
      " 4   data_emprestimo       object \n",
      " 5   data_devolucao        object \n",
      " 6   matricula_ou_siape    float64\n",
      " 7   tipo_vinculo_usuario  object \n",
      " 8   id_exemplar           int64  \n",
      " 9   colecao               object \n",
      " 10  biblioteca            object \n",
      " 11  status_material       object \n",
      " 12  localizacao           int64  \n",
      " 13  registro_sistema      int64  \n",
      "dtypes: float64(1), int64(5), object(8)\n",
      "memory usage: 236.7+ MB\n"
     ]
    }
   ],
   "source": [
    "df_1.info()"
   ]
  },
  {
   "cell_type": "code",
   "execution_count": 21,
   "id": "989f238c",
   "metadata": {},
   "outputs": [
    {
     "name": "stdout",
     "output_type": "stream",
     "text": [
      "index                         0\n",
      "id_emprestimo                 0\n",
      "codigo_barras                 0\n",
      "data_renovacao          1159834\n",
      "data_emprestimo               0\n",
      "data_devolucao             6165\n",
      "matricula_ou_siape         2892\n",
      "tipo_vinculo_usuario          0\n",
      "id_exemplar                   0\n",
      "colecao                       0\n",
      "biblioteca                    0\n",
      "status_material               0\n",
      "localizacao                   0\n",
      "registro_sistema              0\n",
      "dtype: int64\n"
     ]
    }
   ],
   "source": [
    "# isna\n",
    "print(df_1.isna().sum())"
   ]
  },
  {
   "cell_type": "code",
   "execution_count": 22,
   "id": "9444e2cc",
   "metadata": {},
   "outputs": [
    {
     "name": "stdout",
     "output_type": "stream",
     "text": [
      "index                         0\n",
      "id_emprestimo                 0\n",
      "codigo_barras                 0\n",
      "data_renovacao          1159834\n",
      "data_emprestimo               0\n",
      "data_devolucao             6165\n",
      "matricula_ou_siape         2892\n",
      "tipo_vinculo_usuario          0\n",
      "id_exemplar                   0\n",
      "colecao                       0\n",
      "biblioteca                    0\n",
      "status_material               0\n",
      "localizacao                   0\n",
      "registro_sistema              0\n",
      "dtype: int64\n"
     ]
    }
   ],
   "source": [
    "# isnull\n",
    "print(df_1.isnull().sum())"
   ]
  },
  {
   "attachments": {},
   "cell_type": "markdown",
   "id": "1097214b",
   "metadata": {},
   "source": [
    "DataFrame preparado para iniciar as análises"
   ]
  },
  {
   "attachments": {},
   "cell_type": "markdown",
   "id": "8b736aca",
   "metadata": {},
   "source": [
    "# Dia 02 - Limpeza de Dados\n",
    "\n",
    "## Criação de coluna de classes do CDU"
   ]
  },
  {
   "attachments": {},
   "cell_type": "markdown",
   "id": "7bb76b1c",
   "metadata": {},
   "source": [
    "\"Os itens do acervo em uma biblioteca são organizados por um sistema de classificação de acordo com o respectivo tema. Existem diversos sistemas, mas este conjunto está de acordo com a CDU - Classificação Decimal Universal. Esta classificação é decimal, pois varia de acordo com a classe de cada assunto:\n",
    "\n",
    "*\t000 a 099: Generalidades. Ciência e conhecimento.\n",
    "*\t100 a 199: Filosofia e psicologia.\n",
    "*\t200 a 299: Religião.\n",
    "*\t300 a 399: Ciências sociais.\n",
    "*\t400 a 499: Classe vaga. Provisoriamente não ocupada.\n",
    "*\t500 a 599: Matemática e ciências naturais.\n",
    "*\t600 a 699: Ciências aplicadas.\n",
    "*\t700 a 799: Belas artes.\n",
    "*\t800 a 899: Linguagem. Língua. Linguística.\n",
    "*\t900 a 999: Geografia. Biografia. História.\"\n"
   ]
  },
  {
   "attachments": {},
   "cell_type": "markdown",
   "id": "5bd0ddbd",
   "metadata": {},
   "source": [
    "Portanto, se um material tiver um código de localização 720, ele está dentro da classe geral de “Belas Artes”; ou se tiver um código 028, estará dentro da classe geral de “Generalidades. Ciência e conhecimento”.\n",
    "\n",
    "Para isso, crie uma nova coluna com os valores da localização, para refletir a respectiva classe geral na CDU."
   ]
  },
  {
   "cell_type": "code",
   "execution_count": 23,
   "id": "f6c48c9e",
   "metadata": {},
   "outputs": [],
   "source": [
    "def categorizar(num):\n",
    "    if num < 100:\n",
    "        return 'Generalidades. Ciência e conhecimento'\n",
    "    elif num >= 100 and num < 199: \n",
    "        return 'Filosofia e psicologia'\n",
    "    elif num >= 200 and num < 299:\n",
    "        return 'Religião'\n",
    "    elif num >= 300 and num <= 399:\n",
    "        return 'Ciências sociais'\n",
    "    elif num >= 400 and num <= 499: \n",
    "        return 'Classe vaga. Provisoriamente não ocupada'\n",
    "    elif num >= 500 and num <= 599: \n",
    "        return 'Matemática e ciências naturais'\n",
    "    elif num >= 600 and num <= 699: \n",
    "        return 'Ciências aplicadas.'\n",
    "    elif num >= 700 and num <= 799: \n",
    "        return 'Belas artes'\n",
    "    elif num >= 800 and num <= 899: \n",
    "        return 'Linguagem. Língua. Linguística'\n",
    "    elif num >= 900 and num <= 999: \n",
    "        return 'Geografia. Biografia. História'\n",
    "    else:\n",
    "        return \"Erro\""
   ]
  },
  {
   "cell_type": "code",
   "execution_count": 24,
   "id": "291c69dc",
   "metadata": {},
   "outputs": [],
   "source": [
    "df_1['Classe'] = df_1['localizacao'].apply(categorizar)"
   ]
  },
  {
   "attachments": {},
   "cell_type": "markdown",
   "id": "e0578bf1",
   "metadata": {},
   "source": [
    "### Exclusão da coluna \"registro_sistema\" \n",
    "\n",
    "A coluna \"registro_sistema\" não está fazendo sentido para essa análise, por isso será excluída."
   ]
  },
  {
   "cell_type": "code",
   "execution_count": 25,
   "id": "54de1053",
   "metadata": {},
   "outputs": [],
   "source": [
    "df_1 = df_1[['index', 'id_emprestimo', 'codigo_barras', 'data_renovacao','data_emprestimo', 'data_devolucao', 'matricula_ou_siape',\n",
    "       'tipo_vinculo_usuario', 'id_exemplar', 'colecao', 'biblioteca','status_material', 'localizacao', 'Classe']]"
   ]
  },
  {
   "cell_type": "code",
   "execution_count": 26,
   "id": "0d1ef66b",
   "metadata": {},
   "outputs": [
    {
     "name": "stdout",
     "output_type": "stream",
     "text": [
      "<class 'pandas.core.frame.DataFrame'>\n",
      "Int64Index: 2068724 entries, 0 to 2068723\n",
      "Data columns (total 14 columns):\n",
      " #   Column                Dtype  \n",
      "---  ------                -----  \n",
      " 0   index                 int64  \n",
      " 1   id_emprestimo         int64  \n",
      " 2   codigo_barras         object \n",
      " 3   data_renovacao        object \n",
      " 4   data_emprestimo       object \n",
      " 5   data_devolucao        object \n",
      " 6   matricula_ou_siape    float64\n",
      " 7   tipo_vinculo_usuario  object \n",
      " 8   id_exemplar           int64  \n",
      " 9   colecao               object \n",
      " 10  biblioteca            object \n",
      " 11  status_material       object \n",
      " 12  localizacao           int64  \n",
      " 13  Classe                object \n",
      "dtypes: float64(1), int64(4), object(9)\n",
      "memory usage: 236.7+ MB\n"
     ]
    }
   ],
   "source": [
    "df_1.info()"
   ]
  },
  {
   "attachments": {},
   "cell_type": "markdown",
   "id": "cad8cd9a",
   "metadata": {},
   "source": [
    "### Transformar a coluna \"matricula_ou_siape\" no formato String\n",
    "\n",
    "A coluna da matricula (“matricula_ou_siape”) não está com um formato muito legível. \n",
    "Será transformada em formato String. "
   ]
  },
  {
   "cell_type": "code",
   "execution_count": 27,
   "id": "03b47582",
   "metadata": {},
   "outputs": [],
   "source": [
    "df_1['matricula_ou_siape'] = df_1['matricula_ou_siape'].apply(str)"
   ]
  },
  {
   "cell_type": "code",
   "execution_count": 28,
   "id": "0c4576ff",
   "metadata": {},
   "outputs": [
    {
     "name": "stdout",
     "output_type": "stream",
     "text": [
      "<class 'pandas.core.frame.DataFrame'>\n",
      "Int64Index: 2068724 entries, 0 to 2068723\n",
      "Data columns (total 14 columns):\n",
      " #   Column                Dtype \n",
      "---  ------                ----- \n",
      " 0   index                 int64 \n",
      " 1   id_emprestimo         int64 \n",
      " 2   codigo_barras         object\n",
      " 3   data_renovacao        object\n",
      " 4   data_emprestimo       object\n",
      " 5   data_devolucao        object\n",
      " 6   matricula_ou_siape    object\n",
      " 7   tipo_vinculo_usuario  object\n",
      " 8   id_exemplar           int64 \n",
      " 9   colecao               object\n",
      " 10  biblioteca            object\n",
      " 11  status_material       object\n",
      " 12  localizacao           int64 \n",
      " 13  Classe                object\n",
      "dtypes: int64(4), object(10)\n",
      "memory usage: 236.7+ MB\n"
     ]
    }
   ],
   "source": [
    "df_1.info()"
   ]
  },
  {
   "attachments": {},
   "cell_type": "markdown",
   "id": "5136f0fd",
   "metadata": {},
   "source": [
    "# Dia 03 - Análise exploratória de dados e DateTime"
   ]
  },
  {
   "cell_type": "code",
   "execution_count": 29,
   "id": "1540d74b",
   "metadata": {},
   "outputs": [],
   "source": [
    "import matplotlib.pyplot as plt"
   ]
  },
  {
   "attachments": {},
   "cell_type": "markdown",
   "id": "ba623c32",
   "metadata": {},
   "source": [
    "Objetivo: entender a quantidade e quando se emprestaram os livros."
   ]
  },
  {
   "attachments": {},
   "cell_type": "markdown",
   "id": "31831fca",
   "metadata": {},
   "source": [
    "### Transformar as datas em tipo Datetime"
   ]
  },
  {
   "cell_type": "code",
   "execution_count": 30,
   "id": "69b260f6",
   "metadata": {},
   "outputs": [],
   "source": [
    "df_1['data_emprestimo'] = pd.to_datetime(df_1['data_emprestimo'])"
   ]
  },
  {
   "attachments": {},
   "cell_type": "markdown",
   "id": "95b1cd22",
   "metadata": {},
   "source": [
    "Verificar qual é a quantidade total de exemplares emprestados por cada ano e plote um gráfico de linhas. Criando uma coluna ano para facilitar a análise."
   ]
  },
  {
   "cell_type": "code",
   "execution_count": 31,
   "id": "e5b50615",
   "metadata": {},
   "outputs": [
    {
     "data": {
      "text/plain": [
       "0          2010\n",
       "1          2010\n",
       "2          2010\n",
       "3          2010\n",
       "4          2010\n",
       "           ... \n",
       "2068719    2020\n",
       "2068720    2020\n",
       "2068721    2020\n",
       "2068722    2020\n",
       "2068723    2020\n",
       "Name: data_emprestimo, Length: 2068724, dtype: int64"
      ]
     },
     "execution_count": 31,
     "metadata": {},
     "output_type": "execute_result"
    }
   ],
   "source": [
    "df_1['data_emprestimo'].dt.year"
   ]
  },
  {
   "cell_type": "code",
   "execution_count": 32,
   "id": "30b84b74",
   "metadata": {},
   "outputs": [],
   "source": [
    "df_1['ano_emprestimo'] = df_1['data_emprestimo'].dt.year"
   ]
  },
  {
   "attachments": {},
   "cell_type": "markdown",
   "id": "cba727d6",
   "metadata": {},
   "source": [
    "## Gráfico e análise de empréstimo por ano"
   ]
  },
  {
   "cell_type": "code",
   "execution_count": 33,
   "id": "517eb235",
   "metadata": {},
   "outputs": [
    {
     "data": {
      "text/html": [
       "<div>\n",
       "<style scoped>\n",
       "    .dataframe tbody tr th:only-of-type {\n",
       "        vertical-align: middle;\n",
       "    }\n",
       "\n",
       "    .dataframe tbody tr th {\n",
       "        vertical-align: top;\n",
       "    }\n",
       "\n",
       "    .dataframe thead th {\n",
       "        text-align: right;\n",
       "    }\n",
       "</style>\n",
       "<table border=\"1\" class=\"dataframe\">\n",
       "  <thead>\n",
       "    <tr style=\"text-align: right;\">\n",
       "      <th></th>\n",
       "      <th>index</th>\n",
       "      <th>id_emprestimo</th>\n",
       "      <th>codigo_barras</th>\n",
       "      <th>data_renovacao</th>\n",
       "      <th>data_emprestimo</th>\n",
       "      <th>data_devolucao</th>\n",
       "      <th>matricula_ou_siape</th>\n",
       "      <th>tipo_vinculo_usuario</th>\n",
       "      <th>id_exemplar</th>\n",
       "      <th>colecao</th>\n",
       "      <th>biblioteca</th>\n",
       "      <th>status_material</th>\n",
       "      <th>localizacao</th>\n",
       "      <th>Classe</th>\n",
       "    </tr>\n",
       "    <tr>\n",
       "      <th>ano_emprestimo</th>\n",
       "      <th></th>\n",
       "      <th></th>\n",
       "      <th></th>\n",
       "      <th></th>\n",
       "      <th></th>\n",
       "      <th></th>\n",
       "      <th></th>\n",
       "      <th></th>\n",
       "      <th></th>\n",
       "      <th></th>\n",
       "      <th></th>\n",
       "      <th></th>\n",
       "      <th></th>\n",
       "      <th></th>\n",
       "    </tr>\n",
       "  </thead>\n",
       "  <tbody>\n",
       "    <tr>\n",
       "      <th>2010</th>\n",
       "      <td>161282</td>\n",
       "      <td>161282</td>\n",
       "      <td>161282</td>\n",
       "      <td>71393</td>\n",
       "      <td>161282</td>\n",
       "      <td>161269</td>\n",
       "      <td>161282</td>\n",
       "      <td>161282</td>\n",
       "      <td>161282</td>\n",
       "      <td>161282</td>\n",
       "      <td>161282</td>\n",
       "      <td>161282</td>\n",
       "      <td>161282</td>\n",
       "      <td>161282</td>\n",
       "    </tr>\n",
       "    <tr>\n",
       "      <th>2011</th>\n",
       "      <td>196202</td>\n",
       "      <td>196202</td>\n",
       "      <td>196202</td>\n",
       "      <td>93759</td>\n",
       "      <td>196202</td>\n",
       "      <td>196197</td>\n",
       "      <td>196202</td>\n",
       "      <td>196202</td>\n",
       "      <td>196202</td>\n",
       "      <td>196202</td>\n",
       "      <td>196202</td>\n",
       "      <td>196202</td>\n",
       "      <td>196202</td>\n",
       "      <td>196202</td>\n",
       "    </tr>\n",
       "    <tr>\n",
       "      <th>2012</th>\n",
       "      <td>221142</td>\n",
       "      <td>221142</td>\n",
       "      <td>221142</td>\n",
       "      <td>103876</td>\n",
       "      <td>221142</td>\n",
       "      <td>221133</td>\n",
       "      <td>221142</td>\n",
       "      <td>221142</td>\n",
       "      <td>221142</td>\n",
       "      <td>221142</td>\n",
       "      <td>221142</td>\n",
       "      <td>221142</td>\n",
       "      <td>221142</td>\n",
       "      <td>221142</td>\n",
       "    </tr>\n",
       "    <tr>\n",
       "      <th>2013</th>\n",
       "      <td>234437</td>\n",
       "      <td>234437</td>\n",
       "      <td>234437</td>\n",
       "      <td>105345</td>\n",
       "      <td>234437</td>\n",
       "      <td>234412</td>\n",
       "      <td>234437</td>\n",
       "      <td>234437</td>\n",
       "      <td>234437</td>\n",
       "      <td>234437</td>\n",
       "      <td>234437</td>\n",
       "      <td>234437</td>\n",
       "      <td>234437</td>\n",
       "      <td>234437</td>\n",
       "    </tr>\n",
       "    <tr>\n",
       "      <th>2014</th>\n",
       "      <td>218774</td>\n",
       "      <td>218774</td>\n",
       "      <td>218774</td>\n",
       "      <td>94095</td>\n",
       "      <td>218774</td>\n",
       "      <td>218741</td>\n",
       "      <td>218774</td>\n",
       "      <td>218774</td>\n",
       "      <td>218774</td>\n",
       "      <td>218774</td>\n",
       "      <td>218774</td>\n",
       "      <td>218774</td>\n",
       "      <td>218774</td>\n",
       "      <td>218774</td>\n",
       "    </tr>\n",
       "    <tr>\n",
       "      <th>2015</th>\n",
       "      <td>213118</td>\n",
       "      <td>213118</td>\n",
       "      <td>213118</td>\n",
       "      <td>85355</td>\n",
       "      <td>213118</td>\n",
       "      <td>213077</td>\n",
       "      <td>213118</td>\n",
       "      <td>213118</td>\n",
       "      <td>213118</td>\n",
       "      <td>213118</td>\n",
       "      <td>213118</td>\n",
       "      <td>213118</td>\n",
       "      <td>213118</td>\n",
       "      <td>213118</td>\n",
       "    </tr>\n",
       "    <tr>\n",
       "      <th>2016</th>\n",
       "      <td>215413</td>\n",
       "      <td>215413</td>\n",
       "      <td>215413</td>\n",
       "      <td>94789</td>\n",
       "      <td>215413</td>\n",
       "      <td>215365</td>\n",
       "      <td>215413</td>\n",
       "      <td>215413</td>\n",
       "      <td>215413</td>\n",
       "      <td>215413</td>\n",
       "      <td>215413</td>\n",
       "      <td>215413</td>\n",
       "      <td>215413</td>\n",
       "      <td>215413</td>\n",
       "    </tr>\n",
       "    <tr>\n",
       "      <th>2017</th>\n",
       "      <td>217975</td>\n",
       "      <td>217975</td>\n",
       "      <td>217975</td>\n",
       "      <td>93997</td>\n",
       "      <td>217975</td>\n",
       "      <td>217895</td>\n",
       "      <td>217975</td>\n",
       "      <td>217975</td>\n",
       "      <td>217975</td>\n",
       "      <td>217975</td>\n",
       "      <td>217975</td>\n",
       "      <td>217975</td>\n",
       "      <td>217975</td>\n",
       "      <td>217975</td>\n",
       "    </tr>\n",
       "    <tr>\n",
       "      <th>2018</th>\n",
       "      <td>193547</td>\n",
       "      <td>193547</td>\n",
       "      <td>193547</td>\n",
       "      <td>81693</td>\n",
       "      <td>193547</td>\n",
       "      <td>193486</td>\n",
       "      <td>193547</td>\n",
       "      <td>193547</td>\n",
       "      <td>193547</td>\n",
       "      <td>193547</td>\n",
       "      <td>193547</td>\n",
       "      <td>193547</td>\n",
       "      <td>193547</td>\n",
       "      <td>193547</td>\n",
       "    </tr>\n",
       "    <tr>\n",
       "      <th>2019</th>\n",
       "      <td>171299</td>\n",
       "      <td>171299</td>\n",
       "      <td>171299</td>\n",
       "      <td>74009</td>\n",
       "      <td>171299</td>\n",
       "      <td>171224</td>\n",
       "      <td>171299</td>\n",
       "      <td>171299</td>\n",
       "      <td>171299</td>\n",
       "      <td>171299</td>\n",
       "      <td>171299</td>\n",
       "      <td>171299</td>\n",
       "      <td>171299</td>\n",
       "      <td>171299</td>\n",
       "    </tr>\n",
       "    <tr>\n",
       "      <th>2020</th>\n",
       "      <td>25535</td>\n",
       "      <td>25535</td>\n",
       "      <td>25535</td>\n",
       "      <td>10579</td>\n",
       "      <td>25535</td>\n",
       "      <td>19760</td>\n",
       "      <td>25535</td>\n",
       "      <td>25535</td>\n",
       "      <td>25535</td>\n",
       "      <td>25535</td>\n",
       "      <td>25535</td>\n",
       "      <td>25535</td>\n",
       "      <td>25535</td>\n",
       "      <td>25535</td>\n",
       "    </tr>\n",
       "  </tbody>\n",
       "</table>\n",
       "</div>"
      ],
      "text/plain": [
       "                 index  id_emprestimo  codigo_barras  data_renovacao  \\\n",
       "ano_emprestimo                                                         \n",
       "2010            161282         161282         161282           71393   \n",
       "2011            196202         196202         196202           93759   \n",
       "2012            221142         221142         221142          103876   \n",
       "2013            234437         234437         234437          105345   \n",
       "2014            218774         218774         218774           94095   \n",
       "2015            213118         213118         213118           85355   \n",
       "2016            215413         215413         215413           94789   \n",
       "2017            217975         217975         217975           93997   \n",
       "2018            193547         193547         193547           81693   \n",
       "2019            171299         171299         171299           74009   \n",
       "2020             25535          25535          25535           10579   \n",
       "\n",
       "                data_emprestimo  data_devolucao  matricula_ou_siape  \\\n",
       "ano_emprestimo                                                        \n",
       "2010                     161282          161269              161282   \n",
       "2011                     196202          196197              196202   \n",
       "2012                     221142          221133              221142   \n",
       "2013                     234437          234412              234437   \n",
       "2014                     218774          218741              218774   \n",
       "2015                     213118          213077              213118   \n",
       "2016                     215413          215365              215413   \n",
       "2017                     217975          217895              217975   \n",
       "2018                     193547          193486              193547   \n",
       "2019                     171299          171224              171299   \n",
       "2020                      25535           19760               25535   \n",
       "\n",
       "                tipo_vinculo_usuario  id_exemplar  colecao  biblioteca  \\\n",
       "ano_emprestimo                                                           \n",
       "2010                          161282       161282   161282      161282   \n",
       "2011                          196202       196202   196202      196202   \n",
       "2012                          221142       221142   221142      221142   \n",
       "2013                          234437       234437   234437      234437   \n",
       "2014                          218774       218774   218774      218774   \n",
       "2015                          213118       213118   213118      213118   \n",
       "2016                          215413       215413   215413      215413   \n",
       "2017                          217975       217975   217975      217975   \n",
       "2018                          193547       193547   193547      193547   \n",
       "2019                          171299       171299   171299      171299   \n",
       "2020                           25535        25535    25535       25535   \n",
       "\n",
       "                status_material  localizacao  Classe  \n",
       "ano_emprestimo                                        \n",
       "2010                     161282       161282  161282  \n",
       "2011                     196202       196202  196202  \n",
       "2012                     221142       221142  221142  \n",
       "2013                     234437       234437  234437  \n",
       "2014                     218774       218774  218774  \n",
       "2015                     213118       213118  213118  \n",
       "2016                     215413       215413  215413  \n",
       "2017                     217975       217975  217975  \n",
       "2018                     193547       193547  193547  \n",
       "2019                     171299       171299  171299  \n",
       "2020                      25535        25535   25535  "
      ]
     },
     "execution_count": 33,
     "metadata": {},
     "output_type": "execute_result"
    }
   ],
   "source": [
    "grafico_groupby_ano = df_1.groupby(by=[\"ano_emprestimo\"], dropna=False).count()\n",
    "grafico_groupby_ano"
   ]
  },
  {
   "cell_type": "code",
   "execution_count": 34,
   "id": "a7426420",
   "metadata": {},
   "outputs": [
    {
     "data": {
      "image/png": "[encoded data removed]",
      "text/plain": [
       "<Figure size 1200x600 with 1 Axes>"
      ]
     },
     "metadata": {},
     "output_type": "display_data"
    }
   ],
   "source": [
    "fig, ax = plt.subplots(figsize=(12, 6))\n",
    "ax.plot(grafico_groupby_ano['id_emprestimo'])\n",
    "ax.set_xticks(grafico_groupby_ano.index)\n",
    "ax.set_yticks(range(0,max(grafico_groupby_ano['id_emprestimo'])+10000, 20000))\n",
    "ax.set_title('Empréstimos de livros por ano')\n",
    "plt.grid(True)\n",
    "plt.show();"
   ]
  },
  {
   "attachments": {},
   "cell_type": "markdown",
   "id": "d0f54538",
   "metadata": {},
   "source": [
    "* Pelo gráfico gerado há uma tendência de queda no número de empréstimo de livros da biblioteca a partir de 2013.\n",
    "* O ano de 2020 pode estar incompleto ou foi impactado pelo fechamento dos cursos presenciais durante a pandemia."
   ]
  },
  {
   "attachments": {},
   "cell_type": "markdown",
   "id": "6f6ca845",
   "metadata": {},
   "source": [
    "## Gráfico e análise de empréstimo por mês"
   ]
  },
  {
   "attachments": {},
   "cell_type": "markdown",
   "id": "c506599f",
   "metadata": {},
   "source": [
    "Gerar uma tabela com a quantidade total de exemplares emprestados por mês e descubra quais meses são os que possuem a maior quantidade de empréstimos realizados. Plote um gráfico de linhas."
   ]
  },
  {
   "cell_type": "code",
   "execution_count": 35,
   "id": "6aeb7351",
   "metadata": {},
   "outputs": [],
   "source": [
    "df_1['mes_emprestimo'] = df_1['data_emprestimo'].dt.month"
   ]
  },
  {
   "cell_type": "code",
   "execution_count": 36,
   "id": "0e0ba1c2",
   "metadata": {},
   "outputs": [],
   "source": [
    "grafico_groupby_mes = df_1.groupby(by=[\"mes_emprestimo\"], dropna=False).count()"
   ]
  },
  {
   "cell_type": "code",
   "execution_count": 37,
   "id": "88cec2d7",
   "metadata": {},
   "outputs": [
    {
     "data": {
      "image/png": "[encoded data removed]",
      "text/plain": [
       "<Figure size 1200x600 with 1 Axes>"
      ]
     },
     "metadata": {},
     "output_type": "display_data"
    }
   ],
   "source": [
    "fig, ax = plt.subplots(figsize=(12,6))\n",
    "ax.plot(grafico_groupby_mes['id_emprestimo'])\n",
    "ax.set_xticks(grafico_groupby_mes.index)\n",
    "plt.grid(True)\n",
    "plt.xticks(rotation = 0)\n",
    "ax.set_title('Empréstimos de livros por mês')\n",
    "plt.show()"
   ]
  },
  {
   "attachments": {},
   "cell_type": "markdown",
   "id": "45574913",
   "metadata": {},
   "source": [
    "* Os meses de Janeiro e Dezembro possuem o menor número de empréstimos, seguidos dos meses de junho e julho.\n",
    "* Esse comportamento certamente está ligado ao período de férias escolares.\n",
    "* Os meses de Março e Agosto são os meses com maior número de empréstimos."
   ]
  },
  {
   "attachments": {},
   "cell_type": "markdown",
   "id": "ed8aea97",
   "metadata": {},
   "source": [
    "## Gráfico e análise de empréstimo por hora"
   ]
  },
  {
   "attachments": {},
   "cell_type": "markdown",
   "id": "dc70d19c",
   "metadata": {},
   "source": [
    "Plotar um gráfico de barras e analisar quais seriam os melhores horários para alocar as demais atividades que não sejam de atendimento ao usuário. "
   ]
  },
  {
   "attachments": {},
   "cell_type": "markdown",
   "id": "72c905d3",
   "metadata": {},
   "source": [
    "Verificar quais foram os horários com maior quantidade de empréstimos ao longo de um dia inteiro. "
   ]
  },
  {
   "cell_type": "code",
   "execution_count": 38,
   "id": "afab5b9a",
   "metadata": {},
   "outputs": [],
   "source": [
    "df_1['hora_emprestimo'] = df_1['data_emprestimo'].dt.hour"
   ]
  },
  {
   "cell_type": "code",
   "execution_count": 39,
   "id": "a5132357",
   "metadata": {},
   "outputs": [
    {
     "data": {
      "text/html": [
       "<div>\n",
       "<style scoped>\n",
       "    .dataframe tbody tr th:only-of-type {\n",
       "        vertical-align: middle;\n",
       "    }\n",
       "\n",
       "    .dataframe tbody tr th {\n",
       "        vertical-align: top;\n",
       "    }\n",
       "\n",
       "    .dataframe thead th {\n",
       "        text-align: right;\n",
       "    }\n",
       "</style>\n",
       "<table border=\"1\" class=\"dataframe\">\n",
       "  <thead>\n",
       "    <tr style=\"text-align: right;\">\n",
       "      <th></th>\n",
       "      <th>index</th>\n",
       "      <th>id_emprestimo</th>\n",
       "      <th>codigo_barras</th>\n",
       "      <th>data_renovacao</th>\n",
       "      <th>data_emprestimo</th>\n",
       "      <th>data_devolucao</th>\n",
       "      <th>matricula_ou_siape</th>\n",
       "      <th>tipo_vinculo_usuario</th>\n",
       "      <th>id_exemplar</th>\n",
       "      <th>colecao</th>\n",
       "      <th>biblioteca</th>\n",
       "      <th>status_material</th>\n",
       "      <th>localizacao</th>\n",
       "      <th>Classe</th>\n",
       "      <th>ano_emprestimo</th>\n",
       "      <th>mes_emprestimo</th>\n",
       "    </tr>\n",
       "    <tr>\n",
       "      <th>hora_emprestimo</th>\n",
       "      <th></th>\n",
       "      <th></th>\n",
       "      <th></th>\n",
       "      <th></th>\n",
       "      <th></th>\n",
       "      <th></th>\n",
       "      <th></th>\n",
       "      <th></th>\n",
       "      <th></th>\n",
       "      <th></th>\n",
       "      <th></th>\n",
       "      <th></th>\n",
       "      <th></th>\n",
       "      <th></th>\n",
       "      <th></th>\n",
       "      <th></th>\n",
       "    </tr>\n",
       "  </thead>\n",
       "  <tbody>\n",
       "    <tr>\n",
       "      <th>0</th>\n",
       "      <td>17</td>\n",
       "      <td>17</td>\n",
       "      <td>17</td>\n",
       "      <td>2</td>\n",
       "      <td>17</td>\n",
       "      <td>17</td>\n",
       "      <td>17</td>\n",
       "      <td>17</td>\n",
       "      <td>17</td>\n",
       "      <td>17</td>\n",
       "      <td>17</td>\n",
       "      <td>17</td>\n",
       "      <td>17</td>\n",
       "      <td>17</td>\n",
       "      <td>17</td>\n",
       "      <td>17</td>\n",
       "    </tr>\n",
       "    <tr>\n",
       "      <th>6</th>\n",
       "      <td>14</td>\n",
       "      <td>14</td>\n",
       "      <td>14</td>\n",
       "      <td>1</td>\n",
       "      <td>14</td>\n",
       "      <td>14</td>\n",
       "      <td>14</td>\n",
       "      <td>14</td>\n",
       "      <td>14</td>\n",
       "      <td>14</td>\n",
       "      <td>14</td>\n",
       "      <td>14</td>\n",
       "      <td>14</td>\n",
       "      <td>14</td>\n",
       "      <td>14</td>\n",
       "      <td>14</td>\n",
       "    </tr>\n",
       "    <tr>\n",
       "      <th>7</th>\n",
       "      <td>18736</td>\n",
       "      <td>18736</td>\n",
       "      <td>18736</td>\n",
       "      <td>7633</td>\n",
       "      <td>18736</td>\n",
       "      <td>18698</td>\n",
       "      <td>18736</td>\n",
       "      <td>18736</td>\n",
       "      <td>18736</td>\n",
       "      <td>18736</td>\n",
       "      <td>18736</td>\n",
       "      <td>18736</td>\n",
       "      <td>18736</td>\n",
       "      <td>18736</td>\n",
       "      <td>18736</td>\n",
       "      <td>18736</td>\n",
       "    </tr>\n",
       "    <tr>\n",
       "      <th>8</th>\n",
       "      <td>103226</td>\n",
       "      <td>103226</td>\n",
       "      <td>103226</td>\n",
       "      <td>45525</td>\n",
       "      <td>103226</td>\n",
       "      <td>103016</td>\n",
       "      <td>103226</td>\n",
       "      <td>103226</td>\n",
       "      <td>103226</td>\n",
       "      <td>103226</td>\n",
       "      <td>103226</td>\n",
       "      <td>103226</td>\n",
       "      <td>103226</td>\n",
       "      <td>103226</td>\n",
       "      <td>103226</td>\n",
       "      <td>103226</td>\n",
       "    </tr>\n",
       "    <tr>\n",
       "      <th>9</th>\n",
       "      <td>131032</td>\n",
       "      <td>131032</td>\n",
       "      <td>131032</td>\n",
       "      <td>55898</td>\n",
       "      <td>131032</td>\n",
       "      <td>130717</td>\n",
       "      <td>131032</td>\n",
       "      <td>131032</td>\n",
       "      <td>131032</td>\n",
       "      <td>131032</td>\n",
       "      <td>131032</td>\n",
       "      <td>131032</td>\n",
       "      <td>131032</td>\n",
       "      <td>131032</td>\n",
       "      <td>131032</td>\n",
       "      <td>131032</td>\n",
       "    </tr>\n",
       "    <tr>\n",
       "      <th>10</th>\n",
       "      <td>185459</td>\n",
       "      <td>185459</td>\n",
       "      <td>185459</td>\n",
       "      <td>81287</td>\n",
       "      <td>185459</td>\n",
       "      <td>184887</td>\n",
       "      <td>185459</td>\n",
       "      <td>185459</td>\n",
       "      <td>185459</td>\n",
       "      <td>185459</td>\n",
       "      <td>185459</td>\n",
       "      <td>185459</td>\n",
       "      <td>185459</td>\n",
       "      <td>185459</td>\n",
       "      <td>185459</td>\n",
       "      <td>185459</td>\n",
       "    </tr>\n",
       "    <tr>\n",
       "      <th>11</th>\n",
       "      <td>179719</td>\n",
       "      <td>179719</td>\n",
       "      <td>179719</td>\n",
       "      <td>78007</td>\n",
       "      <td>179719</td>\n",
       "      <td>179170</td>\n",
       "      <td>179719</td>\n",
       "      <td>179719</td>\n",
       "      <td>179719</td>\n",
       "      <td>179719</td>\n",
       "      <td>179719</td>\n",
       "      <td>179719</td>\n",
       "      <td>179719</td>\n",
       "      <td>179719</td>\n",
       "      <td>179719</td>\n",
       "      <td>179719</td>\n",
       "    </tr>\n",
       "    <tr>\n",
       "      <th>12</th>\n",
       "      <td>148459</td>\n",
       "      <td>148459</td>\n",
       "      <td>148459</td>\n",
       "      <td>66634</td>\n",
       "      <td>148459</td>\n",
       "      <td>147982</td>\n",
       "      <td>148459</td>\n",
       "      <td>148459</td>\n",
       "      <td>148459</td>\n",
       "      <td>148459</td>\n",
       "      <td>148459</td>\n",
       "      <td>148459</td>\n",
       "      <td>148459</td>\n",
       "      <td>148459</td>\n",
       "      <td>148459</td>\n",
       "      <td>148459</td>\n",
       "    </tr>\n",
       "    <tr>\n",
       "      <th>13</th>\n",
       "      <td>126757</td>\n",
       "      <td>126757</td>\n",
       "      <td>126757</td>\n",
       "      <td>56044</td>\n",
       "      <td>126757</td>\n",
       "      <td>126312</td>\n",
       "      <td>126757</td>\n",
       "      <td>126757</td>\n",
       "      <td>126757</td>\n",
       "      <td>126757</td>\n",
       "      <td>126757</td>\n",
       "      <td>126757</td>\n",
       "      <td>126757</td>\n",
       "      <td>126757</td>\n",
       "      <td>126757</td>\n",
       "      <td>126757</td>\n",
       "    </tr>\n",
       "    <tr>\n",
       "      <th>14</th>\n",
       "      <td>150575</td>\n",
       "      <td>150575</td>\n",
       "      <td>150575</td>\n",
       "      <td>66323</td>\n",
       "      <td>150575</td>\n",
       "      <td>150162</td>\n",
       "      <td>150575</td>\n",
       "      <td>150575</td>\n",
       "      <td>150575</td>\n",
       "      <td>150575</td>\n",
       "      <td>150575</td>\n",
       "      <td>150575</td>\n",
       "      <td>150575</td>\n",
       "      <td>150575</td>\n",
       "      <td>150575</td>\n",
       "      <td>150575</td>\n",
       "    </tr>\n",
       "    <tr>\n",
       "      <th>15</th>\n",
       "      <td>166372</td>\n",
       "      <td>166372</td>\n",
       "      <td>166372</td>\n",
       "      <td>72233</td>\n",
       "      <td>166372</td>\n",
       "      <td>165909</td>\n",
       "      <td>166372</td>\n",
       "      <td>166372</td>\n",
       "      <td>166372</td>\n",
       "      <td>166372</td>\n",
       "      <td>166372</td>\n",
       "      <td>166372</td>\n",
       "      <td>166372</td>\n",
       "      <td>166372</td>\n",
       "      <td>166372</td>\n",
       "      <td>166372</td>\n",
       "    </tr>\n",
       "    <tr>\n",
       "      <th>16</th>\n",
       "      <td>210267</td>\n",
       "      <td>210267</td>\n",
       "      <td>210267</td>\n",
       "      <td>93088</td>\n",
       "      <td>210267</td>\n",
       "      <td>209667</td>\n",
       "      <td>210267</td>\n",
       "      <td>210267</td>\n",
       "      <td>210267</td>\n",
       "      <td>210267</td>\n",
       "      <td>210267</td>\n",
       "      <td>210267</td>\n",
       "      <td>210267</td>\n",
       "      <td>210267</td>\n",
       "      <td>210267</td>\n",
       "      <td>210267</td>\n",
       "    </tr>\n",
       "    <tr>\n",
       "      <th>17</th>\n",
       "      <td>184971</td>\n",
       "      <td>184971</td>\n",
       "      <td>184971</td>\n",
       "      <td>82306</td>\n",
       "      <td>184971</td>\n",
       "      <td>184449</td>\n",
       "      <td>184971</td>\n",
       "      <td>184971</td>\n",
       "      <td>184971</td>\n",
       "      <td>184971</td>\n",
       "      <td>184971</td>\n",
       "      <td>184971</td>\n",
       "      <td>184971</td>\n",
       "      <td>184971</td>\n",
       "      <td>184971</td>\n",
       "      <td>184971</td>\n",
       "    </tr>\n",
       "    <tr>\n",
       "      <th>18</th>\n",
       "      <td>182232</td>\n",
       "      <td>182232</td>\n",
       "      <td>182232</td>\n",
       "      <td>82192</td>\n",
       "      <td>182232</td>\n",
       "      <td>181591</td>\n",
       "      <td>182232</td>\n",
       "      <td>182232</td>\n",
       "      <td>182232</td>\n",
       "      <td>182232</td>\n",
       "      <td>182232</td>\n",
       "      <td>182232</td>\n",
       "      <td>182232</td>\n",
       "      <td>182232</td>\n",
       "      <td>182232</td>\n",
       "      <td>182232</td>\n",
       "    </tr>\n",
       "    <tr>\n",
       "      <th>19</th>\n",
       "      <td>101961</td>\n",
       "      <td>101961</td>\n",
       "      <td>101961</td>\n",
       "      <td>44156</td>\n",
       "      <td>101961</td>\n",
       "      <td>101674</td>\n",
       "      <td>101961</td>\n",
       "      <td>101961</td>\n",
       "      <td>101961</td>\n",
       "      <td>101961</td>\n",
       "      <td>101961</td>\n",
       "      <td>101961</td>\n",
       "      <td>101961</td>\n",
       "      <td>101961</td>\n",
       "      <td>101961</td>\n",
       "      <td>101961</td>\n",
       "    </tr>\n",
       "    <tr>\n",
       "      <th>20</th>\n",
       "      <td>127521</td>\n",
       "      <td>127521</td>\n",
       "      <td>127521</td>\n",
       "      <td>57429</td>\n",
       "      <td>127521</td>\n",
       "      <td>127062</td>\n",
       "      <td>127521</td>\n",
       "      <td>127521</td>\n",
       "      <td>127521</td>\n",
       "      <td>127521</td>\n",
       "      <td>127521</td>\n",
       "      <td>127521</td>\n",
       "      <td>127521</td>\n",
       "      <td>127521</td>\n",
       "      <td>127521</td>\n",
       "      <td>127521</td>\n",
       "    </tr>\n",
       "    <tr>\n",
       "      <th>21</th>\n",
       "      <td>51109</td>\n",
       "      <td>51109</td>\n",
       "      <td>51109</td>\n",
       "      <td>20057</td>\n",
       "      <td>51109</td>\n",
       "      <td>50935</td>\n",
       "      <td>51109</td>\n",
       "      <td>51109</td>\n",
       "      <td>51109</td>\n",
       "      <td>51109</td>\n",
       "      <td>51109</td>\n",
       "      <td>51109</td>\n",
       "      <td>51109</td>\n",
       "      <td>51109</td>\n",
       "      <td>51109</td>\n",
       "      <td>51109</td>\n",
       "    </tr>\n",
       "    <tr>\n",
       "      <th>22</th>\n",
       "      <td>247</td>\n",
       "      <td>247</td>\n",
       "      <td>247</td>\n",
       "      <td>61</td>\n",
       "      <td>247</td>\n",
       "      <td>247</td>\n",
       "      <td>247</td>\n",
       "      <td>247</td>\n",
       "      <td>247</td>\n",
       "      <td>247</td>\n",
       "      <td>247</td>\n",
       "      <td>247</td>\n",
       "      <td>247</td>\n",
       "      <td>247</td>\n",
       "      <td>247</td>\n",
       "      <td>247</td>\n",
       "    </tr>\n",
       "    <tr>\n",
       "      <th>23</th>\n",
       "      <td>50</td>\n",
       "      <td>50</td>\n",
       "      <td>50</td>\n",
       "      <td>14</td>\n",
       "      <td>50</td>\n",
       "      <td>50</td>\n",
       "      <td>50</td>\n",
       "      <td>50</td>\n",
       "      <td>50</td>\n",
       "      <td>50</td>\n",
       "      <td>50</td>\n",
       "      <td>50</td>\n",
       "      <td>50</td>\n",
       "      <td>50</td>\n",
       "      <td>50</td>\n",
       "      <td>50</td>\n",
       "    </tr>\n",
       "  </tbody>\n",
       "</table>\n",
       "</div>"
      ],
      "text/plain": [
       "                  index  id_emprestimo  codigo_barras  data_renovacao  \\\n",
       "hora_emprestimo                                                         \n",
       "0                    17             17             17               2   \n",
       "6                    14             14             14               1   \n",
       "7                 18736          18736          18736            7633   \n",
       "8                103226         103226         103226           45525   \n",
       "9                131032         131032         131032           55898   \n",
       "10               185459         185459         185459           81287   \n",
       "11               179719         179719         179719           78007   \n",
       "12               148459         148459         148459           66634   \n",
       "13               126757         126757         126757           56044   \n",
       "14               150575         150575         150575           66323   \n",
       "15               166372         166372         166372           72233   \n",
       "16               210267         210267         210267           93088   \n",
       "17               184971         184971         184971           82306   \n",
       "18               182232         182232         182232           82192   \n",
       "19               101961         101961         101961           44156   \n",
       "20               127521         127521         127521           57429   \n",
       "21                51109          51109          51109           20057   \n",
       "22                  247            247            247              61   \n",
       "23                   50             50             50              14   \n",
       "\n",
       "                 data_emprestimo  data_devolucao  matricula_ou_siape  \\\n",
       "hora_emprestimo                                                        \n",
       "0                             17              17                  17   \n",
       "6                             14              14                  14   \n",
       "7                          18736           18698               18736   \n",
       "8                         103226          103016              103226   \n",
       "9                         131032          130717              131032   \n",
       "10                        185459          184887              185459   \n",
       "11                        179719          179170              179719   \n",
       "12                        148459          147982              148459   \n",
       "13                        126757          126312              126757   \n",
       "14                        150575          150162              150575   \n",
       "15                        166372          165909              166372   \n",
       "16                        210267          209667              210267   \n",
       "17                        184971          184449              184971   \n",
       "18                        182232          181591              182232   \n",
       "19                        101961          101674              101961   \n",
       "20                        127521          127062              127521   \n",
       "21                         51109           50935               51109   \n",
       "22                           247             247                 247   \n",
       "23                            50              50                  50   \n",
       "\n",
       "                 tipo_vinculo_usuario  id_exemplar  colecao  biblioteca  \\\n",
       "hora_emprestimo                                                           \n",
       "0                                  17           17       17          17   \n",
       "6                                  14           14       14          14   \n",
       "7                               18736        18736    18736       18736   \n",
       "8                              103226       103226   103226      103226   \n",
       "9                              131032       131032   131032      131032   \n",
       "10                             185459       185459   185459      185459   \n",
       "11                             179719       179719   179719      179719   \n",
       "12                             148459       148459   148459      148459   \n",
       "13                             126757       126757   126757      126757   \n",
       "14                             150575       150575   150575      150575   \n",
       "15                             166372       166372   166372      166372   \n",
       "16                             210267       210267   210267      210267   \n",
       "17                             184971       184971   184971      184971   \n",
       "18                             182232       182232   182232      182232   \n",
       "19                             101961       101961   101961      101961   \n",
       "20                             127521       127521   127521      127521   \n",
       "21                              51109        51109    51109       51109   \n",
       "22                                247          247      247         247   \n",
       "23                                 50           50       50          50   \n",
       "\n",
       "                 status_material  localizacao  Classe  ano_emprestimo  \\\n",
       "hora_emprestimo                                                         \n",
       "0                             17           17      17              17   \n",
       "6                             14           14      14              14   \n",
       "7                          18736        18736   18736           18736   \n",
       "8                         103226       103226  103226          103226   \n",
       "9                         131032       131032  131032          131032   \n",
       "10                        185459       185459  185459          185459   \n",
       "11                        179719       179719  179719          179719   \n",
       "12                        148459       148459  148459          148459   \n",
       "13                        126757       126757  126757          126757   \n",
       "14                        150575       150575  150575          150575   \n",
       "15                        166372       166372  166372          166372   \n",
       "16                        210267       210267  210267          210267   \n",
       "17                        184971       184971  184971          184971   \n",
       "18                        182232       182232  182232          182232   \n",
       "19                        101961       101961  101961          101961   \n",
       "20                        127521       127521  127521          127521   \n",
       "21                         51109        51109   51109           51109   \n",
       "22                           247          247     247             247   \n",
       "23                            50           50      50              50   \n",
       "\n",
       "                 mes_emprestimo  \n",
       "hora_emprestimo                  \n",
       "0                            17  \n",
       "6                            14  \n",
       "7                         18736  \n",
       "8                        103226  \n",
       "9                        131032  \n",
       "10                       185459  \n",
       "11                       179719  \n",
       "12                       148459  \n",
       "13                       126757  \n",
       "14                       150575  \n",
       "15                       166372  \n",
       "16                       210267  \n",
       "17                       184971  \n",
       "18                       182232  \n",
       "19                       101961  \n",
       "20                       127521  \n",
       "21                        51109  \n",
       "22                          247  \n",
       "23                           50  "
      ]
     },
     "execution_count": 39,
     "metadata": {},
     "output_type": "execute_result"
    }
   ],
   "source": [
    "grafico_groupby_hora = df_1.groupby(by=[\"hora_emprestimo\"], dropna=False).count()\n",
    "grafico_groupby_hora"
   ]
  },
  {
   "cell_type": "code",
   "execution_count": 40,
   "id": "44913d16",
   "metadata": {},
   "outputs": [
    {
     "data": {
      "image/png": "[encoded data removed]",
      "text/plain": [
       "<Figure size 1200x600 with 1 Axes>"
      ]
     },
     "metadata": {},
     "output_type": "display_data"
    }
   ],
   "source": [
    "fig, ax = plt.subplots(figsize=(12, 6))\n",
    "ax.bar(grafico_groupby_hora.index, grafico_groupby_hora['id_emprestimo'])\n",
    "ax.set_xticks(grafico_groupby_hora.index)\n",
    "ax.set_title('Empréstimos de livros por hora')\n",
    "plt.show();"
   ]
  },
  {
   "attachments": {},
   "cell_type": "markdown",
   "id": "20b33bea",
   "metadata": {},
   "source": [
    "* Os melhores horários para alocar as demais atividades, que não seja atendimento a usuários, são antes das 09h da manhã, no período de 19h e 21h.\n",
    "* Os horários com maior quantidade de empréstimos foram: entre 10h e 11h e entre 16h e 18h."
   ]
  },
  {
   "attachments": {},
   "cell_type": "markdown",
   "id": "10d5bb44",
   "metadata": {},
   "source": [
    "# Dia 04 - Análise exploratória de dados e Variáveis categóricas"
   ]
  },
  {
   "attachments": {},
   "cell_type": "markdown",
   "id": "3f08f72b",
   "metadata": {},
   "source": [
    "Vamos explorar algumas das variáveis categóricas das quais precisaremos extrair mais informações. Elas são:\n",
    "*\tTipo de vínculo\n",
    "*\tColeção\n",
    "*\tBiblioteca \n",
    "*\tClassificação geral da CDU\n"
   ]
  },
  {
   "cell_type": "code",
   "execution_count": 43,
   "id": "f5819cf1",
   "metadata": {},
   "outputs": [
    {
     "data": {
      "text/plain": [
       "Index(['index', 'id_emprestimo', 'codigo_barras', 'data_renovacao',\n",
       "       'data_emprestimo', 'data_devolucao', 'matricula_ou_siape',\n",
       "       'tipo_vinculo_usuario', 'id_exemplar', 'colecao', 'biblioteca',\n",
       "       'status_material', 'localizacao', 'Classe', 'ano_emprestimo',\n",
       "       'mes_emprestimo', 'hora_emprestimo'],\n",
       "      dtype='object')"
      ]
     },
     "execution_count": 43,
     "metadata": {},
     "output_type": "execute_result"
    }
   ],
   "source": [
    "df_1.columns"
   ]
  },
  {
   "attachments": {},
   "cell_type": "markdown",
   "id": "2edd2600",
   "metadata": {},
   "source": [
    "Ao se analisar uma nova variável, é bem interessante verificar cada uma listando quais são os valores únicos dentro delas. "
   ]
  },
  {
   "cell_type": "code",
   "execution_count": 44,
   "id": "df73515e",
   "metadata": {},
   "outputs": [
    {
     "data": {
      "text/plain": [
       "array(['ALUNO DE GRADUAÇÃO', 'ALUNO DE PÓS-GRADUAÇÃO', 'DOCENTE',\n",
       "       'DOCENTE EXTERNO', 'SERVIDOR TÉCNICO-ADMINISTRATIVO',\n",
       "       'ALUNO MÉDIO/TÉCNICO', 'USUÁRIO EXTERNO', 'OUTROS'], dtype=object)"
      ]
     },
     "execution_count": 44,
     "metadata": {},
     "output_type": "execute_result"
    }
   ],
   "source": [
    "df_1.tipo_vinculo_usuario.unique()"
   ]
  },
  {
   "cell_type": "code",
   "execution_count": 45,
   "id": "0a205da5",
   "metadata": {},
   "outputs": [
    {
     "data": {
      "text/plain": [
       "array(['Acervo Circulante', 'Folhetos', 'Teses', 'Dissertações',\n",
       "       'Monografias', 'Publicações de Autores do RN',\n",
       "       'Publicações da UFRN', 'Multimeios', 'Coleção Mossoroense',\n",
       "       'Eventos', 'Trabalho Acadêmico', 'Obras de Referência',\n",
       "       'Obras Raras', 'Literatura de Cordel', 'Coleção Zila Mamede',\n",
       "       'Necessidades Educacionais Específicas'], dtype=object)"
      ]
     },
     "execution_count": 45,
     "metadata": {},
     "output_type": "execute_result"
    }
   ],
   "source": [
    "df_1.colecao.unique()"
   ]
  },
  {
   "cell_type": "code",
   "execution_count": 46,
   "id": "3a85f56c",
   "metadata": {},
   "outputs": [
    {
     "data": {
      "text/plain": [
       "array(['Biblioteca Central Zila Mamede',\n",
       "       'Biblioteca Setorial Prof. Rodolfo Helinski - Escola Agrícola de Jundiaí - EAJ  - Macaiba',\n",
       "       'Biblioteca Setorial Bertha Cruz Enders - \\xadEscola de Saúde da UFRN - ESUFRN',\n",
       "       'Biblioteca Setorial do Centro Ciências da Saúde - CCS',\n",
       "       'Biblioteca Setorial Prof. Alberto Moreira Campos - \\xadDepartamento de Odontologia',\n",
       "       'Biblioteca Setorial Prof. Ronaldo Xavier de Arruda - CCET',\n",
       "       'Biblioteca Setorial do Centro de Ciências Humanas, Letras e Artes - CCHLA',\n",
       "       'Biblioteca Setorial Prof. Horácio Nicolas Solimo - \\xad Engenharia Química - EQ - CT',\n",
       "       'Biblioteca Setorial Prof. Francisco Gurgel De Azevedo - Instituto Química - IQ',\n",
       "       'Biblioteca Setorial do Centro Ciências Sociais Aplicadas - CCSA',\n",
       "       'Biblioteca Setorial do Departamento de Artes - DEART',\n",
       "       'Biblioteca Setorial Prof. Dr. Marcelo Bezerra de Melo Tinôco - DARQ - \\xadCT',\n",
       "       'Biblioteca Setorial Árvore do Conhecimento - Instituto do Cérebro - ICe',\n",
       "       'Biblioteca Setorial Moacyr de Góes - CE',\n",
       "       'Biblioteca Setorial Prof. Leopoldo Nelson - \\xadCentro de Biociências - CB',\n",
       "       'Biblioteca Setorial Dr. Paulo Bezerra - EMCM/RN - Caicó',\n",
       "       'Biblioteca Setorial Pe. Jaime Diniz - Escola de Música - EMUFRN',\n",
       "       'Biblioteca Setorial Profª. Maria Lúcia da Costa Bezerra - \\xadCERES\\xad - Caicó',\n",
       "       'Biblioteca Setorial Profª. Maria José Mamede Galvão - FELCS - Currais Novos',\n",
       "       'Biblioteca Setorial do Núcleo de Educação da Infância - NEI',\n",
       "       'Biblioteca Setorial da Faculdade de Ciências da Saúde do Trairi - FACISA - Santa Cruz',\n",
       "       'Biblioteca Setorial do Núcleo de Ensino Superior do Agreste - NESA - Nova Cruz'],\n",
       "      dtype=object)"
      ]
     },
     "execution_count": 46,
     "metadata": {},
     "output_type": "execute_result"
    }
   ],
   "source": [
    "df_1.biblioteca.unique()"
   ]
  },
  {
   "cell_type": "code",
   "execution_count": 47,
   "id": "8de61c35",
   "metadata": {},
   "outputs": [
    {
     "data": {
      "text/plain": [
       "array(['Ciências aplicadas.', 'Linguagem. Língua. Linguística',\n",
       "       'Ciências sociais', 'Geografia. Biografia. História',\n",
       "       'Matemática e ciências naturais', 'Religião',\n",
       "       'Generalidades. Ciência e conhecimento', 'Filosofia e psicologia',\n",
       "       'Belas artes', 'Erro'], dtype=object)"
      ]
     },
     "execution_count": 47,
     "metadata": {},
     "output_type": "execute_result"
    }
   ],
   "source": [
    "df_1.Classe.unique()"
   ]
  },
  {
   "attachments": {},
   "cell_type": "markdown",
   "id": "08919469",
   "metadata": {},
   "source": [
    "## Total de registros"
   ]
  },
  {
   "cell_type": "code",
   "execution_count": 87,
   "id": "2f9f3c0c",
   "metadata": {},
   "outputs": [
    {
     "data": {
      "text/plain": [
       "2068724"
      ]
     },
     "execution_count": 87,
     "metadata": {},
     "output_type": "execute_result"
    }
   ],
   "source": [
    "total = len(df_1)\n",
    "total"
   ]
  },
  {
   "attachments": {},
   "cell_type": "markdown",
   "id": "16fb43c3",
   "metadata": {},
   "source": [
    "## Função"
   ]
  },
  {
   "cell_type": "code",
   "execution_count": 96,
   "id": "dbbb0c44",
   "metadata": {},
   "outputs": [],
   "source": [
    "def gera_tabela(atributo):\n",
    "    tabela = df_1.groupby(by=[atributo], dropna=False).count()\n",
    "    tabela['percentual'] = round((tabela.id_emprestimo  / total)*100, 2)\n",
    "    return tabela['percentual'].sort_values(ascending=False)"
   ]
  },
  {
   "attachments": {},
   "cell_type": "markdown",
   "id": "a7b9e891",
   "metadata": {},
   "source": [
    "### Como se distribuem os empréstimos de exemplares pelos tipos de vínculo dos usuários?\n",
    "\n",
    "Desta forma, a diretoria poderá entender qual é o público que está utilizando a biblioteca e assim tomar decisões em continuar com a estratégia de negócio atual ou modificá-la.\n"
   ]
  },
  {
   "cell_type": "code",
   "execution_count": 97,
   "id": "55b87a92",
   "metadata": {},
   "outputs": [
    {
     "data": {
      "text/plain": [
       "tipo_vinculo_usuario\n",
       "ALUNO DE GRADUAÇÃO                 77.81\n",
       "ALUNO DE PÓS-GRADUAÇÃO             14.59\n",
       "DOCENTE                             3.43\n",
       "SERVIDOR TÉCNICO-ADMINISTRATIVO     1.55\n",
       "ALUNO MÉDIO/TÉCNICO                 1.35\n",
       "DOCENTE EXTERNO                     1.15\n",
       "USUÁRIO EXTERNO                     0.12\n",
       "OUTROS                              0.00\n",
       "Name: percentual, dtype: float64"
      ]
     },
     "execution_count": 97,
     "metadata": {},
     "output_type": "execute_result"
    }
   ],
   "source": [
    "vinculo = gera_tabela(\"tipo_vinculo_usuario\")\n",
    "vinculo"
   ]
  },
  {
   "attachments": {},
   "cell_type": "markdown",
   "id": "623f74e5",
   "metadata": {},
   "source": [
    "> Mais de 92% dos empréstimos estão concentrados entre os alunos de Graduação e Pós-graduação."
   ]
  },
  {
   "attachments": {},
   "cell_type": "markdown",
   "id": "cca4bab7",
   "metadata": {},
   "source": [
    "### Quais coleções são mais emprestadas?\n",
    "\n",
    "Da mesma forma, as coleções. Ranquear as coleções mais emprestadas pelo público, será bastante importante para a estratégia atual.\n"
   ]
  },
  {
   "cell_type": "code",
   "execution_count": 98,
   "id": "2c49c9bc",
   "metadata": {},
   "outputs": [
    {
     "data": {
      "text/plain": [
       "colecao\n",
       "Acervo Circulante                        99.07\n",
       "Multimeios                                0.38\n",
       "Monografias                               0.19\n",
       "Dissertações                              0.12\n",
       "Obras de Referência                       0.09\n",
       "Publicações da UFRN                       0.04\n",
       "Publicações de Autores do RN              0.04\n",
       "Teses                                     0.03\n",
       "Folhetos                                  0.01\n",
       "Necessidades Educacionais Específicas     0.01\n",
       "Trabalho Acadêmico                        0.01\n",
       "Coleção Mossoroense                       0.00\n",
       "Coleção Zila Mamede                       0.00\n",
       "Eventos                                   0.00\n",
       "Literatura de Cordel                      0.00\n",
       "Obras Raras                               0.00\n",
       "Name: percentual, dtype: float64"
      ]
     },
     "execution_count": 98,
     "metadata": {},
     "output_type": "execute_result"
    }
   ],
   "source": [
    "colecao = gera_tabela(\"colecao\")\n",
    "colecao"
   ]
  },
  {
   "attachments": {},
   "cell_type": "markdown",
   "id": "e88b89de",
   "metadata": {},
   "source": [
    "> Mais de 99% dos empréstimos estão concentrados na coleção do Arcervo Circulante."
   ]
  },
  {
   "attachments": {},
   "cell_type": "markdown",
   "id": "26b9e057",
   "metadata": {},
   "source": [
    "### Quais são as bibliotecas com mais ou menos quantidade de empréstimos?\n",
    "\n",
    "Assim, a diretoria conseguirá entender onde ela deverá melhorar e focar suas iniciativas.\n"
   ]
  },
  {
   "cell_type": "code",
   "execution_count": 99,
   "id": "7cf78094",
   "metadata": {},
   "outputs": [
    {
     "data": {
      "text/plain": [
       "biblioteca\n",
       "Biblioteca Central Zila Mamede                                                              68.81\n",
       "Biblioteca Setorial do Centro Ciências da Saúde - CCS                                        5.73\n",
       "Biblioteca Setorial da Faculdade de Ciências da Saúde do Trairi - FACISA - Santa Cruz        3.75\n",
       "Biblioteca Setorial Prof. Alberto Moreira Campos - ­Departamento de Odontologia              3.21\n",
       "Biblioteca Setorial Profª. Maria Lúcia da Costa Bezerra - ­CERES­ - Caicó                    2.97\n",
       "Biblioteca Setorial Bertha Cruz Enders - ­Escola de Saúde da UFRN - ESUFRN                   2.22\n",
       "Biblioteca Setorial do Centro de Ciências Humanas, Letras e Artes - CCHLA                    1.97\n",
       "Biblioteca Setorial Dr. Paulo Bezerra - EMCM/RN - Caicó                                      1.55\n",
       "Biblioteca Setorial Profª. Maria José Mamede Galvão - FELCS - Currais Novos                  1.40\n",
       "Biblioteca Setorial Prof. Rodolfo Helinski - Escola Agrícola de Jundiaí - EAJ  - Macaiba     1.30\n",
       "Biblioteca Setorial Prof. Francisco Gurgel De Azevedo - Instituto Química - IQ               1.29\n",
       "Biblioteca Setorial do Núcleo de Educação da Infância - NEI                                  1.14\n",
       "Biblioteca Setorial Prof. Ronaldo Xavier de Arruda - CCET                                    1.10\n",
       "Biblioteca Setorial Pe. Jaime Diniz - Escola de Música - EMUFRN                              1.03\n",
       "Biblioteca Setorial do Departamento de Artes - DEART                                         0.82\n",
       "Biblioteca Setorial Prof. Leopoldo Nelson - ­Centro de Biociências - CB                      0.62\n",
       "Biblioteca Setorial do Centro Ciências Sociais Aplicadas - CCSA                              0.51\n",
       "Biblioteca Setorial Prof. Dr. Marcelo Bezerra de Melo Tinôco - DARQ - ­CT                    0.24\n",
       "Biblioteca Setorial Prof. Horácio Nicolas Solimo - ­ Engenharia Química - EQ - CT            0.20\n",
       "Biblioteca Setorial Moacyr de Góes - CE                                                      0.05\n",
       "Biblioteca Setorial Árvore do Conhecimento - Instituto do Cérebro - ICe                      0.04\n",
       "Biblioteca Setorial do Núcleo de Ensino Superior do Agreste - NESA - Nova Cruz               0.03\n",
       "Name: percentual, dtype: float64"
      ]
     },
     "execution_count": 99,
     "metadata": {},
     "output_type": "execute_result"
    }
   ],
   "source": [
    "biblioteca = gera_tabela(\"biblioteca\")\n",
    "biblioteca"
   ]
  },
  {
   "attachments": {},
   "cell_type": "markdown",
   "id": "424d156d",
   "metadata": {},
   "source": [
    "### De quais temas da CDU são os exemplares emprestados? "
   ]
  },
  {
   "attachments": {},
   "cell_type": "markdown",
   "id": "72981b9f",
   "metadata": {},
   "source": [
    "Gere uma tabela de frequência e com o percentual para cada variável."
   ]
  },
  {
   "cell_type": "code",
   "execution_count": 100,
   "id": "b7ad84bd",
   "metadata": {},
   "outputs": [
    {
     "data": {
      "text/plain": [
       "Classe\n",
       "Ciências aplicadas.                      68.81\n",
       "Ciências sociais                         17.82\n",
       "Matemática e ciências naturais            3.31\n",
       "Generalidades. Ciência e conhecimento     3.01\n",
       "Religião                                  2.97\n",
       "Filosofia e psicologia                    2.89\n",
       "Belas artes                               0.38\n",
       "Geografia. Biografia. História            0.38\n",
       "Linguagem. Língua. Linguística            0.36\n",
       "Erro                                      0.06\n",
       "Name: percentual, dtype: float64"
      ]
     },
     "execution_count": 100,
     "metadata": {},
     "output_type": "execute_result"
    }
   ],
   "source": [
    "cdu = gera_tabela(\"Classe\")\n",
    "cdu"
   ]
  },
  {
   "attachments": {},
   "cell_type": "markdown",
   "id": "03d99fcc",
   "metadata": {},
   "source": [
    "Após geradas as tabelas, traga algumas das suas percepções para as análises com o que você poderá contribuir para a diretoria da biblioteca."
   ]
  }
 ],
 "metadata": {
  "kernelspec": {
   "display_name": "Python 3 (ipykernel)",
   "language": "python",
   "name": "python3"
  },
  "language_info": {
   "codemirror_mode": {
    "name": "ipython",
    "version": 3
   },
   "file_extension": ".py",
   "mimetype": "text/x-python",
   "name": "python",
   "nbconvert_exporter": "python",
   "pygments_lexer": "ipython3",
   "version": "3.9.13"
  }
 },
 "nbformat": 4,
 "nbformat_minor": 5
}
