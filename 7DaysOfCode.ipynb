{
 "cells": [
  {
   "cell_type": "markdown",
   "id": "a1aea9e0",
   "metadata": {},
   "source": [
    "# Importar Dados"
   ]
  },
  {
   "cell_type": "markdown",
   "id": "80c65d0d",
   "metadata": {},
   "source": [
    "Dados de empréstimos dos acervos do sistema de bibliotecas da UFRN. "
   ]
  },
  {
   "cell_type": "code",
   "execution_count": 3,
   "id": "0120214e",
   "metadata": {},
   "outputs": [],
   "source": [
    "import pandas as pd\n",
    "import os"
   ]
  },
  {
   "cell_type": "markdown",
   "id": "37f3a6ea",
   "metadata": {},
   "source": [
    "## Coleta e Organização dos Dados"
   ]
  },
  {
   "cell_type": "markdown",
   "id": "1bbcfed1",
   "metadata": {},
   "source": [
    "## Unificar em um único Dataframe todos os dados pertinentes para a análise. "
   ]
  },
  {
   "cell_type": "markdown",
   "id": "a3a0dba2",
   "metadata": {},
   "source": [
    "### Dados de empréstimos"
   ]
  },
  {
   "cell_type": "code",
   "execution_count": 4,
   "id": "688be2d0",
   "metadata": {},
   "outputs": [
    {
     "data": {
      "text/plain": [
       "['emprestimos-20101.csv',\n",
       " 'emprestimos-20102.csv',\n",
       " 'emprestimos-20111.csv',\n",
       " 'emprestimos-20112.csv',\n",
       " 'emprestimos-20121.csv',\n",
       " 'emprestimos-20122.csv',\n",
       " 'emprestimos-20131.csv',\n",
       " 'emprestimos-20132.csv',\n",
       " 'emprestimos-20141.csv',\n",
       " 'emprestimos-20142.csv',\n",
       " 'emprestimos-20151.csv',\n",
       " 'emprestimos-20152.csv',\n",
       " 'emprestimos-20161.csv',\n",
       " 'emprestimos-20162.csv',\n",
       " 'emprestimos-20171.csv',\n",
       " 'emprestimos-20172.csv',\n",
       " 'emprestimos-20181.csv',\n",
       " 'emprestimos-20182.csv',\n",
       " 'emprestimos-20191.csv',\n",
       " 'emprestimos-20192.csv',\n",
       " 'emprestimos-20201.csv']"
      ]
     },
     "execution_count": 4,
     "metadata": {},
     "output_type": "execute_result"
    }
   ],
   "source": [
    "arquivos = os.listdir('./Dia_1-Importando_dados/Datasets/dados_emprestimos/')\n",
    "arquivos"
   ]
  },
  {
   "cell_type": "markdown",
   "id": "ef840eb5",
   "metadata": {},
   "source": [
    "Após listar os arquivos a serem importados, eles serão unificados em um único DataFrame através do método contat do pandas."
   ]
  },
  {
   "cell_type": "code",
   "execution_count": 19,
   "id": "d0ab88cf",
   "metadata": {},
   "outputs": [],
   "source": [
    "tabela_x = pd.DataFrame()\n",
    "\n",
    "for arquivo in arquivos:\n",
    "    tabela_1 = pd.read_csv(f'./Dia_1-Importando_dados/Datasets/dados_emprestimos/{arquivo}')\n",
    "    tabela_x = pd.concat([tabela_x, tabela_1])    "
   ]
  },
  {
   "cell_type": "code",
   "execution_count": 20,
   "id": "6d32f5af",
   "metadata": {},
   "outputs": [],
   "source": [
    "tabela_x.reset_index(inplace=True)"
   ]
  },
  {
   "cell_type": "markdown",
   "id": "7c41e9d1",
   "metadata": {},
   "source": [
    "Mesclando com os dados do acervo, para entender, por exemplo, de qual biblioteca era o material emprestado ou a qual tema ele se referia. A relação se dá pela coluna de código de barras de cada material. "
   ]
  },
  {
   "cell_type": "markdown",
   "id": "f00ee599",
   "metadata": {},
   "source": [
    "### Dados do acervo"
   ]
  },
  {
   "cell_type": "markdown",
   "id": "b2510618",
   "metadata": {},
   "source": [
    "Para utilização do pandas na leitura de arquivo .parquet é necessário instalar a biblioteca pyarrow"
   ]
  },
  {
   "cell_type": "code",
   "execution_count": 24,
   "id": "edb980cf",
   "metadata": {},
   "outputs": [
    {
     "name": "stdout",
     "output_type": "stream",
     "text": [
      "Collecting pyarrow\n",
      "  Downloading pyarrow-12.0.1-cp39-cp39-win_amd64.whl (21.5 MB)\n",
      "     -------------------------------------- 21.5/21.5 MB 588.6 kB/s eta 0:00:00\n",
      "Requirement already satisfied: numpy>=1.16.6 in c:\\users\\c050654\\anaconda3\\lib\\site-packages (from pyarrow) (1.21.5)\n",
      "Installing collected packages: pyarrow\n",
      "Successfully installed pyarrow-12.0.1\n"
     ]
    },
    {
     "name": "stderr",
     "output_type": "stream",
     "text": [
      "\n",
      "[notice] A new release of pip is available: 23.0.1 -> 23.1.2\n",
      "[notice] To update, run: python.exe -m pip install --upgrade pip\n"
     ]
    }
   ],
   "source": [
    "!pip install pyarrow"
   ]
  },
  {
   "cell_type": "code",
   "execution_count": 25,
   "id": "f2fcea32",
   "metadata": {},
   "outputs": [
    {
     "data": {
      "text/html": [
       "<div>\n",
       "<style scoped>\n",
       "    .dataframe tbody tr th:only-of-type {\n",
       "        vertical-align: middle;\n",
       "    }\n",
       "\n",
       "    .dataframe tbody tr th {\n",
       "        vertical-align: top;\n",
       "    }\n",
       "\n",
       "    .dataframe thead th {\n",
       "        text-align: right;\n",
       "    }\n",
       "</style>\n",
       "<table border=\"1\" class=\"dataframe\">\n",
       "  <thead>\n",
       "    <tr style=\"text-align: right;\">\n",
       "      <th></th>\n",
       "      <th>id_exemplar</th>\n",
       "      <th>codigo_barras</th>\n",
       "      <th>colecao</th>\n",
       "      <th>biblioteca</th>\n",
       "      <th>status_material</th>\n",
       "      <th>localizacao</th>\n",
       "      <th>registro_sistema</th>\n",
       "    </tr>\n",
       "    <tr>\n",
       "      <th>index</th>\n",
       "      <th></th>\n",
       "      <th></th>\n",
       "      <th></th>\n",
       "      <th></th>\n",
       "      <th></th>\n",
       "      <th></th>\n",
       "      <th></th>\n",
       "    </tr>\n",
       "  </thead>\n",
       "  <tbody>\n",
       "    <tr>\n",
       "      <th>0</th>\n",
       "      <td>5</td>\n",
       "      <td>L000003</td>\n",
       "      <td>Acervo Circulante</td>\n",
       "      <td>Biblioteca Central Zila Mamede</td>\n",
       "      <td>REGULAR</td>\n",
       "      <td>694</td>\n",
       "      <td>1</td>\n",
       "    </tr>\n",
       "    <tr>\n",
       "      <th>1</th>\n",
       "      <td>4</td>\n",
       "      <td>L000002</td>\n",
       "      <td>Acervo Circulante</td>\n",
       "      <td>Biblioteca Central Zila Mamede</td>\n",
       "      <td>REGULAR</td>\n",
       "      <td>688</td>\n",
       "      <td>1</td>\n",
       "    </tr>\n",
       "    <tr>\n",
       "      <th>2</th>\n",
       "      <td>3</td>\n",
       "      <td>L000001</td>\n",
       "      <td>Acervo Circulante</td>\n",
       "      <td>Biblioteca Central Zila Mamede</td>\n",
       "      <td>ESPECIAL</td>\n",
       "      <td>638</td>\n",
       "      <td>1</td>\n",
       "    </tr>\n",
       "    <tr>\n",
       "      <th>3</th>\n",
       "      <td>7</td>\n",
       "      <td>L000114</td>\n",
       "      <td>Acervo Circulante</td>\n",
       "      <td>Biblioteca Central Zila Mamede</td>\n",
       "      <td>REGULAR</td>\n",
       "      <td>616</td>\n",
       "      <td>5</td>\n",
       "    </tr>\n",
       "    <tr>\n",
       "      <th>5</th>\n",
       "      <td>10</td>\n",
       "      <td>L000041</td>\n",
       "      <td>Acervo Circulante</td>\n",
       "      <td>Biblioteca Central Zila Mamede</td>\n",
       "      <td>ESPECIAL</td>\n",
       "      <td>657</td>\n",
       "      <td>15</td>\n",
       "    </tr>\n",
       "    <tr>\n",
       "      <th>...</th>\n",
       "      <td>...</td>\n",
       "      <td>...</td>\n",
       "      <td>...</td>\n",
       "      <td>...</td>\n",
       "      <td>...</td>\n",
       "      <td>...</td>\n",
       "      <td>...</td>\n",
       "    </tr>\n",
       "    <tr>\n",
       "      <th>568580</th>\n",
       "      <td>1353472</td>\n",
       "      <td>2021011150</td>\n",
       "      <td>Acervo Circulante</td>\n",
       "      <td>Biblioteca Setorial do Núcleo de Educação da I...</td>\n",
       "      <td>REGULAR</td>\n",
       "      <td>951</td>\n",
       "      <td>268231</td>\n",
       "    </tr>\n",
       "    <tr>\n",
       "      <th>568581</th>\n",
       "      <td>1353473</td>\n",
       "      <td>2019013454</td>\n",
       "      <td>Acervo Circulante</td>\n",
       "      <td>Biblioteca Central Zila Mamede</td>\n",
       "      <td>ESPECIAL</td>\n",
       "      <td>997</td>\n",
       "      <td>268233</td>\n",
       "    </tr>\n",
       "    <tr>\n",
       "      <th>568582</th>\n",
       "      <td>1353474</td>\n",
       "      <td>2019012811</td>\n",
       "      <td>Acervo Circulante</td>\n",
       "      <td>Biblioteca Central Zila Mamede</td>\n",
       "      <td>ESPECIAL</td>\n",
       "      <td>987</td>\n",
       "      <td>268234</td>\n",
       "    </tr>\n",
       "    <tr>\n",
       "      <th>568583</th>\n",
       "      <td>1353475</td>\n",
       "      <td>2019013451</td>\n",
       "      <td>Acervo Circulante</td>\n",
       "      <td>Biblioteca Central Zila Mamede</td>\n",
       "      <td>ESPECIAL</td>\n",
       "      <td>764</td>\n",
       "      <td>268235</td>\n",
       "    </tr>\n",
       "    <tr>\n",
       "      <th>568584</th>\n",
       "      <td>1353476</td>\n",
       "      <td>2019012276</td>\n",
       "      <td>Acervo Circulante</td>\n",
       "      <td>Biblioteca Central Zila Mamede</td>\n",
       "      <td>ESPECIAL</td>\n",
       "      <td>962</td>\n",
       "      <td>268236</td>\n",
       "    </tr>\n",
       "  </tbody>\n",
       "</table>\n",
       "<p>546237 rows × 7 columns</p>\n",
       "</div>"
      ],
      "text/plain": [
       "        id_exemplar codigo_barras            colecao  \\\n",
       "index                                                  \n",
       "0                 5       L000003  Acervo Circulante   \n",
       "1                 4       L000002  Acervo Circulante   \n",
       "2                 3       L000001  Acervo Circulante   \n",
       "3                 7       L000114  Acervo Circulante   \n",
       "5                10       L000041  Acervo Circulante   \n",
       "...             ...           ...                ...   \n",
       "568580      1353472    2021011150  Acervo Circulante   \n",
       "568581      1353473    2019013454  Acervo Circulante   \n",
       "568582      1353474    2019012811  Acervo Circulante   \n",
       "568583      1353475    2019013451  Acervo Circulante   \n",
       "568584      1353476    2019012276  Acervo Circulante   \n",
       "\n",
       "                                               biblioteca status_material  \\\n",
       "index                                                                       \n",
       "0                          Biblioteca Central Zila Mamede         REGULAR   \n",
       "1                          Biblioteca Central Zila Mamede         REGULAR   \n",
       "2                          Biblioteca Central Zila Mamede        ESPECIAL   \n",
       "3                          Biblioteca Central Zila Mamede         REGULAR   \n",
       "5                          Biblioteca Central Zila Mamede        ESPECIAL   \n",
       "...                                                   ...             ...   \n",
       "568580  Biblioteca Setorial do Núcleo de Educação da I...         REGULAR   \n",
       "568581                     Biblioteca Central Zila Mamede        ESPECIAL   \n",
       "568582                     Biblioteca Central Zila Mamede        ESPECIAL   \n",
       "568583                     Biblioteca Central Zila Mamede        ESPECIAL   \n",
       "568584                     Biblioteca Central Zila Mamede        ESPECIAL   \n",
       "\n",
       "        localizacao  registro_sistema  \n",
       "index                                  \n",
       "0               694                 1  \n",
       "1               688                 1  \n",
       "2               638                 1  \n",
       "3               616                 5  \n",
       "5               657                15  \n",
       "...             ...               ...  \n",
       "568580          951            268231  \n",
       "568581          997            268233  \n",
       "568582          987            268234  \n",
       "568583          764            268235  \n",
       "568584          962            268236  \n",
       "\n",
       "[546237 rows x 7 columns]"
      ]
     },
     "execution_count": 25,
     "metadata": {},
     "output_type": "execute_result"
    }
   ],
   "source": [
    "acervo = pd.read_parquet('./Dia_1-Importando_dados/Datasets/dados_exemplares.parquet', engine='pyarrow')\n",
    "acervo"
   ]
  },
  {
   "cell_type": "markdown",
   "id": "5db2fd0f",
   "metadata": {},
   "source": [
    "## Identificando dados nulos e vazios"
   ]
  },
  {
   "cell_type": "code",
   "execution_count": 32,
   "id": "2b4f170c",
   "metadata": {},
   "outputs": [
    {
     "name": "stdout",
     "output_type": "stream",
     "text": [
      "index                         0\n",
      "id_emprestimo                 0\n",
      "codigo_barras                 0\n",
      "data_renovacao          1285720\n",
      "data_emprestimo               0\n",
      "data_devolucao             6471\n",
      "matricula_ou_siape         3170\n",
      "tipo_vinculo_usuario          0\n",
      "dtype: int64\n"
     ]
    }
   ],
   "source": [
    "# isna\n",
    "print(tabela_x.isna().sum())"
   ]
  },
  {
   "cell_type": "code",
   "execution_count": 33,
   "id": "966df93a",
   "metadata": {},
   "outputs": [
    {
     "name": "stdout",
     "output_type": "stream",
     "text": [
      "index                         0\n",
      "id_emprestimo                 0\n",
      "codigo_barras                 0\n",
      "data_renovacao          1285720\n",
      "data_emprestimo               0\n",
      "data_devolucao             6471\n",
      "matricula_ou_siape         3170\n",
      "tipo_vinculo_usuario          0\n",
      "dtype: int64\n"
     ]
    }
   ],
   "source": [
    "# isnull\n",
    "print(tabela_x.isnull().sum())"
   ]
  },
  {
   "cell_type": "code",
   "execution_count": 34,
   "id": "d74e884a",
   "metadata": {},
   "outputs": [
    {
     "name": "stdout",
     "output_type": "stream",
     "text": [
      "id_exemplar         0\n",
      "codigo_barras       0\n",
      "colecao             0\n",
      "biblioteca          0\n",
      "status_material     0\n",
      "localizacao         0\n",
      "registro_sistema    0\n",
      "dtype: int64\n"
     ]
    }
   ],
   "source": [
    "# isna\n",
    "print(acervo.isna().sum())"
   ]
  },
  {
   "cell_type": "code",
   "execution_count": 35,
   "id": "b1b7c1ae",
   "metadata": {},
   "outputs": [
    {
     "name": "stdout",
     "output_type": "stream",
     "text": [
      "id_exemplar         0\n",
      "codigo_barras       0\n",
      "colecao             0\n",
      "biblioteca          0\n",
      "status_material     0\n",
      "localizacao         0\n",
      "registro_sistema    0\n",
      "dtype: int64\n"
     ]
    }
   ],
   "source": [
    "# isnull\n",
    "print(acervo.isnull().sum())"
   ]
  },
  {
   "cell_type": "markdown",
   "id": "d8bfe72c",
   "metadata": {},
   "source": [
    "As colunas que apresentam dados nulos não afetarão a junção dos dataframes nesse momento."
   ]
  },
  {
   "cell_type": "markdown",
   "id": "3297542e",
   "metadata": {},
   "source": [
    "## Removendo dados duplicados\n",
    "\n",
    "Não poderemos trabalhar com registros com dados do código de barras duplicados no acervo pois serão utilizados como chaves para o merge."
   ]
  },
  {
   "cell_type": "code",
   "execution_count": 41,
   "id": "ecc55fb6",
   "metadata": {},
   "outputs": [
    {
     "name": "stdout",
     "output_type": "stream",
     "text": [
      "545049\n",
      "546237\n"
     ]
    }
   ],
   "source": [
    "print(acervo['codigo_barras'].nunique())\n",
    "print(len(acervo))"
   ]
  },
  {
   "cell_type": "markdown",
   "id": "92f12964",
   "metadata": {},
   "source": [
    "Para tabela dos empréstimos não poderão ter registros duplicados com mesmo número na coluna id_emprestimo."
   ]
  },
  {
   "cell_type": "code",
   "execution_count": 42,
   "id": "8219c88b",
   "metadata": {},
   "outputs": [
    {
     "name": "stdout",
     "output_type": "stream",
     "text": [
      "2139267\n",
      "2258018\n"
     ]
    }
   ],
   "source": [
    "print(tabela_x['id_emprestimo'].nunique())\n",
    "print(len(tabela_x))"
   ]
  },
  {
   "cell_type": "markdown",
   "id": "e881f459",
   "metadata": {},
   "source": [
    "Eliminando os registros duplicados com o método drop_duplicates"
   ]
  },
  {
   "cell_type": "code",
   "execution_count": 54,
   "id": "77bb00ec",
   "metadata": {},
   "outputs": [],
   "source": [
    "acervo_df = acervo.drop_duplicates(subset='codigo_barras', keep='first')\n",
    "emprestimos_df = tabela_x.drop_duplicates(subset='id_emprestimo', keep='first')"
   ]
  },
  {
   "cell_type": "code",
   "execution_count": 55,
   "id": "4ddd85ac",
   "metadata": {},
   "outputs": [
    {
     "name": "stdout",
     "output_type": "stream",
     "text": [
      "2139267\n",
      "2139267\n"
     ]
    }
   ],
   "source": [
    "print(emprestimos_df['id_emprestimo'].nunique())\n",
    "print(len(emprestimos_df))"
   ]
  },
  {
   "cell_type": "code",
   "execution_count": 57,
   "id": "be537f46",
   "metadata": {},
   "outputs": [
    {
     "name": "stdout",
     "output_type": "stream",
     "text": [
      "545049\n",
      "545049\n"
     ]
    }
   ],
   "source": [
    "print(acervo_df['codigo_barras'].nunique())\n",
    "print(len(acervo_df))"
   ]
  },
  {
   "cell_type": "markdown",
   "id": "999c5436",
   "metadata": {},
   "source": [
    "### Merge entre dos dois DataFrames (Acervo e Empréstimos)"
   ]
  },
  {
   "cell_type": "code",
   "execution_count": 59,
   "id": "c4b06fd1",
   "metadata": {},
   "outputs": [],
   "source": [
    "df_final = pd.merge(emprestimos_df, acervo_df, on = \"codigo_barras\")"
   ]
  },
  {
   "cell_type": "code",
   "execution_count": 60,
   "id": "7be9f396",
   "metadata": {},
   "outputs": [
    {
     "name": "stdout",
     "output_type": "stream",
     "text": [
      "<class 'pandas.core.frame.DataFrame'>\n",
      "Int64Index: 1955743 entries, 0 to 1955742\n",
      "Data columns (total 14 columns):\n",
      " #   Column                Dtype  \n",
      "---  ------                -----  \n",
      " 0   index                 int64  \n",
      " 1   id_emprestimo         int64  \n",
      " 2   codigo_barras         object \n",
      " 3   data_renovacao        object \n",
      " 4   data_emprestimo       object \n",
      " 5   data_devolucao        object \n",
      " 6   matricula_ou_siape    float64\n",
      " 7   tipo_vinculo_usuario  object \n",
      " 8   id_exemplar           int64  \n",
      " 9   colecao               object \n",
      " 10  biblioteca            object \n",
      " 11  status_material       object \n",
      " 12  localizacao           int64  \n",
      " 13  registro_sistema      int64  \n",
      "dtypes: float64(1), int64(5), object(8)\n",
      "memory usage: 223.8+ MB\n"
     ]
    }
   ],
   "source": [
    "df_final.info()"
   ]
  },
  {
   "cell_type": "code",
   "execution_count": 61,
   "id": "f6634518",
   "metadata": {},
   "outputs": [
    {
     "name": "stdout",
     "output_type": "stream",
     "text": [
      "index                         0\n",
      "id_emprestimo                 0\n",
      "codigo_barras                 0\n",
      "data_renovacao          1096082\n",
      "data_emprestimo               0\n",
      "data_devolucao             6138\n",
      "matricula_ou_siape         2705\n",
      "tipo_vinculo_usuario          0\n",
      "id_exemplar                   0\n",
      "colecao                       0\n",
      "biblioteca                    0\n",
      "status_material               0\n",
      "localizacao                   0\n",
      "registro_sistema              0\n",
      "dtype: int64\n"
     ]
    }
   ],
   "source": [
    "# isna\n",
    "print(df_final.isna().sum())"
   ]
  },
  {
   "cell_type": "code",
   "execution_count": 62,
   "id": "529a4471",
   "metadata": {},
   "outputs": [
    {
     "name": "stdout",
     "output_type": "stream",
     "text": [
      "index                         0\n",
      "id_emprestimo                 0\n",
      "codigo_barras                 0\n",
      "data_renovacao          1096082\n",
      "data_emprestimo               0\n",
      "data_devolucao             6138\n",
      "matricula_ou_siape         2705\n",
      "tipo_vinculo_usuario          0\n",
      "id_exemplar                   0\n",
      "colecao                       0\n",
      "biblioteca                    0\n",
      "status_material               0\n",
      "localizacao                   0\n",
      "registro_sistema              0\n",
      "dtype: int64\n"
     ]
    }
   ],
   "source": [
    "# isnull\n",
    "print(df_final.isnull().sum())"
   ]
  },
  {
   "cell_type": "markdown",
   "id": "3a7ac2a1",
   "metadata": {},
   "source": [
    "DataFrame preparado para iniciar as análises"
   ]
  },
  {
   "cell_type": "code",
   "execution_count": null,
   "id": "32253f13",
   "metadata": {},
   "outputs": [],
   "source": []
  }
 ],
 "metadata": {
  "kernelspec": {
   "display_name": "Python 3 (ipykernel)",
   "language": "python",
   "name": "python3"
  },
  "language_info": {
   "codemirror_mode": {
    "name": "ipython",
    "version": 3
   },
   "file_extension": ".py",
   "mimetype": "text/x-python",
   "name": "python",
   "nbconvert_exporter": "python",
   "pygments_lexer": "ipython3",
   "version": "3.9.13"
  }
 },
 "nbformat": 4,
 "nbformat_minor": 5
}
