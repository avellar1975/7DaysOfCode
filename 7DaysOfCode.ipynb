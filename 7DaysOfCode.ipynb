{
 "cells": [
  {
   "cell_type": "markdown",
   "id": "40f1a491",
   "metadata": {},
   "source": [
    "<img src='./img/logo.jpg' width=800 align='left'>"
   ]
  },
  {
   "cell_type": "markdown",
   "id": "c3ec7ca2",
   "metadata": {},
   "source": [
    "_Autor: Evandro Avellar_"
   ]
  },
  {
   "cell_type": "markdown",
   "id": "cbee75d2",
   "metadata": {},
   "source": [
    "# Dia 01 - Importar Dados"
   ]
  },
  {
   "cell_type": "markdown",
   "id": "ff38248c",
   "metadata": {},
   "source": [
    "Dados de empréstimos dos acervos do sistema de bibliotecas da UFRN. "
   ]
  },
  {
   "cell_type": "code",
   "execution_count": 3,
   "id": "de6b6482",
   "metadata": {},
   "outputs": [],
   "source": [
    "import pandas as pd\n",
    "import os"
   ]
  },
  {
   "cell_type": "markdown",
   "id": "85583205",
   "metadata": {},
   "source": [
    "## Coleta e Organização dos Dados"
   ]
  },
  {
   "cell_type": "markdown",
   "id": "ecf58dd4",
   "metadata": {},
   "source": [
    "## Unificar em um único Dataframe todos os dados pertinentes para a análise. "
   ]
  },
  {
   "cell_type": "markdown",
   "id": "bca3be61",
   "metadata": {},
   "source": [
    "### Dados de empréstimos\n",
    "\n",
    "* Listando os arquivos csv de Empréstimos para unificá-los num único DataFrame.\n",
    "\n",
    "> https://docs.python.org/pt-br/3/library/os.html#os.listdir"
   ]
  },
  {
   "cell_type": "code",
   "execution_count": 83,
   "id": "1a6d00ca",
   "metadata": {},
   "outputs": [
    {
     "data": {
      "text/plain": [
       "['emprestimos-20101.csv',\n",
       " 'emprestimos-20102.csv',\n",
       " 'emprestimos-20111.csv',\n",
       " 'emprestimos-20112.csv',\n",
       " 'emprestimos-20121.csv',\n",
       " 'emprestimos-20122.csv',\n",
       " 'emprestimos-20131.csv',\n",
       " 'emprestimos-20132.csv',\n",
       " 'emprestimos-20141.csv',\n",
       " 'emprestimos-20142.csv',\n",
       " 'emprestimos-20151.csv',\n",
       " 'emprestimos-20152.csv',\n",
       " 'emprestimos-20161.csv',\n",
       " 'emprestimos-20162.csv',\n",
       " 'emprestimos-20171.csv',\n",
       " 'emprestimos-20172.csv',\n",
       " 'emprestimos-20181.csv',\n",
       " 'emprestimos-20182.csv',\n",
       " 'emprestimos-20191.csv',\n",
       " 'emprestimos-20192.csv',\n",
       " 'emprestimos-20201.csv']"
      ]
     },
     "execution_count": 83,
     "metadata": {},
     "output_type": "execute_result"
    }
   ],
   "source": [
    "arquivos = os.listdir('./Dia_1-Importando_dados/Datasets/dados_emprestimos/')\n",
    "arquivos"
   ]
  },
  {
   "cell_type": "markdown",
   "id": "1563cd43",
   "metadata": {},
   "source": [
    "Após listar os arquivos a serem importados, eles serão unificados em um único DataFrame através do método ```pd.concat()``` do Pandas.\n",
    "\n",
    "> https://pandas.pydata.org/docs/reference/api/pandas.concat.html"
   ]
  },
  {
   "cell_type": "code",
   "execution_count": 84,
   "id": "43a1750f",
   "metadata": {},
   "outputs": [],
   "source": [
    "tabela_x = pd.DataFrame()\n",
    "\n",
    "for arquivo in arquivos:\n",
    "    tabela_1 = pd.read_csv(f'./Dia_1-Importando_dados/Datasets/dados_emprestimos/{arquivo}')\n",
    "    tabela_x = pd.concat([tabela_x, tabela_1])    "
   ]
  },
  {
   "cell_type": "code",
   "execution_count": 85,
   "id": "a85656bd",
   "metadata": {},
   "outputs": [],
   "source": [
    "tabela_x.reset_index(inplace=True)"
   ]
  },
  {
   "cell_type": "markdown",
   "id": "0d8d2569",
   "metadata": {},
   "source": [
    "### Dados do acervo"
   ]
  },
  {
   "cell_type": "markdown",
   "id": "475d70eb",
   "metadata": {},
   "source": [
    "Para utilização do Pandas na leitura de arquivo .parquet é necessário instalar a biblioteca ___pyarrow___ e o método ___pd.read_parquet()___\n",
    "\n",
    "https://pandas.pydata.org/docs/reference/api/pandas.read_parquet.html"
   ]
  },
  {
   "cell_type": "code",
   "execution_count": 24,
   "id": "24221004",
   "metadata": {},
   "outputs": [
    {
     "name": "stdout",
     "output_type": "stream",
     "text": [
      "Collecting pyarrow\n",
      "  Downloading pyarrow-12.0.1-cp39-cp39-win_amd64.whl (21.5 MB)\n",
      "     -------------------------------------- 21.5/21.5 MB 588.6 kB/s eta 0:00:00\n",
      "Requirement already satisfied: numpy>=1.16.6 in c:\\users\\c050654\\anaconda3\\lib\\site-packages (from pyarrow) (1.21.5)\n",
      "Installing collected packages: pyarrow\n",
      "Successfully installed pyarrow-12.0.1\n"
     ]
    },
    {
     "name": "stderr",
     "output_type": "stream",
     "text": [
      "\n",
      "[notice] A new release of pip is available: 23.0.1 -> 23.1.2\n",
      "[notice] To update, run: python.exe -m pip install --upgrade pip\n"
     ]
    }
   ],
   "source": [
    "!pip install pyarrow"
   ]
  },
  {
   "cell_type": "code",
   "execution_count": 86,
   "id": "1735f7c7",
   "metadata": {},
   "outputs": [
    {
     "data": {
      "text/html": [
       "<div>\n",
       "<style scoped>\n",
       "    .dataframe tbody tr th:only-of-type {\n",
       "        vertical-align: middle;\n",
       "    }\n",
       "\n",
       "    .dataframe tbody tr th {\n",
       "        vertical-align: top;\n",
       "    }\n",
       "\n",
       "    .dataframe thead th {\n",
       "        text-align: right;\n",
       "    }\n",
       "</style>\n",
       "<table border=\"1\" class=\"dataframe\">\n",
       "  <thead>\n",
       "    <tr style=\"text-align: right;\">\n",
       "      <th></th>\n",
       "      <th>id_exemplar</th>\n",
       "      <th>codigo_barras</th>\n",
       "      <th>colecao</th>\n",
       "      <th>biblioteca</th>\n",
       "      <th>status_material</th>\n",
       "      <th>localizacao</th>\n",
       "      <th>registro_sistema</th>\n",
       "    </tr>\n",
       "    <tr>\n",
       "      <th>index</th>\n",
       "      <th></th>\n",
       "      <th></th>\n",
       "      <th></th>\n",
       "      <th></th>\n",
       "      <th></th>\n",
       "      <th></th>\n",
       "      <th></th>\n",
       "    </tr>\n",
       "  </thead>\n",
       "  <tbody>\n",
       "    <tr>\n",
       "      <th>0</th>\n",
       "      <td>5</td>\n",
       "      <td>L000003</td>\n",
       "      <td>Acervo Circulante</td>\n",
       "      <td>Biblioteca Central Zila Mamede</td>\n",
       "      <td>REGULAR</td>\n",
       "      <td>694</td>\n",
       "      <td>1</td>\n",
       "    </tr>\n",
       "    <tr>\n",
       "      <th>1</th>\n",
       "      <td>4</td>\n",
       "      <td>L000002</td>\n",
       "      <td>Acervo Circulante</td>\n",
       "      <td>Biblioteca Central Zila Mamede</td>\n",
       "      <td>REGULAR</td>\n",
       "      <td>688</td>\n",
       "      <td>1</td>\n",
       "    </tr>\n",
       "    <tr>\n",
       "      <th>2</th>\n",
       "      <td>3</td>\n",
       "      <td>L000001</td>\n",
       "      <td>Acervo Circulante</td>\n",
       "      <td>Biblioteca Central Zila Mamede</td>\n",
       "      <td>ESPECIAL</td>\n",
       "      <td>638</td>\n",
       "      <td>1</td>\n",
       "    </tr>\n",
       "    <tr>\n",
       "      <th>3</th>\n",
       "      <td>7</td>\n",
       "      <td>L000114</td>\n",
       "      <td>Acervo Circulante</td>\n",
       "      <td>Biblioteca Central Zila Mamede</td>\n",
       "      <td>REGULAR</td>\n",
       "      <td>616</td>\n",
       "      <td>5</td>\n",
       "    </tr>\n",
       "    <tr>\n",
       "      <th>5</th>\n",
       "      <td>10</td>\n",
       "      <td>L000041</td>\n",
       "      <td>Acervo Circulante</td>\n",
       "      <td>Biblioteca Central Zila Mamede</td>\n",
       "      <td>ESPECIAL</td>\n",
       "      <td>657</td>\n",
       "      <td>15</td>\n",
       "    </tr>\n",
       "    <tr>\n",
       "      <th>...</th>\n",
       "      <td>...</td>\n",
       "      <td>...</td>\n",
       "      <td>...</td>\n",
       "      <td>...</td>\n",
       "      <td>...</td>\n",
       "      <td>...</td>\n",
       "      <td>...</td>\n",
       "    </tr>\n",
       "    <tr>\n",
       "      <th>568580</th>\n",
       "      <td>1353472</td>\n",
       "      <td>2021011150</td>\n",
       "      <td>Acervo Circulante</td>\n",
       "      <td>Biblioteca Setorial do Núcleo de Educação da I...</td>\n",
       "      <td>REGULAR</td>\n",
       "      <td>951</td>\n",
       "      <td>268231</td>\n",
       "    </tr>\n",
       "    <tr>\n",
       "      <th>568581</th>\n",
       "      <td>1353473</td>\n",
       "      <td>2019013454</td>\n",
       "      <td>Acervo Circulante</td>\n",
       "      <td>Biblioteca Central Zila Mamede</td>\n",
       "      <td>ESPECIAL</td>\n",
       "      <td>997</td>\n",
       "      <td>268233</td>\n",
       "    </tr>\n",
       "    <tr>\n",
       "      <th>568582</th>\n",
       "      <td>1353474</td>\n",
       "      <td>2019012811</td>\n",
       "      <td>Acervo Circulante</td>\n",
       "      <td>Biblioteca Central Zila Mamede</td>\n",
       "      <td>ESPECIAL</td>\n",
       "      <td>987</td>\n",
       "      <td>268234</td>\n",
       "    </tr>\n",
       "    <tr>\n",
       "      <th>568583</th>\n",
       "      <td>1353475</td>\n",
       "      <td>2019013451</td>\n",
       "      <td>Acervo Circulante</td>\n",
       "      <td>Biblioteca Central Zila Mamede</td>\n",
       "      <td>ESPECIAL</td>\n",
       "      <td>764</td>\n",
       "      <td>268235</td>\n",
       "    </tr>\n",
       "    <tr>\n",
       "      <th>568584</th>\n",
       "      <td>1353476</td>\n",
       "      <td>2019012276</td>\n",
       "      <td>Acervo Circulante</td>\n",
       "      <td>Biblioteca Central Zila Mamede</td>\n",
       "      <td>ESPECIAL</td>\n",
       "      <td>962</td>\n",
       "      <td>268236</td>\n",
       "    </tr>\n",
       "  </tbody>\n",
       "</table>\n",
       "<p>546237 rows × 7 columns</p>\n",
       "</div>"
      ],
      "text/plain": [
       "        id_exemplar codigo_barras            colecao  \\\n",
       "index                                                  \n",
       "0                 5       L000003  Acervo Circulante   \n",
       "1                 4       L000002  Acervo Circulante   \n",
       "2                 3       L000001  Acervo Circulante   \n",
       "3                 7       L000114  Acervo Circulante   \n",
       "5                10       L000041  Acervo Circulante   \n",
       "...             ...           ...                ...   \n",
       "568580      1353472    2021011150  Acervo Circulante   \n",
       "568581      1353473    2019013454  Acervo Circulante   \n",
       "568582      1353474    2019012811  Acervo Circulante   \n",
       "568583      1353475    2019013451  Acervo Circulante   \n",
       "568584      1353476    2019012276  Acervo Circulante   \n",
       "\n",
       "                                               biblioteca status_material  \\\n",
       "index                                                                       \n",
       "0                          Biblioteca Central Zila Mamede         REGULAR   \n",
       "1                          Biblioteca Central Zila Mamede         REGULAR   \n",
       "2                          Biblioteca Central Zila Mamede        ESPECIAL   \n",
       "3                          Biblioteca Central Zila Mamede         REGULAR   \n",
       "5                          Biblioteca Central Zila Mamede        ESPECIAL   \n",
       "...                                                   ...             ...   \n",
       "568580  Biblioteca Setorial do Núcleo de Educação da I...         REGULAR   \n",
       "568581                     Biblioteca Central Zila Mamede        ESPECIAL   \n",
       "568582                     Biblioteca Central Zila Mamede        ESPECIAL   \n",
       "568583                     Biblioteca Central Zila Mamede        ESPECIAL   \n",
       "568584                     Biblioteca Central Zila Mamede        ESPECIAL   \n",
       "\n",
       "        localizacao  registro_sistema  \n",
       "index                                  \n",
       "0               694                 1  \n",
       "1               688                 1  \n",
       "2               638                 1  \n",
       "3               616                 5  \n",
       "5               657                15  \n",
       "...             ...               ...  \n",
       "568580          951            268231  \n",
       "568581          997            268233  \n",
       "568582          987            268234  \n",
       "568583          764            268235  \n",
       "568584          962            268236  \n",
       "\n",
       "[546237 rows x 7 columns]"
      ]
     },
     "execution_count": 86,
     "metadata": {},
     "output_type": "execute_result"
    }
   ],
   "source": [
    "acervo = pd.read_parquet('./Dia_1-Importando_dados/Datasets/dados_exemplares.parquet', engine='pyarrow')\n",
    "acervo"
   ]
  },
  {
   "cell_type": "markdown",
   "id": "e145800c",
   "metadata": {},
   "source": [
    "## Identificando dados nulos e vazios\n",
    "\n",
    "https://pandas.pydata.org/docs/reference/api/pandas.isna.html\n",
    "\n",
    "https://pandas.pydata.org/docs/reference/api/pandas.isnull.html"
   ]
  },
  {
   "cell_type": "code",
   "execution_count": 87,
   "id": "5e90dfb0",
   "metadata": {
    "scrolled": true
   },
   "outputs": [
    {
     "name": "stdout",
     "output_type": "stream",
     "text": [
      "index                         0\n",
      "id_emprestimo                 0\n",
      "codigo_barras                 0\n",
      "data_renovacao          1285720\n",
      "data_emprestimo               0\n",
      "data_devolucao             6471\n",
      "matricula_ou_siape         3170\n",
      "tipo_vinculo_usuario          0\n",
      "dtype: int64\n"
     ]
    }
   ],
   "source": [
    "# isna\n",
    "print(tabela_x.isna().sum())"
   ]
  },
  {
   "cell_type": "code",
   "execution_count": 88,
   "id": "cab482e5",
   "metadata": {},
   "outputs": [
    {
     "name": "stdout",
     "output_type": "stream",
     "text": [
      "index                         0\n",
      "id_emprestimo                 0\n",
      "codigo_barras                 0\n",
      "data_renovacao          1285720\n",
      "data_emprestimo               0\n",
      "data_devolucao             6471\n",
      "matricula_ou_siape         3170\n",
      "tipo_vinculo_usuario          0\n",
      "dtype: int64\n"
     ]
    }
   ],
   "source": [
    "# isnull\n",
    "print(tabela_x.isnull().sum())"
   ]
  },
  {
   "cell_type": "code",
   "execution_count": 89,
   "id": "c1c12f61",
   "metadata": {},
   "outputs": [
    {
     "name": "stdout",
     "output_type": "stream",
     "text": [
      "id_exemplar         0\n",
      "codigo_barras       0\n",
      "colecao             0\n",
      "biblioteca          0\n",
      "status_material     0\n",
      "localizacao         0\n",
      "registro_sistema    0\n",
      "dtype: int64\n"
     ]
    }
   ],
   "source": [
    "# isna\n",
    "print(acervo.isna().sum())"
   ]
  },
  {
   "cell_type": "code",
   "execution_count": 90,
   "id": "98beff0e",
   "metadata": {},
   "outputs": [
    {
     "name": "stdout",
     "output_type": "stream",
     "text": [
      "id_exemplar         0\n",
      "codigo_barras       0\n",
      "colecao             0\n",
      "biblioteca          0\n",
      "status_material     0\n",
      "localizacao         0\n",
      "registro_sistema    0\n",
      "dtype: int64\n"
     ]
    }
   ],
   "source": [
    "# isnull\n",
    "print(acervo.isnull().sum())"
   ]
  },
  {
   "cell_type": "markdown",
   "id": "8d653732",
   "metadata": {},
   "source": [
    "As colunas que apresentam dados nulos não afetarão a junção dos dataframes nesse momento."
   ]
  },
  {
   "cell_type": "markdown",
   "id": "b357ee7e",
   "metadata": {},
   "source": [
    "## Removendo dados duplicados\n",
    "\n",
    "Não poderemos trabalhar com registros com dados do código de barras duplicados no acervo pois serão utilizados como chaves para o merge.\n",
    "\n",
    "https://pandas.pydata.org/docs/reference/api/pandas.DataFrame.nunique.html"
   ]
  },
  {
   "cell_type": "code",
   "execution_count": 91,
   "id": "638742cf",
   "metadata": {},
   "outputs": [
    {
     "name": "stdout",
     "output_type": "stream",
     "text": [
      "545049\n",
      "546237\n"
     ]
    }
   ],
   "source": [
    "print(acervo['codigo_barras'].nunique())\n",
    "print(len(acervo))"
   ]
  },
  {
   "cell_type": "markdown",
   "id": "55f3cb29",
   "metadata": {},
   "source": [
    "Para tabela dos empréstimos não poderão ter registros duplicados com mesmo número na coluna id_emprestimo."
   ]
  },
  {
   "cell_type": "code",
   "execution_count": 92,
   "id": "f20730c2",
   "metadata": {},
   "outputs": [
    {
     "name": "stdout",
     "output_type": "stream",
     "text": [
      "2139267\n",
      "2258018\n"
     ]
    }
   ],
   "source": [
    "print(tabela_x['id_emprestimo'].nunique())\n",
    "print(len(tabela_x))"
   ]
  },
  {
   "cell_type": "markdown",
   "id": "b1d717b2",
   "metadata": {},
   "source": [
    "Eliminando os registros duplicados com o método ___drop_duplicates___\n",
    "\n",
    "https://pandas.pydata.org/docs/reference/api/pandas.DataFrame.drop_duplicates.html"
   ]
  },
  {
   "cell_type": "code",
   "execution_count": 93,
   "id": "5eeddfd5",
   "metadata": {},
   "outputs": [],
   "source": [
    "acervo_df = acervo.drop_duplicates(subset='codigo_barras', keep='first')\n",
    "emprestimos_df = tabela_x.drop_duplicates(subset='id_emprestimo', keep='first')"
   ]
  },
  {
   "cell_type": "code",
   "execution_count": 94,
   "id": "157ce807",
   "metadata": {},
   "outputs": [
    {
     "name": "stdout",
     "output_type": "stream",
     "text": [
      "2139267\n",
      "2139267\n"
     ]
    }
   ],
   "source": [
    "print(emprestimos_df['id_emprestimo'].nunique())\n",
    "print(len(emprestimos_df))"
   ]
  },
  {
   "cell_type": "code",
   "execution_count": 95,
   "id": "5942da63",
   "metadata": {},
   "outputs": [
    {
     "name": "stdout",
     "output_type": "stream",
     "text": [
      "545049\n",
      "545049\n"
     ]
    }
   ],
   "source": [
    "print(acervo_df['codigo_barras'].nunique())\n",
    "print(len(acervo_df))"
   ]
  },
  {
   "cell_type": "markdown",
   "id": "d7220a32",
   "metadata": {},
   "source": [
    "### Merge entre dos dois DataFrames (Acervo e Empréstimos)"
   ]
  },
  {
   "cell_type": "markdown",
   "id": "e2287783",
   "metadata": {},
   "source": [
    "Mesclando com os dados do acervo, para entender, por exemplo, de qual biblioteca era o material emprestado ou a qual tema ele se referia. A relação se dá pela coluna de código de barras de cada material. \n",
    "\n",
    "https://pandas.pydata.org/docs/reference/api/pandas.DataFrame.merge.html"
   ]
  },
  {
   "cell_type": "code",
   "execution_count": 96,
   "id": "1a8f4363",
   "metadata": {},
   "outputs": [],
   "source": [
    "df_1 = pd.merge(emprestimos_df, acervo_df, on = \"codigo_barras\")"
   ]
  },
  {
   "cell_type": "code",
   "execution_count": 97,
   "id": "860e04ab",
   "metadata": {},
   "outputs": [
    {
     "name": "stdout",
     "output_type": "stream",
     "text": [
      "<class 'pandas.core.frame.DataFrame'>\n",
      "Int64Index: 1955743 entries, 0 to 1955742\n",
      "Data columns (total 14 columns):\n",
      " #   Column                Dtype  \n",
      "---  ------                -----  \n",
      " 0   index                 int64  \n",
      " 1   id_emprestimo         int64  \n",
      " 2   codigo_barras         object \n",
      " 3   data_renovacao        object \n",
      " 4   data_emprestimo       object \n",
      " 5   data_devolucao        object \n",
      " 6   matricula_ou_siape    float64\n",
      " 7   tipo_vinculo_usuario  object \n",
      " 8   id_exemplar           int64  \n",
      " 9   colecao               object \n",
      " 10  biblioteca            object \n",
      " 11  status_material       object \n",
      " 12  localizacao           int64  \n",
      " 13  registro_sistema      int64  \n",
      "dtypes: float64(1), int64(5), object(8)\n",
      "memory usage: 223.8+ MB\n"
     ]
    }
   ],
   "source": [
    "df_1.info()"
   ]
  },
  {
   "cell_type": "code",
   "execution_count": 98,
   "id": "5980b739",
   "metadata": {},
   "outputs": [
    {
     "name": "stdout",
     "output_type": "stream",
     "text": [
      "index                         0\n",
      "id_emprestimo                 0\n",
      "codigo_barras                 0\n",
      "data_renovacao          1096082\n",
      "data_emprestimo               0\n",
      "data_devolucao             6138\n",
      "matricula_ou_siape         2705\n",
      "tipo_vinculo_usuario          0\n",
      "id_exemplar                   0\n",
      "colecao                       0\n",
      "biblioteca                    0\n",
      "status_material               0\n",
      "localizacao                   0\n",
      "registro_sistema              0\n",
      "dtype: int64\n"
     ]
    }
   ],
   "source": [
    "# isna\n",
    "print(df_1.isna().sum())"
   ]
  },
  {
   "cell_type": "code",
   "execution_count": 99,
   "id": "8488503b",
   "metadata": {},
   "outputs": [
    {
     "name": "stdout",
     "output_type": "stream",
     "text": [
      "index                         0\n",
      "id_emprestimo                 0\n",
      "codigo_barras                 0\n",
      "data_renovacao          1096082\n",
      "data_emprestimo               0\n",
      "data_devolucao             6138\n",
      "matricula_ou_siape         2705\n",
      "tipo_vinculo_usuario          0\n",
      "id_exemplar                   0\n",
      "colecao                       0\n",
      "biblioteca                    0\n",
      "status_material               0\n",
      "localizacao                   0\n",
      "registro_sistema              0\n",
      "dtype: int64\n"
     ]
    }
   ],
   "source": [
    "# isnull\n",
    "print(df_1.isnull().sum())"
   ]
  },
  {
   "cell_type": "markdown",
   "id": "b8adbe7d",
   "metadata": {},
   "source": [
    "DataFrame preparado para iniciar as análises"
   ]
  },
  {
   "cell_type": "markdown",
   "id": "ebddd168",
   "metadata": {},
   "source": [
    "## Limpeza de Dados\n",
    "\n",
    "### Criação de coluna de classes do CDU"
   ]
  },
  {
   "cell_type": "markdown",
   "id": "99917eb4",
   "metadata": {},
   "source": [
    "\"Os itens do acervo em uma biblioteca são organizados por um sistema de classificação de acordo com o respectivo tema. Existem diversos sistemas, mas este conjunto está de acordo com a CDU - Classificação Decimal Universal. Esta classificação é decimal, pois varia de acordo com a classe de cada assunto:\n",
    "\n",
    "*\t000 a 099: Generalidades. Ciência e conhecimento.\n",
    "*\t100 a 199: Filosofia e psicologia.\n",
    "*\t200 a 299: Religião.\n",
    "*\t300 a 399: Ciências sociais.\n",
    "*\t400 a 499: Classe vaga. Provisoriamente não ocupada.\n",
    "*\t500 a 599: Matemática e ciências naturais.\n",
    "*\t600 a 699: Ciências aplicadas.\n",
    "*\t700 a 799: Belas artes.\n",
    "*\t800 a 899: Linguagem. Língua. Linguística.\n",
    "*\t900 a 999: Geografia. Biografia. História.\"\n"
   ]
  },
  {
   "cell_type": "markdown",
   "id": "df0f23ab",
   "metadata": {},
   "source": [
    "Portanto, se um material tiver um código de localização 720, ele está dentro da classe geral de “Belas Artes”; ou se tiver um código 028, estará dentro da classe geral de “Generalidades. Ciência e conhecimento”.\n",
    "\n",
    "Para isso, crie uma nova coluna com os valores da localização, para refletir a respectiva classe geral na CDU."
   ]
  },
  {
   "cell_type": "code",
   "execution_count": 64,
   "id": "85443559",
   "metadata": {},
   "outputs": [],
   "source": [
    "def categorizar(num):\n",
    "    if num < 100:\n",
    "        return 'Generalidades. Ciência e conhecimento'\n",
    "    elif num >= 100 and num < 199: \n",
    "        return 'Filosofia e psicologia'\n",
    "    elif num >= 200 and num < 299:\n",
    "        return 'Religião'\n",
    "    elif num >= 300 and num <= 399:\n",
    "        return 'Ciências sociais'\n",
    "    elif num >= 400 and num <= 499: \n",
    "        return 'Classe vaga. Provisoriamente não ocupada'\n",
    "    elif num >= 500 and num <= 599: \n",
    "        return 'Matemática e ciências naturais'\n",
    "    elif num >= 600 and num <= 699: \n",
    "        return 'Ciências aplicadas.'\n",
    "    elif num >= 700 and num <= 799: \n",
    "        return 'Belas artes'\n",
    "    elif num >= 800 and num <= 899: \n",
    "        return 'Linguagem. Língua. Linguística'\n",
    "    elif num >= 900 and num <= 999: \n",
    "        return 'Geografia. Biografia. História'\n",
    "    else:\n",
    "        return \"Erro\""
   ]
  },
  {
   "cell_type": "code",
   "execution_count": 100,
   "id": "639ea6e2",
   "metadata": {},
   "outputs": [],
   "source": [
    "df_1['Classe'] = df_1['localizacao'].apply(categorizar)"
   ]
  },
  {
   "cell_type": "markdown",
   "id": "c6a9c1a4",
   "metadata": {},
   "source": [
    "### Exclusão da coluna \"registro_sistema\" \n",
    "\n",
    "A coluna \"registro_sistema\" não está fazendo sentido para essa análise, por isso será excluída."
   ]
  },
  {
   "cell_type": "code",
   "execution_count": 101,
   "id": "fca05da8",
   "metadata": {},
   "outputs": [],
   "source": [
    "df_1 = df_1[['index', 'id_emprestimo', 'codigo_barras', 'data_renovacao','data_emprestimo', 'data_devolucao', 'matricula_ou_siape',\n",
    "       'tipo_vinculo_usuario', 'id_exemplar', 'colecao', 'biblioteca','status_material', 'localizacao', 'Classe']]"
   ]
  },
  {
   "cell_type": "code",
   "execution_count": 102,
   "id": "8ede6a8d",
   "metadata": {},
   "outputs": [
    {
     "name": "stdout",
     "output_type": "stream",
     "text": [
      "<class 'pandas.core.frame.DataFrame'>\n",
      "Int64Index: 1955743 entries, 0 to 1955742\n",
      "Data columns (total 14 columns):\n",
      " #   Column                Dtype  \n",
      "---  ------                -----  \n",
      " 0   index                 int64  \n",
      " 1   id_emprestimo         int64  \n",
      " 2   codigo_barras         object \n",
      " 3   data_renovacao        object \n",
      " 4   data_emprestimo       object \n",
      " 5   data_devolucao        object \n",
      " 6   matricula_ou_siape    float64\n",
      " 7   tipo_vinculo_usuario  object \n",
      " 8   id_exemplar           int64  \n",
      " 9   colecao               object \n",
      " 10  biblioteca            object \n",
      " 11  status_material       object \n",
      " 12  localizacao           int64  \n",
      " 13  Classe                object \n",
      "dtypes: float64(1), int64(4), object(9)\n",
      "memory usage: 223.8+ MB\n"
     ]
    }
   ],
   "source": [
    "df_1.info()"
   ]
  },
  {
   "cell_type": "markdown",
   "id": "6dffa90f",
   "metadata": {},
   "source": [
    "### Transformar a coluna \"matricula_ou_siape\" no formato String\n",
    "\n",
    "A coluna da matricula (“matricula_ou_siape”) não está com um formato muito legível. \n",
    "Será transformada em formato String. "
   ]
  },
  {
   "cell_type": "code",
   "execution_count": 103,
   "id": "9bab1133",
   "metadata": {},
   "outputs": [],
   "source": [
    "df_1['matricula_ou_siape'] = df_1['matricula_ou_siape'].apply(str)"
   ]
  },
  {
   "cell_type": "code",
   "execution_count": 104,
   "id": "7f82ea49",
   "metadata": {},
   "outputs": [
    {
     "name": "stdout",
     "output_type": "stream",
     "text": [
      "<class 'pandas.core.frame.DataFrame'>\n",
      "Int64Index: 1955743 entries, 0 to 1955742\n",
      "Data columns (total 14 columns):\n",
      " #   Column                Dtype \n",
      "---  ------                ----- \n",
      " 0   index                 int64 \n",
      " 1   id_emprestimo         int64 \n",
      " 2   codigo_barras         object\n",
      " 3   data_renovacao        object\n",
      " 4   data_emprestimo       object\n",
      " 5   data_devolucao        object\n",
      " 6   matricula_ou_siape    object\n",
      " 7   tipo_vinculo_usuario  object\n",
      " 8   id_exemplar           int64 \n",
      " 9   colecao               object\n",
      " 10  biblioteca            object\n",
      " 11  status_material       object\n",
      " 12  localizacao           int64 \n",
      " 13  Classe                object\n",
      "dtypes: int64(4), object(10)\n",
      "memory usage: 223.8+ MB\n"
     ]
    }
   ],
   "source": [
    "df_final.info()"
   ]
  },
  {
   "cell_type": "code",
   "execution_count": 105,
   "id": "9a7dcfa2",
   "metadata": {},
   "outputs": [
    {
     "data": {
      "text/html": [
       "<div>\n",
       "<style scoped>\n",
       "    .dataframe tbody tr th:only-of-type {\n",
       "        vertical-align: middle;\n",
       "    }\n",
       "\n",
       "    .dataframe tbody tr th {\n",
       "        vertical-align: top;\n",
       "    }\n",
       "\n",
       "    .dataframe thead th {\n",
       "        text-align: right;\n",
       "    }\n",
       "</style>\n",
       "<table border=\"1\" class=\"dataframe\">\n",
       "  <thead>\n",
       "    <tr style=\"text-align: right;\">\n",
       "      <th></th>\n",
       "      <th>index</th>\n",
       "      <th>id_emprestimo</th>\n",
       "      <th>codigo_barras</th>\n",
       "      <th>data_renovacao</th>\n",
       "      <th>data_emprestimo</th>\n",
       "      <th>data_devolucao</th>\n",
       "      <th>matricula_ou_siape</th>\n",
       "      <th>tipo_vinculo_usuario</th>\n",
       "      <th>id_exemplar</th>\n",
       "      <th>colecao</th>\n",
       "      <th>biblioteca</th>\n",
       "      <th>status_material</th>\n",
       "      <th>localizacao</th>\n",
       "      <th>Classe</th>\n",
       "    </tr>\n",
       "  </thead>\n",
       "  <tbody>\n",
       "    <tr>\n",
       "      <th>0</th>\n",
       "      <td>0</td>\n",
       "      <td>709684</td>\n",
       "      <td>L095049</td>\n",
       "      <td>NaN</td>\n",
       "      <td>2010/01/04 07:44:10.721000000</td>\n",
       "      <td>2010/01/05 16:26:12.662000000</td>\n",
       "      <td>2008023265.0</td>\n",
       "      <td>ALUNO DE GRADUAÇÃO</td>\n",
       "      <td>13259</td>\n",
       "      <td>Acervo Circulante</td>\n",
       "      <td>Biblioteca Central Zila Mamede</td>\n",
       "      <td>REGULAR</td>\n",
       "      <td>630</td>\n",
       "      <td>Ciências aplicadas.</td>\n",
       "    </tr>\n",
       "    <tr>\n",
       "      <th>1</th>\n",
       "      <td>17278</td>\n",
       "      <td>726965</td>\n",
       "      <td>L095049</td>\n",
       "      <td>2010/03/31 12:41:08.684000000</td>\n",
       "      <td>2010/03/01 12:40:56.212000000</td>\n",
       "      <td>2010/04/30 14:42:35.366000000</td>\n",
       "      <td>2009121584.0</td>\n",
       "      <td>ALUNO DE PÓS-GRADUAÇÃO</td>\n",
       "      <td>13259</td>\n",
       "      <td>Acervo Circulante</td>\n",
       "      <td>Biblioteca Central Zila Mamede</td>\n",
       "      <td>REGULAR</td>\n",
       "      <td>630</td>\n",
       "      <td>Ciências aplicadas.</td>\n",
       "    </tr>\n",
       "    <tr>\n",
       "      <th>2</th>\n",
       "      <td>1</td>\n",
       "      <td>709685</td>\n",
       "      <td>L167050</td>\n",
       "      <td>NaN</td>\n",
       "      <td>2010/01/04 07:44:10.750000000</td>\n",
       "      <td>2010/01/12 07:34:13.934000000</td>\n",
       "      <td>2008023265.0</td>\n",
       "      <td>ALUNO DE GRADUAÇÃO</td>\n",
       "      <td>70865</td>\n",
       "      <td>Acervo Circulante</td>\n",
       "      <td>Biblioteca Central Zila Mamede</td>\n",
       "      <td>REGULAR</td>\n",
       "      <td>647</td>\n",
       "      <td>Ciências aplicadas.</td>\n",
       "    </tr>\n",
       "    <tr>\n",
       "      <th>3</th>\n",
       "      <td>8090</td>\n",
       "      <td>717763</td>\n",
       "      <td>L167050</td>\n",
       "      <td>NaN</td>\n",
       "      <td>2010/02/11 11:16:30.335000000</td>\n",
       "      <td>2010/03/04 08:54:32.262000000</td>\n",
       "      <td>2008050352.0</td>\n",
       "      <td>ALUNO DE GRADUAÇÃO</td>\n",
       "      <td>70865</td>\n",
       "      <td>Acervo Circulante</td>\n",
       "      <td>Biblioteca Central Zila Mamede</td>\n",
       "      <td>REGULAR</td>\n",
       "      <td>647</td>\n",
       "      <td>Ciências aplicadas.</td>\n",
       "    </tr>\n",
       "    <tr>\n",
       "      <th>4</th>\n",
       "      <td>20305</td>\n",
       "      <td>729996</td>\n",
       "      <td>L167050</td>\n",
       "      <td>2010/03/17 09:08:26.874000000</td>\n",
       "      <td>2010/03/04 13:36:26.599000000</td>\n",
       "      <td>2010/03/31 18:04:29.669000000</td>\n",
       "      <td>200722565.0</td>\n",
       "      <td>ALUNO DE GRADUAÇÃO</td>\n",
       "      <td>70865</td>\n",
       "      <td>Acervo Circulante</td>\n",
       "      <td>Biblioteca Central Zila Mamede</td>\n",
       "      <td>REGULAR</td>\n",
       "      <td>647</td>\n",
       "      <td>Ciências aplicadas.</td>\n",
       "    </tr>\n",
       "    <tr>\n",
       "      <th>...</th>\n",
       "      <td>...</td>\n",
       "      <td>...</td>\n",
       "      <td>...</td>\n",
       "      <td>...</td>\n",
       "      <td>...</td>\n",
       "      <td>...</td>\n",
       "      <td>...</td>\n",
       "      <td>...</td>\n",
       "      <td>...</td>\n",
       "      <td>...</td>\n",
       "      <td>...</td>\n",
       "      <td>...</td>\n",
       "      <td>...</td>\n",
       "      <td>...</td>\n",
       "    </tr>\n",
       "    <tr>\n",
       "      <th>1955738</th>\n",
       "      <td>26488</td>\n",
       "      <td>2989018</td>\n",
       "      <td>2009036492</td>\n",
       "      <td>NaN</td>\n",
       "      <td>2020/03/17 19:49:10.187000000</td>\n",
       "      <td>2020/12/03 08:12:20.000000000</td>\n",
       "      <td>20150109837.0</td>\n",
       "      <td>ALUNO DE GRADUAÇÃO</td>\n",
       "      <td>274820</td>\n",
       "      <td>Acervo Circulante</td>\n",
       "      <td>Biblioteca Central Zila Mamede</td>\n",
       "      <td>REGULAR</td>\n",
       "      <td>676</td>\n",
       "      <td>Ciências aplicadas.</td>\n",
       "    </tr>\n",
       "    <tr>\n",
       "      <th>1955739</th>\n",
       "      <td>26490</td>\n",
       "      <td>2989020</td>\n",
       "      <td>2014062640</td>\n",
       "      <td>NaN</td>\n",
       "      <td>2020/03/17 19:51:15.700000000</td>\n",
       "      <td>2021/01/07 11:16:28.000000000</td>\n",
       "      <td>20190035012.0</td>\n",
       "      <td>ALUNO DE GRADUAÇÃO</td>\n",
       "      <td>1157915</td>\n",
       "      <td>Acervo Circulante</td>\n",
       "      <td>Biblioteca Central Zila Mamede</td>\n",
       "      <td>REGULAR</td>\n",
       "      <td>228</td>\n",
       "      <td>Religião</td>\n",
       "    </tr>\n",
       "    <tr>\n",
       "      <th>1955740</th>\n",
       "      <td>26502</td>\n",
       "      <td>2989032</td>\n",
       "      <td>2018003324</td>\n",
       "      <td>NaN</td>\n",
       "      <td>2020/03/17 20:00:11.416000000</td>\n",
       "      <td>2021/08/30 13:29:44.000000000</td>\n",
       "      <td>20191021693.0</td>\n",
       "      <td>ALUNO DE PÓS-GRADUAÇÃO</td>\n",
       "      <td>1317173</td>\n",
       "      <td>Acervo Circulante</td>\n",
       "      <td>Biblioteca Setorial da Faculdade de Ciências d...</td>\n",
       "      <td>REGULAR</td>\n",
       "      <td>784</td>\n",
       "      <td>Belas artes</td>\n",
       "    </tr>\n",
       "    <tr>\n",
       "      <th>1955741</th>\n",
       "      <td>26519</td>\n",
       "      <td>2989049</td>\n",
       "      <td>2006024313</td>\n",
       "      <td>NaN</td>\n",
       "      <td>2020/03/17 20:47:18.741000000</td>\n",
       "      <td>NaN</td>\n",
       "      <td>20150129867.0</td>\n",
       "      <td>ALUNO DE GRADUAÇÃO</td>\n",
       "      <td>206073</td>\n",
       "      <td>Acervo Circulante</td>\n",
       "      <td>Biblioteca Central Zila Mamede</td>\n",
       "      <td>REGULAR</td>\n",
       "      <td>663</td>\n",
       "      <td>Ciências aplicadas.</td>\n",
       "    </tr>\n",
       "    <tr>\n",
       "      <th>1955742</th>\n",
       "      <td>26531</td>\n",
       "      <td>2989061</td>\n",
       "      <td>2018031352</td>\n",
       "      <td>NaN</td>\n",
       "      <td>2020/03/17 21:22:22.138000000</td>\n",
       "      <td>2021/07/26 15:05:20.000000000</td>\n",
       "      <td>20200005327.0</td>\n",
       "      <td>ALUNO DE GRADUAÇÃO</td>\n",
       "      <td>1342535</td>\n",
       "      <td>Acervo Circulante</td>\n",
       "      <td>Biblioteca Central Zila Mamede</td>\n",
       "      <td>REGULAR</td>\n",
       "      <td>355</td>\n",
       "      <td>Ciências sociais</td>\n",
       "    </tr>\n",
       "  </tbody>\n",
       "</table>\n",
       "<p>1955743 rows × 14 columns</p>\n",
       "</div>"
      ],
      "text/plain": [
       "         index  id_emprestimo codigo_barras                 data_renovacao  \\\n",
       "0            0         709684       L095049                            NaN   \n",
       "1        17278         726965       L095049  2010/03/31 12:41:08.684000000   \n",
       "2            1         709685       L167050                            NaN   \n",
       "3         8090         717763       L167050                            NaN   \n",
       "4        20305         729996       L167050  2010/03/17 09:08:26.874000000   \n",
       "...        ...            ...           ...                            ...   \n",
       "1955738  26488        2989018    2009036492                            NaN   \n",
       "1955739  26490        2989020    2014062640                            NaN   \n",
       "1955740  26502        2989032    2018003324                            NaN   \n",
       "1955741  26519        2989049    2006024313                            NaN   \n",
       "1955742  26531        2989061    2018031352                            NaN   \n",
       "\n",
       "                       data_emprestimo                 data_devolucao  \\\n",
       "0        2010/01/04 07:44:10.721000000  2010/01/05 16:26:12.662000000   \n",
       "1        2010/03/01 12:40:56.212000000  2010/04/30 14:42:35.366000000   \n",
       "2        2010/01/04 07:44:10.750000000  2010/01/12 07:34:13.934000000   \n",
       "3        2010/02/11 11:16:30.335000000  2010/03/04 08:54:32.262000000   \n",
       "4        2010/03/04 13:36:26.599000000  2010/03/31 18:04:29.669000000   \n",
       "...                                ...                            ...   \n",
       "1955738  2020/03/17 19:49:10.187000000  2020/12/03 08:12:20.000000000   \n",
       "1955739  2020/03/17 19:51:15.700000000  2021/01/07 11:16:28.000000000   \n",
       "1955740  2020/03/17 20:00:11.416000000  2021/08/30 13:29:44.000000000   \n",
       "1955741  2020/03/17 20:47:18.741000000                            NaN   \n",
       "1955742  2020/03/17 21:22:22.138000000  2021/07/26 15:05:20.000000000   \n",
       "\n",
       "        matricula_ou_siape    tipo_vinculo_usuario  id_exemplar  \\\n",
       "0             2008023265.0      ALUNO DE GRADUAÇÃO        13259   \n",
       "1             2009121584.0  ALUNO DE PÓS-GRADUAÇÃO        13259   \n",
       "2             2008023265.0      ALUNO DE GRADUAÇÃO        70865   \n",
       "3             2008050352.0      ALUNO DE GRADUAÇÃO        70865   \n",
       "4              200722565.0      ALUNO DE GRADUAÇÃO        70865   \n",
       "...                    ...                     ...          ...   \n",
       "1955738      20150109837.0      ALUNO DE GRADUAÇÃO       274820   \n",
       "1955739      20190035012.0      ALUNO DE GRADUAÇÃO      1157915   \n",
       "1955740      20191021693.0  ALUNO DE PÓS-GRADUAÇÃO      1317173   \n",
       "1955741      20150129867.0      ALUNO DE GRADUAÇÃO       206073   \n",
       "1955742      20200005327.0      ALUNO DE GRADUAÇÃO      1342535   \n",
       "\n",
       "                   colecao                                         biblioteca  \\\n",
       "0        Acervo Circulante                     Biblioteca Central Zila Mamede   \n",
       "1        Acervo Circulante                     Biblioteca Central Zila Mamede   \n",
       "2        Acervo Circulante                     Biblioteca Central Zila Mamede   \n",
       "3        Acervo Circulante                     Biblioteca Central Zila Mamede   \n",
       "4        Acervo Circulante                     Biblioteca Central Zila Mamede   \n",
       "...                    ...                                                ...   \n",
       "1955738  Acervo Circulante                     Biblioteca Central Zila Mamede   \n",
       "1955739  Acervo Circulante                     Biblioteca Central Zila Mamede   \n",
       "1955740  Acervo Circulante  Biblioteca Setorial da Faculdade de Ciências d...   \n",
       "1955741  Acervo Circulante                     Biblioteca Central Zila Mamede   \n",
       "1955742  Acervo Circulante                     Biblioteca Central Zila Mamede   \n",
       "\n",
       "        status_material  localizacao               Classe  \n",
       "0               REGULAR          630  Ciências aplicadas.  \n",
       "1               REGULAR          630  Ciências aplicadas.  \n",
       "2               REGULAR          647  Ciências aplicadas.  \n",
       "3               REGULAR          647  Ciências aplicadas.  \n",
       "4               REGULAR          647  Ciências aplicadas.  \n",
       "...                 ...          ...                  ...  \n",
       "1955738         REGULAR          676  Ciências aplicadas.  \n",
       "1955739         REGULAR          228             Religião  \n",
       "1955740         REGULAR          784          Belas artes  \n",
       "1955741         REGULAR          663  Ciências aplicadas.  \n",
       "1955742         REGULAR          355     Ciências sociais  \n",
       "\n",
       "[1955743 rows x 14 columns]"
      ]
     },
     "execution_count": 105,
     "metadata": {},
     "output_type": "execute_result"
    }
   ],
   "source": [
    "df_1"
   ]
  },
  {
   "cell_type": "code",
   "execution_count": null,
   "id": "2c500bfe",
   "metadata": {},
   "outputs": [],
   "source": []
  }
 ],
 "metadata": {
  "kernelspec": {
   "display_name": "Python 3 (ipykernel)",
   "language": "python",
   "name": "python3"
  },
  "language_info": {
   "codemirror_mode": {
    "name": "ipython",
    "version": 3
   },
   "file_extension": ".py",
   "mimetype": "text/x-python",
   "name": "python",
   "nbconvert_exporter": "python",
   "pygments_lexer": "ipython3",
   "version": "3.9.13"
  }
 },
 "nbformat": 4,
 "nbformat_minor": 5
}
